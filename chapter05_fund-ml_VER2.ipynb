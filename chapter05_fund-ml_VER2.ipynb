{
  "cells": [
    {
      "cell_type": "markdown",
      "metadata": {
        "id": "ctzi6UAVB68u"
      },
      "source": [
        "This is a companion notebook for the book [Deep Learning with Python, Second Edition](https://www.manning.com/books/deep-learning-with-python-second-edition?a_aid=keras&a_bid=76564dff). For readability, it only contains runnable code blocks and section titles, and omits everything else in the book: text paragraphs, figures, and pseudocode.\n",
        "\n",
        "**If you want to be able to follow what's going on, I recommend reading the notebook side by side with your copy of the book.**\n",
        "\n",
        "This notebook was generated for TensorFlow 2.6."
      ]
    },
    {
      "cell_type": "markdown",
      "metadata": {
        "id": "9h8i9YJxB68w"
      },
      "source": [
        "# Fundamentals of machine learning"
      ]
    },
    {
      "cell_type": "markdown",
      "metadata": {
        "id": "FtExaOXUB68w"
      },
      "source": [
        "## Generalization: The goal of machine learning"
      ]
    },
    {
      "cell_type": "markdown",
      "metadata": {
        "id": "yGOaFHsXB68x"
      },
      "source": [
        "### Underfitting and overfitting"
      ]
    },
    {
      "cell_type": "markdown",
      "metadata": {
        "id": "WPSPSRFiB68x"
      },
      "source": [
        "#### Noisy training data"
      ]
    },
    {
      "cell_type": "markdown",
      "metadata": {
        "id": "waHtHMpaB68x"
      },
      "source": [
        "#### Ambiguous features"
      ]
    },
    {
      "cell_type": "markdown",
      "metadata": {
        "id": "PLxcyqdoB68x"
      },
      "source": [
        "#### Rare features and spurious correlations"
      ]
    },
    {
      "cell_type": "markdown",
      "metadata": {
        "id": "vrhlUmdtB68x"
      },
      "source": [
        "# Let's see how \"Quality\" of Data Matters\n",
        "\n",
        "**Adding white-noise channels or all-zeros channels to MNIST**"
      ]
    },
    {
      "cell_type": "code",
      "execution_count": 2,
      "metadata": {
        "id": "DGdoenm-B68x",
        "outputId": "fda573bc-b4c3-417c-efd3-a6c52ebdbd38",
        "colab": {
          "base_uri": "https://localhost:8080/"
        }
      },
      "outputs": [
        {
          "output_type": "stream",
          "name": "stdout",
          "text": [
            "CPU times: user 3.97 s, sys: 991 ms, total: 4.96 s\n",
            "Wall time: 7.67 s\n"
          ]
        }
      ],
      "source": [
        "%%time\n",
        "from tensorflow.keras.datasets import mnist\n",
        "import numpy as np\n",
        "\n",
        "(train_images, train_labels), _ = mnist.load_data()\n",
        "train_images = train_images.reshape((60000, 28 * 28))\n",
        "train_images = train_images.astype(\"float32\") / 255\n",
        "\n",
        "\n",
        "train_images_with_noise_channels = np.concatenate(\n",
        "    [train_images, np.random.random((len(train_images), 784))], axis=1)\n",
        "\n",
        "train_images_with_zeros_channels = np.concatenate(\n",
        "    [train_images, np.zeros((len(train_images), 784))], axis=1)"
      ]
    },
    {
      "cell_type": "code",
      "source": [
        "train_images.shape"
      ],
      "metadata": {
        "id": "SlJLKld7Xb9M",
        "outputId": "32f47a73-2af2-4fb8-ccd2-c2a8ab599eac",
        "colab": {
          "base_uri": "https://localhost:8080/"
        }
      },
      "execution_count": 3,
      "outputs": [
        {
          "output_type": "execute_result",
          "data": {
            "text/plain": [
              "(60000, 784)"
            ]
          },
          "metadata": {},
          "execution_count": 3
        }
      ]
    },
    {
      "cell_type": "code",
      "source": [
        "train_images_with_noise_channels.shape"
      ],
      "metadata": {
        "id": "0W_i8ce2XCI-",
        "outputId": "0464de03-ca5c-4a15-b745-25f82627e3d7",
        "colab": {
          "base_uri": "https://localhost:8080/"
        }
      },
      "execution_count": 4,
      "outputs": [
        {
          "output_type": "execute_result",
          "data": {
            "text/plain": [
              "(60000, 1568)"
            ]
          },
          "metadata": {},
          "execution_count": 4
        }
      ]
    },
    {
      "cell_type": "code",
      "source": [
        "train_images_with_noise_channels[0]"
      ],
      "metadata": {
        "id": "kQXxJ5VFXS9H",
        "outputId": "d39be2ab-c186-48a8-9db2-482c64d25c81",
        "colab": {
          "base_uri": "https://localhost:8080/"
        }
      },
      "execution_count": 5,
      "outputs": [
        {
          "output_type": "execute_result",
          "data": {
            "text/plain": [
              "array([0.        , 0.        , 0.        , ..., 0.23270145, 0.72383197,\n",
              "       0.34889124])"
            ]
          },
          "metadata": {},
          "execution_count": 5
        }
      ]
    },
    {
      "cell_type": "code",
      "source": [
        "train_images_with_zeros_channels.shape"
      ],
      "metadata": {
        "id": "yC8THboiXTNB",
        "outputId": "8dba35e1-aa32-4c24-f0b0-6d88cb80c31d",
        "colab": {
          "base_uri": "https://localhost:8080/"
        }
      },
      "execution_count": 6,
      "outputs": [
        {
          "output_type": "execute_result",
          "data": {
            "text/plain": [
              "(60000, 1568)"
            ]
          },
          "metadata": {},
          "execution_count": 6
        }
      ]
    },
    {
      "cell_type": "code",
      "source": [
        "train_images_with_zeros_channels[0]"
      ],
      "metadata": {
        "id": "fe9dc4T9Xn71",
        "outputId": "171889e8-774e-4e83-a446-009d1373e585",
        "colab": {
          "base_uri": "https://localhost:8080/"
        }
      },
      "execution_count": 7,
      "outputs": [
        {
          "output_type": "execute_result",
          "data": {
            "text/plain": [
              "array([0., 0., 0., ..., 0., 0., 0.])"
            ]
          },
          "metadata": {},
          "execution_count": 7
        }
      ]
    },
    {
      "cell_type": "markdown",
      "metadata": {
        "id": "rbms7438B68z"
      },
      "source": [
        "**Training the same model on MNIST data with noise channels or all-zero channels**"
      ]
    },
    {
      "cell_type": "code",
      "execution_count": 8,
      "metadata": {
        "id": "guLeiIzgB68z",
        "outputId": "58507715-b02f-47f5-cc98-e810c3c39744",
        "colab": {
          "base_uri": "https://localhost:8080/"
        }
      },
      "outputs": [
        {
          "output_type": "stream",
          "name": "stdout",
          "text": [
            "Epoch 1/5\n",
            "375/375 [==============================] - 7s 4ms/step - loss: 0.2971 - accuracy: 0.9148 - val_loss: 0.1669 - val_accuracy: 0.9517\n",
            "Epoch 2/5\n",
            "375/375 [==============================] - 1s 3ms/step - loss: 0.1253 - accuracy: 0.9642 - val_loss: 0.1128 - val_accuracy: 0.9685\n",
            "Epoch 3/5\n",
            "375/375 [==============================] - 1s 3ms/step - loss: 0.0817 - accuracy: 0.9762 - val_loss: 0.0920 - val_accuracy: 0.9718\n",
            "Epoch 4/5\n",
            "375/375 [==============================] - 1s 4ms/step - loss: 0.0582 - accuracy: 0.9835 - val_loss: 0.0951 - val_accuracy: 0.9715\n",
            "Epoch 5/5\n",
            "375/375 [==============================] - 1s 4ms/step - loss: 0.0431 - accuracy: 0.9871 - val_loss: 0.0790 - val_accuracy: 0.9771\n",
            "Epoch 1/5\n",
            "375/375 [==============================] - 3s 5ms/step - loss: 0.6183 - accuracy: 0.8111 - val_loss: 0.2751 - val_accuracy: 0.9194\n",
            "Epoch 2/5\n",
            "375/375 [==============================] - 1s 4ms/step - loss: 0.2682 - accuracy: 0.9174 - val_loss: 0.2048 - val_accuracy: 0.9359\n",
            "Epoch 3/5\n",
            "375/375 [==============================] - 2s 5ms/step - loss: 0.1723 - accuracy: 0.9466 - val_loss: 0.1565 - val_accuracy: 0.9552\n",
            "Epoch 4/5\n",
            "375/375 [==============================] - 1s 4ms/step - loss: 0.1217 - accuracy: 0.9620 - val_loss: 0.1602 - val_accuracy: 0.9504\n",
            "Epoch 5/5\n",
            "375/375 [==============================] - 1s 4ms/step - loss: 0.0910 - accuracy: 0.9713 - val_loss: 0.1383 - val_accuracy: 0.9613\n",
            "Epoch 1/5\n",
            "375/375 [==============================] - 3s 6ms/step - loss: 0.2964 - accuracy: 0.9146 - val_loss: 0.1488 - val_accuracy: 0.9564\n",
            "Epoch 2/5\n",
            "375/375 [==============================] - 1s 4ms/step - loss: 0.1223 - accuracy: 0.9641 - val_loss: 0.1235 - val_accuracy: 0.9633\n",
            "Epoch 3/5\n",
            "375/375 [==============================] - 2s 5ms/step - loss: 0.0794 - accuracy: 0.9765 - val_loss: 0.0930 - val_accuracy: 0.9726\n",
            "Epoch 4/5\n",
            "375/375 [==============================] - 2s 4ms/step - loss: 0.0566 - accuracy: 0.9838 - val_loss: 0.0795 - val_accuracy: 0.9768\n",
            "Epoch 5/5\n",
            "375/375 [==============================] - 1s 4ms/step - loss: 0.0423 - accuracy: 0.9879 - val_loss: 0.0774 - val_accuracy: 0.9764\n",
            "CPU times: user 27.4 s, sys: 4.1 s, total: 31.5 s\n",
            "Wall time: 48.2 s\n"
          ]
        }
      ],
      "source": [
        "%%time\n",
        "\n",
        "NEPOCHS = 5\n",
        "from tensorflow import keras\n",
        "from tensorflow.keras import layers\n",
        "\n",
        "def get_model():\n",
        "    model = keras.Sequential([\n",
        "        layers.Dense(512, activation=\"relu\"),\n",
        "        layers.Dense(10, activation=\"softmax\")\n",
        "    ])\n",
        "    model.compile(optimizer=\"rmsprop\",\n",
        "                  loss=\"sparse_categorical_crossentropy\",\n",
        "                  metrics=[\"accuracy\"])\n",
        "    return model\n",
        "\n",
        "model = get_model()\n",
        "history = model.fit(\n",
        "    train_images, train_labels,\n",
        "    epochs=NEPOCHS,\n",
        "    batch_size=128,\n",
        "    validation_split=0.2)\n",
        "\n",
        "model = get_model()\n",
        "history_noise = model.fit(\n",
        "    train_images_with_noise_channels, train_labels,\n",
        "    epochs=NEPOCHS,\n",
        "    batch_size=128,\n",
        "    validation_split=0.2)\n",
        "\n",
        "model = get_model()\n",
        "history_zeros = model.fit(\n",
        "    train_images_with_zeros_channels, train_labels,\n",
        "    epochs=NEPOCHS,\n",
        "    batch_size=128,\n",
        "    validation_split=0.2)"
      ]
    },
    {
      "cell_type": "markdown",
      "metadata": {
        "id": "ahc3sajoB68z"
      },
      "source": [
        "**Plotting a validation accuracy comparison**"
      ]
    },
    {
      "cell_type": "code",
      "execution_count": 9,
      "metadata": {
        "id": "bg9qskcQB68z",
        "outputId": "cb3b30fc-92b8-4125-d3a4-1a631b956550",
        "colab": {
          "base_uri": "https://localhost:8080/",
          "height": 524
        }
      },
      "outputs": [
        {
          "output_type": "stream",
          "name": "stdout",
          "text": [
            "CPU times: user 27.5 ms, sys: 3.05 ms, total: 30.5 ms\n",
            "Wall time: 29.9 ms\n"
          ]
        },
        {
          "output_type": "execute_result",
          "data": {
            "text/plain": [
              "<matplotlib.legend.Legend at 0x7dcd9aa25f30>"
            ]
          },
          "metadata": {},
          "execution_count": 9
        },
        {
          "output_type": "display_data",
          "data": {
            "text/plain": [
              "<Figure size 640x480 with 1 Axes>"
            ],
            "image/png": "[encoded data removed]"
          },
          "metadata": {}
        }
      ],
      "source": [
        "%%time\n",
        "import matplotlib.pyplot as plt\n",
        "val_acc_orig = history.history[\"val_accuracy\"]\n",
        "val_acc_noise = history_noise.history[\"val_accuracy\"]\n",
        "val_acc_zeros = history_zeros.history[\"val_accuracy\"]\n",
        "epochs = range(1, (NEPOCHS+1))\n",
        "\n",
        "plt.plot(epochs, val_acc_orig, \"g-.\",\n",
        "         label=\"Validation accuracy with original data\")\n",
        "plt.plot(epochs, val_acc_zeros, \"b--\",\n",
        "         label=\"Validation accuracy with zeros channels\")\n",
        "plt.plot(epochs, val_acc_noise, \"r-\",\n",
        "         label=\"Validation accuracy with noise channels\")\n",
        "plt.title(\"Effect of noise channels on validation accuracy\")\n",
        "plt.xlabel(\"Epochs\")\n",
        "plt.ylabel(\"Validation Accuracy\")\n",
        "plt.legend()"
      ]
    },
    {
      "cell_type": "markdown",
      "metadata": {
        "id": "YTVJPen1B680"
      },
      "source": [
        "### The nature of generalization in deep learning"
      ]
    },
    {
      "cell_type": "markdown",
      "metadata": {
        "id": "NG_RAnezB680"
      },
      "source": [
        "**Fitting a MNIST model with randomly shuffled labels**"
      ]
    },
    {
      "cell_type": "code",
      "execution_count": 10,
      "metadata": {
        "id": "4UotPGM8B680",
        "outputId": "a0bed5bf-d977-403f-f488-8acf176e6bb4",
        "colab": {
          "base_uri": "https://localhost:8080/"
        }
      },
      "outputs": [
        {
          "output_type": "stream",
          "name": "stdout",
          "text": [
            "Epoch 1/25\n",
            "94/94 [==============================] - 1s 7ms/step - loss: 2.3249 - accuracy: 0.1029 - val_loss: 2.3116 - val_accuracy: 0.1013\n",
            "Epoch 2/25\n",
            "94/94 [==============================] - 0s 5ms/step - loss: 2.2975 - accuracy: 0.1201 - val_loss: 2.3093 - val_accuracy: 0.1056\n",
            "Epoch 3/25\n",
            "94/94 [==============================] - 1s 6ms/step - loss: 2.2866 - accuracy: 0.1314 - val_loss: 2.3133 - val_accuracy: 0.1037\n",
            "Epoch 4/25\n",
            "94/94 [==============================] - 1s 6ms/step - loss: 2.2743 - accuracy: 0.1436 - val_loss: 2.3194 - val_accuracy: 0.0998\n",
            "Epoch 5/25\n",
            "94/94 [==============================] - 0s 5ms/step - loss: 2.2620 - accuracy: 0.1532 - val_loss: 2.3225 - val_accuracy: 0.1040\n",
            "Epoch 6/25\n",
            "94/94 [==============================] - 1s 6ms/step - loss: 2.2471 - accuracy: 0.1680 - val_loss: 2.3292 - val_accuracy: 0.1077\n",
            "Epoch 7/25\n",
            "94/94 [==============================] - 1s 6ms/step - loss: 2.2324 - accuracy: 0.1801 - val_loss: 2.3385 - val_accuracy: 0.1047\n",
            "Epoch 8/25\n",
            "94/94 [==============================] - 1s 6ms/step - loss: 2.2151 - accuracy: 0.1890 - val_loss: 2.3522 - val_accuracy: 0.0998\n",
            "Epoch 9/25\n",
            "94/94 [==============================] - 1s 6ms/step - loss: 2.1962 - accuracy: 0.2004 - val_loss: 2.3508 - val_accuracy: 0.1048\n",
            "Epoch 10/25\n",
            "94/94 [==============================] - 1s 7ms/step - loss: 2.1764 - accuracy: 0.2134 - val_loss: 2.3655 - val_accuracy: 0.1042\n",
            "Epoch 11/25\n",
            "94/94 [==============================] - 1s 7ms/step - loss: 2.1567 - accuracy: 0.2238 - val_loss: 2.3736 - val_accuracy: 0.1065\n",
            "Epoch 12/25\n",
            "94/94 [==============================] - 1s 7ms/step - loss: 2.1353 - accuracy: 0.2375 - val_loss: 2.3844 - val_accuracy: 0.1022\n",
            "Epoch 13/25\n",
            "94/94 [==============================] - 1s 6ms/step - loss: 2.1119 - accuracy: 0.2456 - val_loss: 2.3963 - val_accuracy: 0.0978\n",
            "Epoch 14/25\n",
            "94/94 [==============================] - 0s 5ms/step - loss: 2.0902 - accuracy: 0.2587 - val_loss: 2.4032 - val_accuracy: 0.0988\n",
            "Epoch 15/25\n",
            "94/94 [==============================] - 1s 6ms/step - loss: 2.0648 - accuracy: 0.2721 - val_loss: 2.4294 - val_accuracy: 0.1016\n",
            "Epoch 16/25\n",
            "94/94 [==============================] - 0s 5ms/step - loss: 2.0407 - accuracy: 0.2836 - val_loss: 2.4456 - val_accuracy: 0.1058\n",
            "Epoch 17/25\n",
            "94/94 [==============================] - 1s 6ms/step - loss: 2.0160 - accuracy: 0.2940 - val_loss: 2.4599 - val_accuracy: 0.0988\n",
            "Epoch 18/25\n",
            "94/94 [==============================] - 0s 5ms/step - loss: 1.9917 - accuracy: 0.3069 - val_loss: 2.4668 - val_accuracy: 0.1018\n",
            "Epoch 19/25\n",
            "94/94 [==============================] - 1s 6ms/step - loss: 1.9658 - accuracy: 0.3162 - val_loss: 2.4830 - val_accuracy: 0.0999\n",
            "Epoch 20/25\n",
            "94/94 [==============================] - 1s 6ms/step - loss: 1.9407 - accuracy: 0.3275 - val_loss: 2.5098 - val_accuracy: 0.1037\n",
            "Epoch 21/25\n",
            "94/94 [==============================] - 0s 5ms/step - loss: 1.9172 - accuracy: 0.3370 - val_loss: 2.5171 - val_accuracy: 0.0988\n",
            "Epoch 22/25\n",
            "94/94 [==============================] - 1s 6ms/step - loss: 1.8916 - accuracy: 0.3500 - val_loss: 2.5434 - val_accuracy: 0.1053\n",
            "Epoch 23/25\n",
            "94/94 [==============================] - 1s 10ms/step - loss: 1.8666 - accuracy: 0.3601 - val_loss: 2.5418 - val_accuracy: 0.0963\n",
            "Epoch 24/25\n",
            "94/94 [==============================] - 0s 5ms/step - loss: 1.8405 - accuracy: 0.3705 - val_loss: 2.5763 - val_accuracy: 0.1012\n",
            "Epoch 25/25\n",
            "94/94 [==============================] - 0s 5ms/step - loss: 1.8198 - accuracy: 0.3775 - val_loss: 2.5973 - val_accuracy: 0.1027\n",
            "CPU times: user 14.7 s, sys: 1.25 s, total: 16 s\n",
            "Wall time: 21.6 s\n"
          ]
        }
      ],
      "source": [
        "%%time\n",
        "\n",
        "NEPS = 25\n",
        "BATCH_SZ = 512\n",
        "\n",
        "(train_images, train_labels), _ = mnist.load_data()\n",
        "train_images = train_images.reshape((60000, 28 * 28))\n",
        "train_images = train_images.astype(\"float32\") / 255\n",
        "\n",
        "random_train_labels = train_labels[:]\n",
        "np.random.shuffle(random_train_labels)\n",
        "\n",
        "model = keras.Sequential([\n",
        "    layers.Dense(512, activation=\"relu\"),\n",
        "    layers.Dense(10, activation=\"softmax\")\n",
        "])\n",
        "model.compile(optimizer=\"rmsprop\",\n",
        "              loss=\"sparse_categorical_crossentropy\",\n",
        "              metrics=[\"accuracy\"])\n",
        "history = model.fit(train_images, random_train_labels,\n",
        "          epochs=NEPS,\n",
        "          batch_size=BATCH_SZ,\n",
        "          validation_split=0.2)"
      ]
    },
    {
      "cell_type": "code",
      "source": [
        "%%time\n",
        "val_acc = history.history[\"val_accuracy\"]\n",
        "print(len(val_acc))\n",
        "\n",
        "\n",
        "val_loss = history.history[\"val_loss\"]\n",
        "print(len(val_loss))\n",
        "\n",
        "val_loss\n",
        "# history.history"
      ],
      "metadata": {
        "id": "7laRr7N54_Hp",
        "outputId": "fdb5a2c5-27d4-4568-e51f-5f08d4f31307",
        "colab": {
          "base_uri": "https://localhost:8080/"
        }
      },
      "execution_count": 11,
      "outputs": [
        {
          "output_type": "stream",
          "name": "stdout",
          "text": [
            "25\n",
            "25\n",
            "CPU times: user 1.36 ms, sys: 0 ns, total: 1.36 ms\n",
            "Wall time: 2.33 ms\n"
          ]
        },
        {
          "output_type": "execute_result",
          "data": {
            "text/plain": [
              "[2.311556577682495,\n",
              " 2.309250593185425,\n",
              " 2.3133277893066406,\n",
              " 2.3193578720092773,\n",
              " 2.3225107192993164,\n",
              " 2.3291513919830322,\n",
              " 2.338454484939575,\n",
              " 2.352231025695801,\n",
              " 2.3508048057556152,\n",
              " 2.3654839992523193,\n",
              " 2.373596429824829,\n",
              " 2.3843729496002197,\n",
              " 2.3963143825531006,\n",
              " 2.40317964553833,\n",
              " 2.4294328689575195,\n",
              " 2.4456355571746826,\n",
              " 2.459901809692383,\n",
              " 2.466813564300537,\n",
              " 2.4830095767974854,\n",
              " 2.5097761154174805,\n",
              " 2.5170865058898926,\n",
              " 2.5433566570281982,\n",
              " 2.5418155193328857,\n",
              " 2.5763165950775146,\n",
              " 2.5972704887390137]"
            ]
          },
          "metadata": {},
          "execution_count": 11
        }
      ]
    },
    {
      "cell_type": "code",
      "source": [
        "%%time\n",
        "import matplotlib.pyplot as plt\n",
        "val_acc = history.history[\"val_accuracy\"]\n",
        "val_loss = history.history[\"val_loss\"]\n",
        "epochs = range(1, (NEPS+1))\n",
        "\n",
        "plt.plot(epochs, val_acc, \"g-.\",\n",
        "         label=\"Validation accuracy with SHUFFLED labels\")\n",
        "plt.plot(epochs, val_loss, \"r--\",\n",
        "         label=\"Validation LOSS with SHUFFLED labels\")\n",
        "plt.title(\"Effect of SHUFFLING on validation accuracy\")\n",
        "plt.xlabel(\"Epochs\")\n",
        "plt.ylabel(\"Validation Accuracy/LOSS\")\n",
        "plt.legend()"
      ],
      "metadata": {
        "id": "dWgsUILK4dXT",
        "outputId": "5db23718-20c1-475b-ac59-118078dd8223",
        "colab": {
          "base_uri": "https://localhost:8080/",
          "height": 524
        }
      },
      "execution_count": 12,
      "outputs": [
        {
          "output_type": "stream",
          "name": "stdout",
          "text": [
            "CPU times: user 27.6 ms, sys: 0 ns, total: 27.6 ms\n",
            "Wall time: 28 ms\n"
          ]
        },
        {
          "output_type": "execute_result",
          "data": {
            "text/plain": [
              "<matplotlib.legend.Legend at 0x7dcdb83c25f0>"
            ]
          },
          "metadata": {},
          "execution_count": 12
        },
        {
          "output_type": "display_data",
          "data": {
            "text/plain": [
              "<Figure size 640x480 with 1 Axes>"
            ],
            "image/png": "[encoded data removed]"
          },
          "metadata": {}
        }
      ]
    },
    {
      "cell_type": "markdown",
      "metadata": {
        "id": "xsVcI-pMB680"
      },
      "source": [
        "#### The manifold hypothesis"
      ]
    },
    {
      "cell_type": "markdown",
      "metadata": {
        "id": "LvX9p0EaB680"
      },
      "source": [
        "#### Interpolation as a source of generalization"
      ]
    },
    {
      "cell_type": "markdown",
      "metadata": {
        "id": "CYOYWe2gB680"
      },
      "source": [
        "#### Why deep learning works"
      ]
    },
    {
      "cell_type": "markdown",
      "metadata": {
        "id": "PAjZGcYWB680"
      },
      "source": [
        "#### Training data is paramount"
      ]
    },
    {
      "cell_type": "markdown",
      "metadata": {
        "id": "wzjat3PhB681"
      },
      "source": [
        "## Evaluating machine-learning models"
      ]
    },
    {
      "cell_type": "markdown",
      "metadata": {
        "id": "1rWr-fNDB681"
      },
      "source": [
        "### Training, validation, and test sets"
      ]
    },
    {
      "cell_type": "markdown",
      "metadata": {
        "id": "4mXC-UVcB681"
      },
      "source": [
        "#### Simple hold-out validation"
      ]
    },
    {
      "cell_type": "markdown",
      "metadata": {
        "id": "PXR2TsDoB681"
      },
      "source": [
        "#### K-fold validation"
      ]
    },
    {
      "cell_type": "markdown",
      "metadata": {
        "id": "5MFFf_3sB681"
      },
      "source": [
        "#### Iterated K-fold validation with shuffling"
      ]
    },
    {
      "cell_type": "markdown",
      "metadata": {
        "id": "FNK_VR2OB681"
      },
      "source": [
        "### Beating a common-sense baseline"
      ]
    },
    {
      "cell_type": "markdown",
      "metadata": {
        "id": "I5HUYLQ1B681"
      },
      "source": [
        "### Things to keep in mind about model evaluation"
      ]
    },
    {
      "cell_type": "markdown",
      "metadata": {
        "id": "P0A7tKL8B681"
      },
      "source": [
        "## 5.3 Improving model fit\n",
        "\n",
        "Keep an eye out for the following when you’re choosing an evaluation protocol:\n",
        "\n",
        "Data representativeness—You want both your training set and test set to be representative of the data at hand. For instance, if you’re trying to classify images of digits, and you’re starting from an array of samples where the samples are ordered by their class, taking the first 80% of the array as your training set and the remaining 20% as your test set will result in your training set containing only classes 0–7, whereas your test set will contain only classes 8–9. This seems like a ridiculous mistake, but it’s surprisingly common. For this reason, you usually should randomly shuffle your data before splitting it into training and test sets.\n",
        "\n",
        "The arrow of time—If you’re trying to predict the future given the past (for example, tomorrow’s weather, stock movements, and so on), you should not randomly shuffle your data before splitting it, because doing so will create a temporal leak: your model will effectively be trained on data from the future. In such situations, you should always make sure all data in your test set is posterior to the data in the training set.\n",
        "\n",
        "Redundancy in your data—If some data points in your data appear twice (fairly common with real-world data), then shuffling the data and splitting it into a training set and a validation set will result in redundancy between the training and validation sets. In effect, you’ll be testing on part of your training data, which is the worst thing you can do! Make sure your training set and validation set are disjoint.\n",
        "\n",
        "Having a reliable way to evaluate the performance of your model is how you’ll be able to monitor the tension at the heart of machine learning—between optimization and generalization, underfitting and overfitting."
      ]
    },
    {
      "cell_type": "markdown",
      "source": [
        "### Possible issues:\n",
        "\n",
        "* Training doesn’t get started: your training loss doesn’t go down over time.\n",
        "* Training gets started just fine, but your model doesn’t meaningfully generalize: you can’t beat the common-sense baseline you set.\n",
        "* Training and validation loss both go down over time, and you can beat your baseline, but you don’t seem to be able to overfit, which indicates you’re still underfitting.\n"
      ],
      "metadata": {
        "id": "Xcgv4UwlX691"
      }
    },
    {
      "cell_type": "code",
      "source": [],
      "metadata": {
        "id": "rUZJt0o3X53_"
      },
      "execution_count": null,
      "outputs": []
    },
    {
      "cell_type": "markdown",
      "metadata": {
        "id": "JaR20Tx_B681"
      },
      "source": [
        "### 5.3.1 Tuning key gradient descent parameters"
      ]
    },
    {
      "cell_type": "markdown",
      "metadata": {
        "id": "fP12X7UwB681"
      },
      "source": [
        "**Training a MNIST model with an incorrectly high learning rate**"
      ]
    },
    {
      "cell_type": "code",
      "execution_count": 13,
      "metadata": {
        "id": "py4-MtooB681",
        "outputId": "6ebe82a7-c523-4499-c19b-43a8d18f8dce",
        "colab": {
          "base_uri": "https://localhost:8080/"
        }
      },
      "outputs": [
        {
          "output_type": "stream",
          "name": "stdout",
          "text": [
            "Epoch 1/10\n",
            "375/375 [==============================] - 2s 4ms/step - loss: 471.6626 - accuracy: 0.3641 - val_loss: 2.2727 - val_accuracy: 0.2301\n",
            "Epoch 2/10\n",
            "375/375 [==============================] - 1s 3ms/step - loss: 3.0472 - accuracy: 0.2106 - val_loss: 2.4047 - val_accuracy: 0.1685\n",
            "Epoch 3/10\n",
            "375/375 [==============================] - 1s 3ms/step - loss: 2.5684 - accuracy: 0.1915 - val_loss: 2.4172 - val_accuracy: 0.1523\n",
            "Epoch 4/10\n",
            "375/375 [==============================] - 1s 4ms/step - loss: 3.3349 - accuracy: 0.1847 - val_loss: 2.4094 - val_accuracy: 0.1703\n",
            "Epoch 5/10\n",
            "375/375 [==============================] - 1s 4ms/step - loss: 2.4909 - accuracy: 0.1987 - val_loss: 2.2135 - val_accuracy: 0.2192\n",
            "Epoch 6/10\n",
            "375/375 [==============================] - 2s 5ms/step - loss: 2.3749 - accuracy: 0.2221 - val_loss: 12.1227 - val_accuracy: 0.1999\n",
            "Epoch 7/10\n",
            "375/375 [==============================] - 1s 4ms/step - loss: 2.6131 - accuracy: 0.2180 - val_loss: 2.1511 - val_accuracy: 0.2393\n",
            "Epoch 8/10\n",
            "375/375 [==============================] - 1s 4ms/step - loss: 2.7739 - accuracy: 0.2262 - val_loss: 2.1838 - val_accuracy: 0.1844\n",
            "Epoch 9/10\n",
            "375/375 [==============================] - 1s 3ms/step - loss: 2.4465 - accuracy: 0.2230 - val_loss: 2.3942 - val_accuracy: 0.1817\n",
            "Epoch 10/10\n",
            "375/375 [==============================] - 1s 3ms/step - loss: 2.3341 - accuracy: 0.2421 - val_loss: 2.0256 - val_accuracy: 0.2510\n"
          ]
        },
        {
          "output_type": "execute_result",
          "data": {
            "text/plain": [
              "<keras.src.callbacks.History at 0x7dcdb8429630>"
            ]
          },
          "metadata": {},
          "execution_count": 13
        }
      ],
      "source": [
        "(train_images, train_labels), _ = mnist.load_data()\n",
        "train_images = train_images.reshape((60000, 28 * 28))\n",
        "train_images = train_images.astype(\"float32\") / 255\n",
        "\n",
        "model = keras.Sequential([\n",
        "    layers.Dense(512, activation=\"relu\"),\n",
        "    layers.Dense(10, activation=\"softmax\")\n",
        "])\n",
        "model.compile(optimizer=keras.optimizers.RMSprop(1.),\n",
        "              loss=\"sparse_categorical_crossentropy\",\n",
        "              metrics=[\"accuracy\"])\n",
        "model.fit(train_images, train_labels,\n",
        "          epochs=10,\n",
        "          batch_size=128,\n",
        "          validation_split=0.2)"
      ]
    },
    {
      "cell_type": "markdown",
      "metadata": {
        "id": "yzv49P48B682"
      },
      "source": [
        "**The same model with a more appropriate learning rate**"
      ]
    },
    {
      "cell_type": "code",
      "execution_count": 14,
      "metadata": {
        "id": "CM6EnEHGB682",
        "outputId": "0ba58398-46fe-4a75-af67-6f7591fbd81b",
        "colab": {
          "base_uri": "https://localhost:8080/"
        }
      },
      "outputs": [
        {
          "output_type": "stream",
          "name": "stdout",
          "text": [
            "Epoch 1/10\n",
            "375/375 [==============================] - 2s 4ms/step - loss: 0.3374 - accuracy: 0.9128 - val_loss: 0.1793 - val_accuracy: 0.9502\n",
            "Epoch 2/10\n",
            "375/375 [==============================] - 1s 4ms/step - loss: 0.1281 - accuracy: 0.9645 - val_loss: 0.1417 - val_accuracy: 0.9628\n",
            "Epoch 3/10\n",
            "375/375 [==============================] - 1s 4ms/step - loss: 0.0955 - accuracy: 0.9746 - val_loss: 0.1362 - val_accuracy: 0.9712\n",
            "Epoch 4/10\n",
            "375/375 [==============================] - 2s 5ms/step - loss: 0.0816 - accuracy: 0.9786 - val_loss: 0.1506 - val_accuracy: 0.9684\n",
            "Epoch 5/10\n",
            "375/375 [==============================] - 1s 4ms/step - loss: 0.0673 - accuracy: 0.9833 - val_loss: 0.1629 - val_accuracy: 0.9701\n",
            "Epoch 6/10\n",
            "375/375 [==============================] - 1s 4ms/step - loss: 0.0611 - accuracy: 0.9846 - val_loss: 0.1880 - val_accuracy: 0.9722\n",
            "Epoch 7/10\n",
            "375/375 [==============================] - 1s 4ms/step - loss: 0.0571 - accuracy: 0.9866 - val_loss: 0.1780 - val_accuracy: 0.9743\n",
            "Epoch 8/10\n",
            "375/375 [==============================] - 1s 3ms/step - loss: 0.0474 - accuracy: 0.9888 - val_loss: 0.1875 - val_accuracy: 0.9713\n",
            "Epoch 9/10\n",
            "375/375 [==============================] - 1s 4ms/step - loss: 0.0411 - accuracy: 0.9901 - val_loss: 0.2369 - val_accuracy: 0.9704\n",
            "Epoch 10/10\n",
            "375/375 [==============================] - 1s 3ms/step - loss: 0.0393 - accuracy: 0.9911 - val_loss: 0.2218 - val_accuracy: 0.9732\n"
          ]
        },
        {
          "output_type": "execute_result",
          "data": {
            "text/plain": [
              "<keras.src.callbacks.History at 0x7dcdba48cee0>"
            ]
          },
          "metadata": {},
          "execution_count": 14
        }
      ],
      "source": [
        "model = keras.Sequential([\n",
        "    layers.Dense(512, activation=\"relu\"),\n",
        "    layers.Dense(10, activation=\"softmax\")\n",
        "])\n",
        "model.compile(optimizer=keras.optimizers.RMSprop(1e-2),\n",
        "              loss=\"sparse_categorical_crossentropy\",\n",
        "              metrics=[\"accuracy\"])\n",
        "model.fit(train_images, train_labels,\n",
        "          epochs=10,\n",
        "          batch_size=128,\n",
        "          validation_split=0.2)"
      ]
    },
    {
      "cell_type": "markdown",
      "metadata": {
        "id": "Or4h9okiB682"
      },
      "source": [
        "### Leveraging better architecture priors"
      ]
    },
    {
      "cell_type": "markdown",
      "metadata": {
        "id": "F8WQIKGhB682"
      },
      "source": [
        "### Increasing model capacity"
      ]
    },
    {
      "cell_type": "markdown",
      "metadata": {
        "id": "0s2S1w8VB682"
      },
      "source": [
        "**A simple logistic regression on MNIST**"
      ]
    },
    {
      "cell_type": "code",
      "execution_count": 15,
      "metadata": {
        "id": "of-lF1D-B682",
        "outputId": "f902848c-ec27-4251-d815-68658038ccb7",
        "colab": {
          "base_uri": "https://localhost:8080/"
        }
      },
      "outputs": [
        {
          "output_type": "stream",
          "name": "stdout",
          "text": [
            "Epoch 1/20\n",
            "375/375 [==============================] - 2s 4ms/step - loss: 0.6758 - accuracy: 0.8314 - val_loss: 0.3612 - val_accuracy: 0.9046\n",
            "Epoch 2/20\n",
            "375/375 [==============================] - 2s 4ms/step - loss: 0.3538 - accuracy: 0.9019 - val_loss: 0.3107 - val_accuracy: 0.9148\n",
            "Epoch 3/20\n",
            "375/375 [==============================] - 1s 4ms/step - loss: 0.3177 - accuracy: 0.9116 - val_loss: 0.2923 - val_accuracy: 0.9178\n",
            "Epoch 4/20\n",
            "375/375 [==============================] - 1s 3ms/step - loss: 0.3018 - accuracy: 0.9157 - val_loss: 0.2828 - val_accuracy: 0.9218\n",
            "Epoch 5/20\n",
            "375/375 [==============================] - 1s 3ms/step - loss: 0.2919 - accuracy: 0.9187 - val_loss: 0.2768 - val_accuracy: 0.9231\n",
            "Epoch 6/20\n",
            "375/375 [==============================] - 1s 3ms/step - loss: 0.2856 - accuracy: 0.9205 - val_loss: 0.2735 - val_accuracy: 0.9243\n",
            "Epoch 7/20\n",
            "375/375 [==============================] - 1s 3ms/step - loss: 0.2803 - accuracy: 0.9215 - val_loss: 0.2716 - val_accuracy: 0.9250\n",
            "Epoch 8/20\n",
            "375/375 [==============================] - 1s 3ms/step - loss: 0.2764 - accuracy: 0.9231 - val_loss: 0.2694 - val_accuracy: 0.9252\n",
            "Epoch 9/20\n",
            "375/375 [==============================] - 1s 3ms/step - loss: 0.2733 - accuracy: 0.9242 - val_loss: 0.2674 - val_accuracy: 0.9264\n",
            "Epoch 10/20\n",
            "375/375 [==============================] - 1s 3ms/step - loss: 0.2705 - accuracy: 0.9247 - val_loss: 0.2668 - val_accuracy: 0.9275\n",
            "Epoch 11/20\n",
            "375/375 [==============================] - 1s 4ms/step - loss: 0.2685 - accuracy: 0.9260 - val_loss: 0.2661 - val_accuracy: 0.9281\n",
            "Epoch 12/20\n",
            "375/375 [==============================] - 2s 4ms/step - loss: 0.2665 - accuracy: 0.9266 - val_loss: 0.2644 - val_accuracy: 0.9292\n",
            "Epoch 13/20\n",
            "375/375 [==============================] - 1s 4ms/step - loss: 0.2645 - accuracy: 0.9270 - val_loss: 0.2633 - val_accuracy: 0.9291\n",
            "Epoch 14/20\n",
            "375/375 [==============================] - 1s 3ms/step - loss: 0.2630 - accuracy: 0.9274 - val_loss: 0.2645 - val_accuracy: 0.9287\n",
            "Epoch 15/20\n",
            "375/375 [==============================] - 1s 4ms/step - loss: 0.2617 - accuracy: 0.9282 - val_loss: 0.2627 - val_accuracy: 0.9296\n",
            "Epoch 16/20\n",
            "375/375 [==============================] - 1s 4ms/step - loss: 0.2603 - accuracy: 0.9287 - val_loss: 0.2619 - val_accuracy: 0.9311\n",
            "Epoch 17/20\n",
            "375/375 [==============================] - 1s 3ms/step - loss: 0.2593 - accuracy: 0.9289 - val_loss: 0.2629 - val_accuracy: 0.9289\n",
            "Epoch 18/20\n",
            "375/375 [==============================] - 1s 4ms/step - loss: 0.2582 - accuracy: 0.9293 - val_loss: 0.2622 - val_accuracy: 0.9298\n",
            "Epoch 19/20\n",
            "375/375 [==============================] - 1s 4ms/step - loss: 0.2571 - accuracy: 0.9294 - val_loss: 0.2627 - val_accuracy: 0.9297\n",
            "Epoch 20/20\n",
            "375/375 [==============================] - 1s 4ms/step - loss: 0.2562 - accuracy: 0.9295 - val_loss: 0.2615 - val_accuracy: 0.9308\n",
            "CPU times: user 27.6 s, sys: 2.24 s, total: 29.8 s\n",
            "Wall time: 41.6 s\n"
          ]
        }
      ],
      "source": [
        "%%time\n",
        "model = keras.Sequential([layers.Dense(10, activation=\"softmax\")])\n",
        "model.compile(optimizer=\"rmsprop\",\n",
        "              loss=\"sparse_categorical_crossentropy\",\n",
        "              metrics=[\"accuracy\"])\n",
        "history_small_model = model.fit(\n",
        "    train_images, train_labels,\n",
        "    epochs=20,\n",
        "    batch_size=128,\n",
        "    validation_split=0.2)"
      ]
    },
    {
      "cell_type": "code",
      "source": [
        "model.summary()"
      ],
      "metadata": {
        "id": "IdHFl7_PK76w",
        "outputId": "1e7e4ab9-52ee-4a98-841e-6e22a08c1ec0",
        "colab": {
          "base_uri": "https://localhost:8080/"
        }
      },
      "execution_count": 16,
      "outputs": [
        {
          "output_type": "stream",
          "name": "stdout",
          "text": [
            "Model: \"sequential_6\"\n",
            "_________________________________________________________________\n",
            " Layer (type)                Output Shape              Param #   \n",
            "=================================================================\n",
            " dense_12 (Dense)            (None, 10)                7850      \n",
            "                                                                 \n",
            "=================================================================\n",
            "Total params: 7850 (30.66 KB)\n",
            "Trainable params: 7850 (30.66 KB)\n",
            "Non-trainable params: 0 (0.00 Byte)\n",
            "_________________________________________________________________\n"
          ]
        }
      ]
    },
    {
      "cell_type": "code",
      "source": [
        "model.weights"
      ],
      "metadata": {
        "id": "O1-308-CLH2n",
        "outputId": "2589b26b-e71f-4000-b4ef-6f75d1496077",
        "colab": {
          "base_uri": "https://localhost:8080/"
        }
      },
      "execution_count": 17,
      "outputs": [
        {
          "output_type": "execute_result",
          "data": {
            "text/plain": [
              "[<tf.Variable 'dense_12/kernel:0' shape=(784, 10) dtype=float32, numpy=\n",
              " array([[ 0.07325023,  0.00653987,  0.07773089, ..., -0.07254809,\n",
              "         -0.01376969, -0.03404623],\n",
              "        [ 0.0080744 , -0.04414633, -0.07051203, ...,  0.05402467,\n",
              "          0.02754243, -0.06450928],\n",
              "        [-0.0222168 , -0.0336405 ,  0.00504298, ...,  0.00954843,\n",
              "         -0.0386921 , -0.02465214],\n",
              "        ...,\n",
              "        [-0.04072505,  0.02053232,  0.01065661, ...,  0.05465343,\n",
              "          0.08027381, -0.04647219],\n",
              "        [ 0.02981766, -0.00577403,  0.02594684, ..., -0.08483909,\n",
              "          0.00781775, -0.00342193],\n",
              "        [ 0.04280274,  0.01304891,  0.01668456, ..., -0.06951928,\n",
              "         -0.04508327,  0.03096959]], dtype=float32)>,\n",
              " <tf.Variable 'dense_12/bias:0' shape=(10,) dtype=float32, numpy=\n",
              " array([-0.5063198 ,  0.52182406,  0.12982433, -0.34064296,  0.06905734,\n",
              "         1.2183355 , -0.2393305 ,  0.6314199 , -1.3120672 , -0.31463578],\n",
              "       dtype=float32)>]"
            ]
          },
          "metadata": {},
          "execution_count": 17
        }
      ]
    },
    {
      "cell_type": "code",
      "execution_count": 18,
      "metadata": {
        "id": "X-ia63h-B682",
        "outputId": "f3e35b9f-c03e-49dc-e9aa-b98ab4930336",
        "colab": {
          "base_uri": "https://localhost:8080/",
          "height": 489
        }
      },
      "outputs": [
        {
          "output_type": "execute_result",
          "data": {
            "text/plain": [
              "<matplotlib.legend.Legend at 0x7dcdbb1caa10>"
            ]
          },
          "metadata": {},
          "execution_count": 18
        },
        {
          "output_type": "display_data",
          "data": {
            "text/plain": [
              "<Figure size 640x480 with 1 Axes>"
            ],
            "image/png": "[encoded data removed]"
          },
          "metadata": {}
        }
      ],
      "source": [
        "import matplotlib.pyplot as plt\n",
        "val_loss = history_small_model.history[\"val_loss\"]\n",
        "epochs = range(1, 21)\n",
        "plt.plot(epochs, val_loss, \"b--\",\n",
        "         label=\"Validation loss\")\n",
        "plt.title(\"Effect of insufficient model capacity (7850 pars) on validation loss\")\n",
        "plt.xlabel(\"Epochs\")\n",
        "plt.ylabel(\"Loss\")\n",
        "plt.legend()"
      ]
    },
    {
      "cell_type": "code",
      "execution_count": 19,
      "metadata": {
        "id": "hrE0xNYPB682",
        "outputId": "830c018a-a5ca-4de0-f0fc-61931b903b00",
        "colab": {
          "base_uri": "https://localhost:8080/"
        }
      },
      "outputs": [
        {
          "output_type": "stream",
          "name": "stdout",
          "text": [
            "Epoch 1/20\n",
            "375/375 [==============================] - 3s 5ms/step - loss: 0.3760 - accuracy: 0.8949 - val_loss: 0.1895 - val_accuracy: 0.9461\n",
            "Epoch 2/20\n",
            "375/375 [==============================] - 1s 4ms/step - loss: 0.1654 - accuracy: 0.9506 - val_loss: 0.1418 - val_accuracy: 0.9597\n",
            "Epoch 3/20\n",
            "375/375 [==============================] - 1s 4ms/step - loss: 0.1150 - accuracy: 0.9659 - val_loss: 0.1269 - val_accuracy: 0.9613\n",
            "Epoch 4/20\n",
            "375/375 [==============================] - 2s 4ms/step - loss: 0.0874 - accuracy: 0.9732 - val_loss: 0.1071 - val_accuracy: 0.9690\n",
            "Epoch 5/20\n",
            "375/375 [==============================] - 1s 4ms/step - loss: 0.0697 - accuracy: 0.9784 - val_loss: 0.1084 - val_accuracy: 0.9675\n",
            "Epoch 6/20\n",
            "375/375 [==============================] - 2s 5ms/step - loss: 0.0581 - accuracy: 0.9824 - val_loss: 0.0926 - val_accuracy: 0.9737\n",
            "Epoch 7/20\n",
            "375/375 [==============================] - 2s 4ms/step - loss: 0.0480 - accuracy: 0.9854 - val_loss: 0.0874 - val_accuracy: 0.9743\n",
            "Epoch 8/20\n",
            "375/375 [==============================] - 2s 4ms/step - loss: 0.0406 - accuracy: 0.9871 - val_loss: 0.0868 - val_accuracy: 0.9747\n",
            "Epoch 9/20\n",
            "375/375 [==============================] - 1s 4ms/step - loss: 0.0334 - accuracy: 0.9895 - val_loss: 0.0866 - val_accuracy: 0.9762\n",
            "Epoch 10/20\n",
            "375/375 [==============================] - 1s 4ms/step - loss: 0.0276 - accuracy: 0.9918 - val_loss: 0.0932 - val_accuracy: 0.9743\n",
            "Epoch 11/20\n",
            "375/375 [==============================] - 1s 4ms/step - loss: 0.0240 - accuracy: 0.9925 - val_loss: 0.0914 - val_accuracy: 0.9756\n",
            "Epoch 12/20\n",
            "375/375 [==============================] - 1s 4ms/step - loss: 0.0201 - accuracy: 0.9940 - val_loss: 0.0949 - val_accuracy: 0.9767\n",
            "Epoch 13/20\n",
            "375/375 [==============================] - 1s 4ms/step - loss: 0.0157 - accuracy: 0.9951 - val_loss: 0.0956 - val_accuracy: 0.9760\n",
            "Epoch 14/20\n",
            "375/375 [==============================] - 2s 5ms/step - loss: 0.0141 - accuracy: 0.9957 - val_loss: 0.1015 - val_accuracy: 0.9755\n",
            "Epoch 15/20\n",
            "375/375 [==============================] - 2s 5ms/step - loss: 0.0114 - accuracy: 0.9963 - val_loss: 0.1176 - val_accuracy: 0.9724\n",
            "Epoch 16/20\n",
            "375/375 [==============================] - 2s 5ms/step - loss: 0.0096 - accuracy: 0.9969 - val_loss: 0.1271 - val_accuracy: 0.9729\n",
            "Epoch 17/20\n",
            "375/375 [==============================] - 1s 4ms/step - loss: 0.0085 - accuracy: 0.9976 - val_loss: 0.1132 - val_accuracy: 0.9754\n",
            "Epoch 18/20\n",
            "375/375 [==============================] - 1s 4ms/step - loss: 0.0069 - accuracy: 0.9977 - val_loss: 0.1177 - val_accuracy: 0.9752\n",
            "Epoch 19/20\n",
            "375/375 [==============================] - 1s 4ms/step - loss: 0.0060 - accuracy: 0.9983 - val_loss: 0.1206 - val_accuracy: 0.9760\n",
            "Epoch 20/20\n",
            "375/375 [==============================] - 1s 4ms/step - loss: 0.0051 - accuracy: 0.9985 - val_loss: 0.1267 - val_accuracy: 0.9756\n",
            "CPU times: user 31.1 s, sys: 2.44 s, total: 33.5 s\n",
            "Wall time: 32.1 s\n"
          ]
        }
      ],
      "source": [
        "%%time\n",
        "model = keras.Sequential([\n",
        "    layers.Dense(96, activation=\"relu\"),\n",
        "    layers.Dense(96, activation=\"relu\"),\n",
        "    layers.Dense(10, activation=\"softmax\"),\n",
        "])\n",
        "model.compile(optimizer=\"rmsprop\",\n",
        "              loss=\"sparse_categorical_crossentropy\",\n",
        "              metrics=[\"accuracy\"])\n",
        "history_large_model = model.fit(\n",
        "    train_images, train_labels,\n",
        "    epochs=20,\n",
        "    batch_size=128,\n",
        "    validation_split=0.2)"
      ]
    },
    {
      "cell_type": "code",
      "source": [
        "model.summary()"
      ],
      "metadata": {
        "id": "XfsGtBYTLuFv",
        "outputId": "55771fd7-df6a-4cac-ecc7-d2584fa29bae",
        "colab": {
          "base_uri": "https://localhost:8080/"
        }
      },
      "execution_count": 20,
      "outputs": [
        {
          "output_type": "stream",
          "name": "stdout",
          "text": [
            "Model: \"sequential_7\"\n",
            "_________________________________________________________________\n",
            " Layer (type)                Output Shape              Param #   \n",
            "=================================================================\n",
            " dense_13 (Dense)            (None, 96)                75360     \n",
            "                                                                 \n",
            " dense_14 (Dense)            (None, 96)                9312      \n",
            "                                                                 \n",
            " dense_15 (Dense)            (None, 10)                970       \n",
            "                                                                 \n",
            "=================================================================\n",
            "Total params: 85642 (334.54 KB)\n",
            "Trainable params: 85642 (334.54 KB)\n",
            "Non-trainable params: 0 (0.00 Byte)\n",
            "_________________________________________________________________\n"
          ]
        }
      ]
    },
    {
      "cell_type": "code",
      "source": [
        "import matplotlib.pyplot as plt\n",
        "val_loss_small = history_small_model.history[\"val_loss\"]\n",
        "val_loss_big = history_large_model.history[\"val_loss\"]\n",
        "\n",
        "epochs = range(1, 21)\n",
        "plt.plot(epochs, val_loss_small, \"b--\", label=\"Validation loss for SMALL Capacity (7850 pars) model\")\n",
        "plt.plot(epochs, val_loss_big, \"r--\", label=\"Validation loss LARGE Cap (85642 pars) model\")\n",
        "plt.title(\"Effect of capacity  on validation loss\")\n",
        "plt.xlabel(\"Epochs\")\n",
        "plt.ylabel(\"Loss\")\n",
        "plt.legend()"
      ],
      "metadata": {
        "id": "3Uq9k-y0L4eh",
        "outputId": "82719800-49be-433c-97ce-88f23b5f0c32",
        "colab": {
          "base_uri": "https://localhost:8080/",
          "height": 489
        }
      },
      "execution_count": 21,
      "outputs": [
        {
          "output_type": "execute_result",
          "data": {
            "text/plain": [
              "<matplotlib.legend.Legend at 0x7dcdbc4c5ba0>"
            ]
          },
          "metadata": {},
          "execution_count": 21
        },
        {
          "output_type": "display_data",
          "data": {
            "text/plain": [
              "<Figure size 640x480 with 1 Axes>"
            ],
            "image/png": "[encoded data removed]"
          },
          "metadata": {}
        }
      ]
    },
    {
      "cell_type": "markdown",
      "metadata": {
        "id": "N2hSFV8tB683"
      },
      "source": [
        "## Improving generalization"
      ]
    },
    {
      "cell_type": "markdown",
      "metadata": {
        "id": "9Jr7oXo3B683"
      },
      "source": [
        "### Dataset curation"
      ]
    },
    {
      "cell_type": "markdown",
      "metadata": {
        "id": "DG35QIGuB683"
      },
      "source": [
        "### Feature engineering"
      ]
    },
    {
      "cell_type": "markdown",
      "metadata": {
        "id": "A47oM41hB683"
      },
      "source": [
        "### Using early stopping"
      ]
    },
    {
      "cell_type": "markdown",
      "metadata": {
        "id": "7txNEUJKB683"
      },
      "source": [
        "### Regularizing your model"
      ]
    },
    {
      "cell_type": "markdown",
      "metadata": {
        "id": "CHw5Sz4ZB683"
      },
      "source": [
        "#### Reducing the network's size"
      ]
    },
    {
      "cell_type": "markdown",
      "metadata": {
        "id": "vXTcq9Q7B683"
      },
      "source": [
        "**Original model**"
      ]
    },
    {
      "cell_type": "code",
      "execution_count": 22,
      "metadata": {
        "id": "N0AgUyMxB684",
        "outputId": "21fd62ed-e27a-43a2-dcaf-ea960acf3ed2",
        "colab": {
          "base_uri": "https://localhost:8080/"
        }
      },
      "outputs": [
        {
          "output_type": "stream",
          "name": "stdout",
          "text": [
            "Epoch 1/20\n",
            "30/30 [==============================] - 3s 67ms/step - loss: 0.5901 - accuracy: 0.7205 - val_loss: 0.4907 - val_accuracy: 0.7815\n",
            "Epoch 2/20\n",
            "30/30 [==============================] - 1s 25ms/step - loss: 0.3915 - accuracy: 0.8770 - val_loss: 0.3683 - val_accuracy: 0.8731\n",
            "Epoch 3/20\n",
            "30/30 [==============================] - 1s 24ms/step - loss: 0.2866 - accuracy: 0.9110 - val_loss: 0.3082 - val_accuracy: 0.8857\n",
            "Epoch 4/20\n",
            "30/30 [==============================] - 1s 27ms/step - loss: 0.2265 - accuracy: 0.9281 - val_loss: 0.2933 - val_accuracy: 0.8829\n",
            "Epoch 5/20\n",
            "30/30 [==============================] - 1s 43ms/step - loss: 0.1897 - accuracy: 0.9398 - val_loss: 0.2785 - val_accuracy: 0.8904\n",
            "Epoch 6/20\n",
            "30/30 [==============================] - 1s 40ms/step - loss: 0.1589 - accuracy: 0.9517 - val_loss: 0.2836 - val_accuracy: 0.8875\n",
            "Epoch 7/20\n",
            "30/30 [==============================] - 1s 23ms/step - loss: 0.1392 - accuracy: 0.9557 - val_loss: 0.2930 - val_accuracy: 0.8849\n",
            "Epoch 8/20\n",
            "30/30 [==============================] - 1s 24ms/step - loss: 0.1223 - accuracy: 0.9631 - val_loss: 0.2965 - val_accuracy: 0.8860\n",
            "Epoch 9/20\n",
            "30/30 [==============================] - 1s 22ms/step - loss: 0.1087 - accuracy: 0.9692 - val_loss: 0.3131 - val_accuracy: 0.8816\n",
            "Epoch 10/20\n",
            "30/30 [==============================] - 1s 34ms/step - loss: 0.0974 - accuracy: 0.9732 - val_loss: 0.3208 - val_accuracy: 0.8823\n",
            "Epoch 11/20\n",
            "30/30 [==============================] - 1s 23ms/step - loss: 0.0818 - accuracy: 0.9785 - val_loss: 0.3899 - val_accuracy: 0.8654\n",
            "Epoch 12/20\n",
            "30/30 [==============================] - 1s 25ms/step - loss: 0.0766 - accuracy: 0.9794 - val_loss: 0.3537 - val_accuracy: 0.8789\n",
            "Epoch 13/20\n",
            "30/30 [==============================] - 1s 24ms/step - loss: 0.0653 - accuracy: 0.9845 - val_loss: 0.3888 - val_accuracy: 0.8711\n",
            "Epoch 14/20\n",
            "30/30 [==============================] - 1s 26ms/step - loss: 0.0578 - accuracy: 0.9880 - val_loss: 0.3883 - val_accuracy: 0.8772\n",
            "Epoch 15/20\n",
            "30/30 [==============================] - 1s 24ms/step - loss: 0.0523 - accuracy: 0.9886 - val_loss: 0.4052 - val_accuracy: 0.8748\n",
            "Epoch 16/20\n",
            "30/30 [==============================] - 1s 25ms/step - loss: 0.0444 - accuracy: 0.9911 - val_loss: 0.4460 - val_accuracy: 0.8735\n",
            "Epoch 17/20\n",
            "30/30 [==============================] - 1s 25ms/step - loss: 0.0396 - accuracy: 0.9932 - val_loss: 0.4508 - val_accuracy: 0.8712\n",
            "Epoch 18/20\n",
            "30/30 [==============================] - 1s 23ms/step - loss: 0.0363 - accuracy: 0.9932 - val_loss: 0.4709 - val_accuracy: 0.8725\n",
            "Epoch 19/20\n",
            "30/30 [==============================] - 1s 25ms/step - loss: 0.0321 - accuracy: 0.9947 - val_loss: 0.4856 - val_accuracy: 0.8722\n",
            "Epoch 20/20\n",
            "30/30 [==============================] - 1s 27ms/step - loss: 0.0261 - accuracy: 0.9963 - val_loss: 0.5047 - val_accuracy: 0.8702\n",
            "CPU times: user 23.9 s, sys: 7.77 s, total: 31.6 s\n",
            "Wall time: 29 s\n"
          ]
        }
      ],
      "source": [
        "%%time\n",
        "from tensorflow.keras.datasets import imdb\n",
        "(train_data, train_labels), _ = imdb.load_data(num_words=10000)\n",
        "\n",
        "def vectorize_sequences(sequences, dimension=10000):\n",
        "    results = np.zeros((len(sequences), dimension))\n",
        "    for i, sequence in enumerate(sequences):\n",
        "        results[i, sequence] = 1.\n",
        "    return results\n",
        "train_data = vectorize_sequences(train_data)\n",
        "\n",
        "model = keras.Sequential([\n",
        "    layers.Dense(16, activation=\"relu\"),\n",
        "    layers.Dense(16, activation=\"relu\"),\n",
        "    layers.Dense(1, activation=\"sigmoid\")\n",
        "])\n",
        "model.compile(optimizer=\"rmsprop\",\n",
        "              loss=\"binary_crossentropy\",\n",
        "              metrics=[\"accuracy\"])\n",
        "history_original = model.fit(train_data, train_labels,\n",
        "                             epochs=20, batch_size=512, validation_split=0.4)"
      ]
    },
    {
      "cell_type": "markdown",
      "metadata": {
        "id": "h6Bt6ZgQB684"
      },
      "source": [
        "**Version of the model with lower capacity**"
      ]
    },
    {
      "cell_type": "code",
      "execution_count": 23,
      "metadata": {
        "id": "MM_BFjG2B684",
        "outputId": "5b809fb8-9da2-42e0-8fca-7c80022af515",
        "colab": {
          "base_uri": "https://localhost:8080/"
        }
      },
      "outputs": [
        {
          "output_type": "stream",
          "name": "stdout",
          "text": [
            "Epoch 1/20\n",
            "30/30 [==============================] - 3s 64ms/step - loss: 0.6414 - accuracy: 0.6535 - val_loss: 0.5984 - val_accuracy: 0.6841\n",
            "Epoch 2/20\n",
            "30/30 [==============================] - 1s 26ms/step - loss: 0.5624 - accuracy: 0.7711 - val_loss: 0.5507 - val_accuracy: 0.7902\n",
            "Epoch 3/20\n",
            "30/30 [==============================] - 1s 24ms/step - loss: 0.5148 - accuracy: 0.8279 - val_loss: 0.5179 - val_accuracy: 0.8374\n",
            "Epoch 4/20\n",
            "30/30 [==============================] - 1s 23ms/step - loss: 0.4702 - accuracy: 0.8679 - val_loss: 0.4812 - val_accuracy: 0.8201\n",
            "Epoch 5/20\n",
            "30/30 [==============================] - 1s 23ms/step - loss: 0.4153 - accuracy: 0.8989 - val_loss: 0.4267 - val_accuracy: 0.8696\n",
            "Epoch 6/20\n",
            "30/30 [==============================] - 1s 23ms/step - loss: 0.3528 - accuracy: 0.9201 - val_loss: 0.3716 - val_accuracy: 0.8811\n",
            "Epoch 7/20\n",
            "30/30 [==============================] - 1s 39ms/step - loss: 0.2910 - accuracy: 0.9297 - val_loss: 0.3340 - val_accuracy: 0.8823\n",
            "Epoch 8/20\n",
            "30/30 [==============================] - 1s 31ms/step - loss: 0.2422 - accuracy: 0.9370 - val_loss: 0.2994 - val_accuracy: 0.8869\n",
            "Epoch 9/20\n",
            "30/30 [==============================] - 1s 28ms/step - loss: 0.2051 - accuracy: 0.9441 - val_loss: 0.2858 - val_accuracy: 0.8910\n",
            "Epoch 10/20\n",
            "30/30 [==============================] - 1s 24ms/step - loss: 0.1771 - accuracy: 0.9502 - val_loss: 0.2793 - val_accuracy: 0.8876\n",
            "Epoch 11/20\n",
            "30/30 [==============================] - 1s 24ms/step - loss: 0.1541 - accuracy: 0.9579 - val_loss: 0.2808 - val_accuracy: 0.8860\n",
            "Epoch 12/20\n",
            "30/30 [==============================] - 1s 24ms/step - loss: 0.1352 - accuracy: 0.9621 - val_loss: 0.2813 - val_accuracy: 0.8880\n",
            "Epoch 13/20\n",
            "30/30 [==============================] - 1s 25ms/step - loss: 0.1202 - accuracy: 0.9671 - val_loss: 0.2895 - val_accuracy: 0.8859\n",
            "Epoch 14/20\n",
            "30/30 [==============================] - 1s 23ms/step - loss: 0.1079 - accuracy: 0.9713 - val_loss: 0.2943 - val_accuracy: 0.8867\n",
            "Epoch 15/20\n",
            "30/30 [==============================] - 1s 23ms/step - loss: 0.0965 - accuracy: 0.9756 - val_loss: 0.3045 - val_accuracy: 0.8845\n",
            "Epoch 16/20\n",
            "30/30 [==============================] - 1s 24ms/step - loss: 0.0865 - accuracy: 0.9797 - val_loss: 0.3123 - val_accuracy: 0.8837\n",
            "Epoch 17/20\n",
            "30/30 [==============================] - 1s 22ms/step - loss: 0.0775 - accuracy: 0.9827 - val_loss: 0.3226 - val_accuracy: 0.8826\n",
            "Epoch 18/20\n",
            "30/30 [==============================] - 1s 23ms/step - loss: 0.0696 - accuracy: 0.9839 - val_loss: 0.3345 - val_accuracy: 0.8808\n",
            "Epoch 19/20\n",
            "30/30 [==============================] - 1s 25ms/step - loss: 0.0623 - accuracy: 0.9867 - val_loss: 0.3475 - val_accuracy: 0.8809\n",
            "Epoch 20/20\n",
            "30/30 [==============================] - 1s 22ms/step - loss: 0.0548 - accuracy: 0.9888 - val_loss: 0.3843 - val_accuracy: 0.8745\n",
            "CPU times: user 18.5 s, sys: 6.52 s, total: 25 s\n",
            "Wall time: 22.8 s\n"
          ]
        }
      ],
      "source": [
        "%%time\n",
        "model = keras.Sequential([\n",
        "    layers.Dense(4, activation=\"relu\"),\n",
        "    layers.Dense(4, activation=\"relu\"),\n",
        "    layers.Dense(1, activation=\"sigmoid\")\n",
        "])\n",
        "model.compile(optimizer=\"rmsprop\",\n",
        "              loss=\"binary_crossentropy\",\n",
        "              metrics=[\"accuracy\"])\n",
        "history_smaller_model = model.fit(\n",
        "    train_data, train_labels,\n",
        "    epochs=20, batch_size=512, validation_split=0.4)"
      ]
    },
    {
      "cell_type": "markdown",
      "metadata": {
        "id": "EvxspSWXB684"
      },
      "source": [
        "**Version of the model with higher capacity**"
      ]
    },
    {
      "cell_type": "code",
      "execution_count": 24,
      "metadata": {
        "id": "WzevAAvcB684",
        "outputId": "8af5de84-75ce-4d96-a25f-82d41897c1a3",
        "colab": {
          "base_uri": "https://localhost:8080/"
        }
      },
      "outputs": [
        {
          "output_type": "stream",
          "name": "stdout",
          "text": [
            "Epoch 1/20\n",
            "30/30 [==============================] - 3s 67ms/step - loss: 0.5655 - accuracy: 0.7409 - val_loss: 0.5058 - val_accuracy: 0.7520\n",
            "Epoch 2/20\n",
            "30/30 [==============================] - 1s 26ms/step - loss: 0.3226 - accuracy: 0.8679 - val_loss: 0.2803 - val_accuracy: 0.8847\n",
            "Epoch 3/20\n",
            "30/30 [==============================] - 1s 24ms/step - loss: 0.2457 - accuracy: 0.8999 - val_loss: 0.2867 - val_accuracy: 0.8776\n",
            "Epoch 4/20\n",
            "30/30 [==============================] - 1s 23ms/step - loss: 0.1910 - accuracy: 0.9263 - val_loss: 0.2840 - val_accuracy: 0.8866\n",
            "Epoch 5/20\n",
            "30/30 [==============================] - 1s 26ms/step - loss: 0.1500 - accuracy: 0.9449 - val_loss: 0.2795 - val_accuracy: 0.8887\n",
            "Epoch 6/20\n",
            "30/30 [==============================] - 1s 23ms/step - loss: 0.1070 - accuracy: 0.9627 - val_loss: 0.2966 - val_accuracy: 0.8781\n",
            "Epoch 7/20\n",
            "30/30 [==============================] - 1s 25ms/step - loss: 0.0863 - accuracy: 0.9720 - val_loss: 0.3262 - val_accuracy: 0.8846\n",
            "Epoch 8/20\n",
            "30/30 [==============================] - 1s 30ms/step - loss: 0.0725 - accuracy: 0.9764 - val_loss: 0.3471 - val_accuracy: 0.8836\n",
            "Epoch 9/20\n",
            "30/30 [==============================] - 1s 41ms/step - loss: 0.0720 - accuracy: 0.9775 - val_loss: 0.3190 - val_accuracy: 0.8825\n",
            "Epoch 10/20\n",
            "30/30 [==============================] - 1s 27ms/step - loss: 0.0148 - accuracy: 0.9988 - val_loss: 0.4817 - val_accuracy: 0.8776\n",
            "Epoch 11/20\n",
            "30/30 [==============================] - 1s 25ms/step - loss: 0.0654 - accuracy: 0.9828 - val_loss: 0.4073 - val_accuracy: 0.8818\n",
            "Epoch 12/20\n",
            "30/30 [==============================] - 1s 27ms/step - loss: 0.0051 - accuracy: 0.9996 - val_loss: 0.5014 - val_accuracy: 0.8822\n",
            "Epoch 13/20\n",
            "30/30 [==============================] - 1s 27ms/step - loss: 0.0025 - accuracy: 0.9999 - val_loss: 1.4929 - val_accuracy: 0.7699\n",
            "Epoch 14/20\n",
            "30/30 [==============================] - 1s 26ms/step - loss: 0.0744 - accuracy: 0.9831 - val_loss: 0.4969 - val_accuracy: 0.8829\n",
            "Epoch 15/20\n",
            "30/30 [==============================] - 1s 24ms/step - loss: 0.0017 - accuracy: 1.0000 - val_loss: 0.5761 - val_accuracy: 0.8812\n",
            "Epoch 16/20\n",
            "30/30 [==============================] - 1s 25ms/step - loss: 9.5212e-04 - accuracy: 1.0000 - val_loss: 0.6301 - val_accuracy: 0.8823\n",
            "Epoch 17/20\n",
            "30/30 [==============================] - 1s 25ms/step - loss: 5.6726e-04 - accuracy: 1.0000 - val_loss: 0.6767 - val_accuracy: 0.8812\n",
            "Epoch 18/20\n",
            "30/30 [==============================] - 1s 23ms/step - loss: 4.1267e-04 - accuracy: 1.0000 - val_loss: 0.7092 - val_accuracy: 0.8803\n",
            "Epoch 19/20\n",
            "30/30 [==============================] - 1s 24ms/step - loss: 2.6735e-04 - accuracy: 1.0000 - val_loss: 0.7262 - val_accuracy: 0.8809\n",
            "Epoch 20/20\n",
            "30/30 [==============================] - 1s 22ms/step - loss: 2.1240e-04 - accuracy: 1.0000 - val_loss: 0.7508 - val_accuracy: 0.8811\n",
            "CPU times: user 19.1 s, sys: 6.38 s, total: 25.5 s\n",
            "Wall time: 19.9 s\n"
          ]
        }
      ],
      "source": [
        "%%time\n",
        "model = keras.Sequential([\n",
        "    layers.Dense(512, activation=\"relu\"),\n",
        "    layers.Dense(512, activation=\"relu\"),\n",
        "    layers.Dense(1, activation=\"sigmoid\")\n",
        "])\n",
        "model.compile(optimizer=\"rmsprop\",\n",
        "              loss=\"binary_crossentropy\",\n",
        "              metrics=[\"accuracy\"])\n",
        "history_larger_model = model.fit(\n",
        "    train_data, train_labels,\n",
        "    epochs=20, batch_size=512, validation_split=0.4)"
      ]
    },
    {
      "cell_type": "markdown",
      "metadata": {
        "id": "9BTfmMVdB684"
      },
      "source": [
        "#### Adding weight regularization"
      ]
    },
    {
      "cell_type": "markdown",
      "metadata": {
        "id": "Ko6BTieAB684"
      },
      "source": [
        "**Adding L2 weight regularization to the model**"
      ]
    },
    {
      "cell_type": "code",
      "execution_count": 25,
      "metadata": {
        "id": "gsiFue2eB684",
        "outputId": "278bdf31-9745-4f90-f90a-0d7cd3013ca2",
        "colab": {
          "base_uri": "https://localhost:8080/"
        }
      },
      "outputs": [
        {
          "output_type": "stream",
          "name": "stdout",
          "text": [
            "Epoch 1/20\n",
            "30/30 [==============================] - 4s 65ms/step - loss: 0.6285 - accuracy: 0.7686 - val_loss: 0.4895 - val_accuracy: 0.8648\n",
            "Epoch 2/20\n",
            "30/30 [==============================] - 1s 24ms/step - loss: 0.4197 - accuracy: 0.8911 - val_loss: 0.3995 - val_accuracy: 0.8808\n",
            "Epoch 3/20\n",
            "30/30 [==============================] - 1s 24ms/step - loss: 0.3384 - accuracy: 0.9139 - val_loss: 0.3758 - val_accuracy: 0.8804\n",
            "Epoch 4/20\n",
            "30/30 [==============================] - 1s 24ms/step - loss: 0.3002 - accuracy: 0.9239 - val_loss: 0.3544 - val_accuracy: 0.8899\n",
            "Epoch 5/20\n",
            "30/30 [==============================] - 1s 25ms/step - loss: 0.2741 - accuracy: 0.9361 - val_loss: 0.3618 - val_accuracy: 0.8848\n",
            "Epoch 6/20\n",
            "30/30 [==============================] - 1s 26ms/step - loss: 0.2614 - accuracy: 0.9389 - val_loss: 0.3811 - val_accuracy: 0.8753\n",
            "Epoch 7/20\n",
            "30/30 [==============================] - 1s 26ms/step - loss: 0.2468 - accuracy: 0.9427 - val_loss: 0.3707 - val_accuracy: 0.8822\n",
            "Epoch 8/20\n",
            "30/30 [==============================] - 1s 24ms/step - loss: 0.2384 - accuracy: 0.9469 - val_loss: 0.3621 - val_accuracy: 0.8839\n",
            "Epoch 9/20\n",
            "30/30 [==============================] - 1s 26ms/step - loss: 0.2281 - accuracy: 0.9519 - val_loss: 0.4046 - val_accuracy: 0.8716\n",
            "Epoch 10/20\n",
            "30/30 [==============================] - 1s 30ms/step - loss: 0.2263 - accuracy: 0.9506 - val_loss: 0.3716 - val_accuracy: 0.8823\n",
            "Epoch 11/20\n",
            "30/30 [==============================] - 1s 42ms/step - loss: 0.2175 - accuracy: 0.9559 - val_loss: 0.3767 - val_accuracy: 0.8810\n",
            "Epoch 12/20\n",
            "30/30 [==============================] - 1s 23ms/step - loss: 0.2179 - accuracy: 0.9532 - val_loss: 0.3823 - val_accuracy: 0.8804\n",
            "Epoch 13/20\n",
            "30/30 [==============================] - 1s 23ms/step - loss: 0.2111 - accuracy: 0.9561 - val_loss: 0.3918 - val_accuracy: 0.8782\n",
            "Epoch 14/20\n",
            "30/30 [==============================] - 1s 25ms/step - loss: 0.2067 - accuracy: 0.9603 - val_loss: 0.4268 - val_accuracy: 0.8680\n",
            "Epoch 15/20\n",
            "30/30 [==============================] - 1s 25ms/step - loss: 0.2023 - accuracy: 0.9616 - val_loss: 0.4051 - val_accuracy: 0.8749\n",
            "Epoch 16/20\n",
            "30/30 [==============================] - 1s 24ms/step - loss: 0.2009 - accuracy: 0.9613 - val_loss: 0.3951 - val_accuracy: 0.8779\n",
            "Epoch 17/20\n",
            "30/30 [==============================] - 1s 26ms/step - loss: 0.1989 - accuracy: 0.9615 - val_loss: 0.4197 - val_accuracy: 0.8735\n",
            "Epoch 18/20\n",
            "30/30 [==============================] - 1s 26ms/step - loss: 0.1987 - accuracy: 0.9613 - val_loss: 0.4129 - val_accuracy: 0.8755\n",
            "Epoch 19/20\n",
            "30/30 [==============================] - 1s 23ms/step - loss: 0.1925 - accuracy: 0.9652 - val_loss: 0.4092 - val_accuracy: 0.8752\n",
            "Epoch 20/20\n",
            "30/30 [==============================] - 1s 25ms/step - loss: 0.1967 - accuracy: 0.9635 - val_loss: 0.4202 - val_accuracy: 0.8751\n",
            "CPU times: user 19.5 s, sys: 7.04 s, total: 26.6 s\n",
            "Wall time: 22.2 s\n"
          ]
        }
      ],
      "source": [
        "%%time\n",
        "from tensorflow.keras import regularizers\n",
        "model = keras.Sequential([\n",
        "    layers.Dense(16,\n",
        "                 kernel_regularizer=regularizers.l2(0.002),\n",
        "                 activation=\"relu\"),\n",
        "    layers.Dense(16,\n",
        "                 kernel_regularizer=regularizers.l2(0.002),\n",
        "                 activation=\"relu\"),\n",
        "    layers.Dense(1, activation=\"sigmoid\")\n",
        "])\n",
        "model.compile(optimizer=\"rmsprop\",\n",
        "              loss=\"binary_crossentropy\",\n",
        "              metrics=[\"accuracy\"])\n",
        "history_l2_reg = model.fit(\n",
        "    train_data, train_labels,\n",
        "    epochs=20, batch_size=512, validation_split=0.4)"
      ]
    },
    {
      "cell_type": "markdown",
      "metadata": {
        "id": "g20GvZ57B685"
      },
      "source": [
        "**Different weight regularizers available in Keras**"
      ]
    },
    {
      "cell_type": "code",
      "execution_count": 1,
      "metadata": {
        "id": "BI6pnRvjB685",
        "outputId": "3f245ed2-b88a-4af7-c98e-b5a9f4f63810",
        "colab": {
          "base_uri": "https://localhost:8080/"
        }
      },
      "outputs": [
        {
          "output_type": "stream",
          "name": "stdout",
          "text": [
            "CPU times: user 3.16 s, sys: 669 ms, total: 3.83 s\n",
            "Wall time: 7.58 s\n"
          ]
        },
        {
          "output_type": "execute_result",
          "data": {
            "text/plain": [
              "<keras.src.regularizers.L1L2 at 0x78a93862b790>"
            ]
          },
          "metadata": {},
          "execution_count": 1
        }
      ],
      "source": [
        "%%time\n",
        "from tensorflow.keras import regularizers\n",
        "regularizers.l1(0.001)\n",
        "regularizers.l1_l2(l1=0.001, l2=0.001)"
      ]
    },
    {
      "cell_type": "markdown",
      "metadata": {
        "id": "FdmnNHBqB685"
      },
      "source": [
        "#### Adding dropout"
      ]
    },
    {
      "cell_type": "markdown",
      "metadata": {
        "id": "U4u1gZayB685"
      },
      "source": [
        "**Adding dropout to the IMDB model**"
      ]
    },
    {
      "cell_type": "code",
      "execution_count": 2,
      "metadata": {
        "id": "eLG67IXsB685",
        "outputId": "d65f7340-b1e0-4c8e-b363-ec2daa0078bb",
        "colab": {
          "base_uri": "https://localhost:8080/",
          "height": 159
        }
      },
      "outputs": [
        {
          "output_type": "error",
          "ename": "NameError",
          "evalue": "ignored",
          "traceback": [
            "\u001b[0;31m---------------------------------------------------------------------------\u001b[0m",
            "\u001b[0;31mNameError\u001b[0m                                 Traceback (most recent call last)",
            "\u001b[0;32m<timed exec>\u001b[0m in \u001b[0;36m<module>\u001b[0;34m\u001b[0m\n",
            "\u001b[0;31mNameError\u001b[0m: name 'keras' is not defined"
          ]
        }
      ],
      "source": [
        "%%time\n",
        "model = keras.Sequential([\n",
        "    layers.Dense(16, activation=\"relu\"),\n",
        "    layers.Dropout(0.5),\n",
        "    layers.Dense(16, activation=\"relu\"),\n",
        "    layers.Dropout(0.5),\n",
        "    layers.Dense(1, activation=\"sigmoid\")\n",
        "])\n",
        "model.compile(optimizer=\"rmsprop\",\n",
        "              loss=\"binary_crossentropy\",\n",
        "              metrics=[\"accuracy\"])\n",
        "history_dropout = model.fit(\n",
        "    train_data, train_labels,\n",
        "    epochs=20, batch_size=512, validation_split=0.4)"
      ]
    },
    {
      "cell_type": "markdown",
      "metadata": {
        "id": "NBjEIRMxB685"
      },
      "source": [
        "## Summary"
      ]
    }
  ],
  "metadata": {
    "colab": {
      "name": "chapter05_fundamentals-of-ml.i",
      "provenance": [],
      "toc_visible": true,
      "gpuType": "V100"
    },
    "kernelspec": {
      "display_name": "Python 3",
      "name": "python3"
    },
    "language_info": {
      "codemirror_mode": {
        "name": "ipython",
        "version": 3
      },
      "file_extension": ".py",
      "mimetype": "text/x-python",
      "name": "python",
      "nbconvert_exporter": "python",
      "pygments_lexer": "ipython3",
      "version": "3.7.0"
    },
    "accelerator": "GPU"
  },
  "nbformat": 4,
  "nbformat_minor": 0
}