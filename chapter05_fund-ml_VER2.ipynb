{
  "cells": [
    {
      "cell_type": "markdown",
      "metadata": {
        "id": "ctzi6UAVB68u"
      },
      "source": [
        "This is a companion notebook for the book [Deep Learning with Python, Second Edition](https://www.manning.com/books/deep-learning-with-python-second-edition?a_aid=keras&a_bid=76564dff). For readability, it only contains runnable code blocks and section titles, and omits everything else in the book: text paragraphs, figures, and pseudocode.\n",
        "\n",
        "**If you want to be able to follow what's going on, I recommend reading the notebook side by side with your copy of the book.**\n",
        "\n",
        "This notebook was generated for TensorFlow 2.6."
      ]
    },
    {
      "cell_type": "markdown",
      "metadata": {
        "id": "9h8i9YJxB68w"
      },
      "source": [
        "# Fundamentals of machine learning"
      ]
    },
    {
      "cell_type": "markdown",
      "metadata": {
        "id": "FtExaOXUB68w"
      },
      "source": [
        "## Generalization: The goal of machine learning"
      ]
    },
    {
      "cell_type": "markdown",
      "metadata": {
        "id": "yGOaFHsXB68x"
      },
      "source": [
        "### Underfitting and overfitting"
      ]
    },
    {
      "cell_type": "markdown",
      "metadata": {
        "id": "WPSPSRFiB68x"
      },
      "source": [
        "#### Noisy training data"
      ]
    },
    {
      "cell_type": "markdown",
      "metadata": {
        "id": "waHtHMpaB68x"
      },
      "source": [
        "#### Ambiguous features"
      ]
    },
    {
      "cell_type": "markdown",
      "metadata": {
        "id": "PLxcyqdoB68x"
      },
      "source": [
        "#### Rare features and spurious correlations"
      ]
    },
    {
      "cell_type": "markdown",
      "metadata": {
        "id": "vrhlUmdtB68x"
      },
      "source": [
        "**Adding white-noise channels or all-zeros channels to MNIST**"
      ]
    },
    {
      "cell_type": "code",
      "execution_count": 1,
      "metadata": {
        "id": "DGdoenm-B68x",
        "outputId": "da39d7bb-ae26-4778-904c-85a81f82820a",
        "colab": {
          "base_uri": "https://localhost:8080/"
        }
      },
      "outputs": [
        {
          "output_type": "stream",
          "name": "stdout",
          "text": [
            "Downloading data from https://storage.googleapis.com/tensorflow/tf-keras-datasets/mnist.npz\n",
            "11490434/11490434 [==============================] - 0s 0us/step\n",
            "CPU times: user 6.77 s, sys: 2.34 s, total: 9.11 s\n",
            "Wall time: 18.8 s\n"
          ]
        }
      ],
      "source": [
        "%%time\n",
        "from tensorflow.keras.datasets import mnist\n",
        "import numpy as np\n",
        "\n",
        "(train_images, train_labels), _ = mnist.load_data()\n",
        "train_images = train_images.reshape((60000, 28 * 28))\n",
        "train_images = train_images.astype(\"float32\") / 255\n",
        "\n",
        "\n",
        "train_images_with_noise_channels = np.concatenate(\n",
        "    [train_images, np.random.random((len(train_images), 784))], axis=1)\n",
        "\n",
        "train_images_with_zeros_channels = np.concatenate(\n",
        "    [train_images, np.zeros((len(train_images), 784))], axis=1)"
      ]
    },
    {
      "cell_type": "code",
      "source": [
        "train_images.shape"
      ],
      "metadata": {
        "id": "SlJLKld7Xb9M",
        "outputId": "5afae8c2-f078-4dbf-d627-4aafbdca32a6",
        "colab": {
          "base_uri": "https://localhost:8080/"
        }
      },
      "execution_count": 3,
      "outputs": [
        {
          "output_type": "execute_result",
          "data": {
            "text/plain": [
              "(60000, 784)"
            ]
          },
          "metadata": {},
          "execution_count": 3
        }
      ]
    },
    {
      "cell_type": "code",
      "source": [
        "train_images_with_noise_channels.shape"
      ],
      "metadata": {
        "id": "0W_i8ce2XCI-",
        "outputId": "8d259845-857e-4fc8-f955-0a3a604249db",
        "colab": {
          "base_uri": "https://localhost:8080/"
        }
      },
      "execution_count": 4,
      "outputs": [
        {
          "output_type": "execute_result",
          "data": {
            "text/plain": [
              "(60000, 1568)"
            ]
          },
          "metadata": {},
          "execution_count": 4
        }
      ]
    },
    {
      "cell_type": "code",
      "source": [
        "train_images_with_noise_channels[0]"
      ],
      "metadata": {
        "id": "kQXxJ5VFXS9H",
        "outputId": "4a000ac3-70e4-4052-90c3-fd54b7f23411",
        "colab": {
          "base_uri": "https://localhost:8080/"
        }
      },
      "execution_count": 5,
      "outputs": [
        {
          "output_type": "execute_result",
          "data": {
            "text/plain": [
              "array([0.        , 0.        , 0.        , ..., 0.01283554, 0.22648775,\n",
              "       0.81939901])"
            ]
          },
          "metadata": {},
          "execution_count": 5
        }
      ]
    },
    {
      "cell_type": "code",
      "source": [
        "train_images_with_zeros_channels.shape"
      ],
      "metadata": {
        "id": "yC8THboiXTNB",
        "outputId": "845c7d96-cd3b-4b5c-b084-28fb6b83610e",
        "colab": {
          "base_uri": "https://localhost:8080/"
        }
      },
      "execution_count": 6,
      "outputs": [
        {
          "output_type": "execute_result",
          "data": {
            "text/plain": [
              "(60000, 1568)"
            ]
          },
          "metadata": {},
          "execution_count": 6
        }
      ]
    },
    {
      "cell_type": "code",
      "source": [
        "train_images_with_zeros_channels[0]"
      ],
      "metadata": {
        "id": "fe9dc4T9Xn71",
        "outputId": "c34ef6f5-a509-411a-a055-1186f0302ed5",
        "colab": {
          "base_uri": "https://localhost:8080/"
        }
      },
      "execution_count": 7,
      "outputs": [
        {
          "output_type": "execute_result",
          "data": {
            "text/plain": [
              "array([0., 0., 0., ..., 0., 0., 0.])"
            ]
          },
          "metadata": {},
          "execution_count": 7
        }
      ]
    },
    {
      "cell_type": "markdown",
      "metadata": {
        "id": "rbms7438B68z"
      },
      "source": [
        "**Training the same model on MNIST data with noise channels or all-zero channels**"
      ]
    },
    {
      "cell_type": "code",
      "execution_count": 9,
      "metadata": {
        "id": "guLeiIzgB68z",
        "outputId": "bbf05918-438e-48a0-c052-320ff8ece8bc",
        "colab": {
          "base_uri": "https://localhost:8080/"
        }
      },
      "outputs": [
        {
          "output_type": "stream",
          "name": "stdout",
          "text": [
            "Epoch 1/10\n",
            "375/375 [==============================] - 5s 13ms/step - loss: 0.2966 - accuracy: 0.9154 - val_loss: 0.1495 - val_accuracy: 0.9567\n",
            "Epoch 2/10\n",
            "375/375 [==============================] - 4s 11ms/step - loss: 0.1219 - accuracy: 0.9639 - val_loss: 0.1095 - val_accuracy: 0.9666\n",
            "Epoch 3/10\n",
            "375/375 [==============================] - 7s 19ms/step - loss: 0.0804 - accuracy: 0.9761 - val_loss: 0.0899 - val_accuracy: 0.9733\n",
            "Epoch 4/10\n",
            "375/375 [==============================] - 4s 12ms/step - loss: 0.0574 - accuracy: 0.9828 - val_loss: 0.0885 - val_accuracy: 0.9740\n",
            "Epoch 5/10\n",
            "375/375 [==============================] - 5s 12ms/step - loss: 0.0437 - accuracy: 0.9869 - val_loss: 0.0802 - val_accuracy: 0.9771\n",
            "Epoch 6/10\n",
            "375/375 [==============================] - 6s 16ms/step - loss: 0.0328 - accuracy: 0.9901 - val_loss: 0.0789 - val_accuracy: 0.9753\n",
            "Epoch 7/10\n",
            "375/375 [==============================] - 6s 15ms/step - loss: 0.0246 - accuracy: 0.9930 - val_loss: 0.0800 - val_accuracy: 0.9762\n",
            "Epoch 8/10\n",
            "375/375 [==============================] - 5s 12ms/step - loss: 0.0185 - accuracy: 0.9949 - val_loss: 0.0739 - val_accuracy: 0.9794\n",
            "Epoch 9/10\n",
            "375/375 [==============================] - 5s 13ms/step - loss: 0.0138 - accuracy: 0.9965 - val_loss: 0.0723 - val_accuracy: 0.9789\n",
            "Epoch 10/10\n",
            "375/375 [==============================] - 7s 18ms/step - loss: 0.0097 - accuracy: 0.9976 - val_loss: 0.0832 - val_accuracy: 0.9767\n",
            "Epoch 1/10\n",
            "375/375 [==============================] - 10s 21ms/step - loss: 0.6025 - accuracy: 0.8173 - val_loss: 0.2776 - val_accuracy: 0.9212\n",
            "Epoch 2/10\n",
            "375/375 [==============================] - 14s 37ms/step - loss: 0.2541 - accuracy: 0.9214 - val_loss: 0.2681 - val_accuracy: 0.9129\n",
            "Epoch 3/10\n",
            "375/375 [==============================] - 15s 40ms/step - loss: 0.1682 - accuracy: 0.9484 - val_loss: 0.1843 - val_accuracy: 0.9430\n",
            "Epoch 4/10\n",
            "375/375 [==============================] - 9s 24ms/step - loss: 0.1184 - accuracy: 0.9635 - val_loss: 0.1324 - val_accuracy: 0.9597\n",
            "Epoch 5/10\n",
            "375/375 [==============================] - 9s 25ms/step - loss: 0.0864 - accuracy: 0.9726 - val_loss: 0.1167 - val_accuracy: 0.9663\n",
            "Epoch 6/10\n",
            "375/375 [==============================] - 9s 25ms/step - loss: 0.0657 - accuracy: 0.9794 - val_loss: 0.1110 - val_accuracy: 0.9679\n",
            "Epoch 7/10\n",
            "375/375 [==============================] - 13s 34ms/step - loss: 0.0485 - accuracy: 0.9846 - val_loss: 0.1639 - val_accuracy: 0.9560\n",
            "Epoch 8/10\n",
            "375/375 [==============================] - 10s 26ms/step - loss: 0.0371 - accuracy: 0.9879 - val_loss: 0.2302 - val_accuracy: 0.9401\n",
            "Epoch 9/10\n",
            "375/375 [==============================] - 13s 36ms/step - loss: 0.0258 - accuracy: 0.9917 - val_loss: 0.1810 - val_accuracy: 0.9525\n",
            "Epoch 10/10\n",
            "375/375 [==============================] - 8s 21ms/step - loss: 0.0192 - accuracy: 0.9940 - val_loss: 0.1564 - val_accuracy: 0.9623\n",
            "Epoch 1/10\n",
            "375/375 [==============================] - 9s 22ms/step - loss: 0.2959 - accuracy: 0.9138 - val_loss: 0.1491 - val_accuracy: 0.9574\n",
            "Epoch 2/10\n",
            "375/375 [==============================] - 10s 27ms/step - loss: 0.1226 - accuracy: 0.9646 - val_loss: 0.1066 - val_accuracy: 0.9678\n",
            "Epoch 3/10\n",
            "375/375 [==============================] - 7s 19ms/step - loss: 0.0807 - accuracy: 0.9762 - val_loss: 0.0870 - val_accuracy: 0.9733\n",
            "Epoch 4/10\n",
            "375/375 [==============================] - 11s 30ms/step - loss: 0.0583 - accuracy: 0.9829 - val_loss: 0.0885 - val_accuracy: 0.9735\n",
            "Epoch 5/10\n",
            "375/375 [==============================] - 11s 28ms/step - loss: 0.0444 - accuracy: 0.9872 - val_loss: 0.0769 - val_accuracy: 0.9765\n",
            "Epoch 6/10\n",
            "375/375 [==============================] - 9s 24ms/step - loss: 0.0336 - accuracy: 0.9904 - val_loss: 0.0723 - val_accuracy: 0.9779\n",
            "Epoch 7/10\n",
            "375/375 [==============================] - 8s 21ms/step - loss: 0.0249 - accuracy: 0.9931 - val_loss: 0.0759 - val_accuracy: 0.9769\n",
            "Epoch 8/10\n",
            "375/375 [==============================] - 10s 25ms/step - loss: 0.0187 - accuracy: 0.9951 - val_loss: 0.0757 - val_accuracy: 0.9786\n",
            "Epoch 9/10\n",
            "375/375 [==============================] - 7s 20ms/step - loss: 0.0142 - accuracy: 0.9963 - val_loss: 0.0786 - val_accuracy: 0.9794\n",
            "Epoch 10/10\n",
            "375/375 [==============================] - 10s 27ms/step - loss: 0.0109 - accuracy: 0.9971 - val_loss: 0.0724 - val_accuracy: 0.9800\n"
          ]
        }
      ],
      "source": [
        "%%time\n",
        "from tensorflow import keras\n",
        "from tensorflow.keras import layers\n",
        "\n",
        "def get_model():\n",
        "    model = keras.Sequential([\n",
        "        layers.Dense(512, activation=\"relu\"),\n",
        "        layers.Dense(10, activation=\"softmax\")\n",
        "    ])\n",
        "    model.compile(optimizer=\"rmsprop\",\n",
        "                  loss=\"sparse_categorical_crossentropy\",\n",
        "                  metrics=[\"accuracy\"])\n",
        "    return model\n",
        "\n",
        "model = get_model()\n",
        "history = model.fit(\n",
        "    train_images, train_labels,\n",
        "    epochs=10,\n",
        "    batch_size=128,\n",
        "    validation_split=0.2)\n",
        "\n",
        "model = get_model()\n",
        "history_noise = model.fit(\n",
        "    train_images_with_noise_channels, train_labels,\n",
        "    epochs=10,\n",
        "    batch_size=128,\n",
        "    validation_split=0.2)\n",
        "\n",
        "model = get_model()\n",
        "history_zeros = model.fit(\n",
        "    train_images_with_zeros_channels, train_labels,\n",
        "    epochs=10,\n",
        "    batch_size=128,\n",
        "    validation_split=0.2)"
      ]
    },
    {
      "cell_type": "markdown",
      "metadata": {
        "id": "ahc3sajoB68z"
      },
      "source": [
        "**Plotting a validation accuracy comparison**"
      ]
    },
    {
      "cell_type": "code",
      "execution_count": 12,
      "metadata": {
        "id": "bg9qskcQB68z",
        "outputId": "c017791d-03f8-4b7a-d3b5-9c969a3766e4",
        "colab": {
          "base_uri": "https://localhost:8080/",
          "height": 489
        }
      },
      "outputs": [
        {
          "output_type": "execute_result",
          "data": {
            "text/plain": [
              "<matplotlib.legend.Legend at 0x7bdda2a2bb20>"
            ]
          },
          "metadata": {},
          "execution_count": 12
        },
        {
          "output_type": "display_data",
          "data": {
            "text/plain": [
              "<Figure size 640x480 with 1 Axes>"
            ],
            "image/png": "[encoded data removed]"
          },
          "metadata": {}
        }
      ],
      "source": [
        "import matplotlib.pyplot as plt\n",
        "val_acc_orig = history.history[\"val_accuracy\"]\n",
        "val_acc_noise = history_noise.history[\"val_accuracy\"]\n",
        "val_acc_zeros = history_zeros.history[\"val_accuracy\"]\n",
        "epochs = range(1, 11)\n",
        "\n",
        "plt.plot(epochs, val_acc_orig, \"g-.\",\n",
        "         label=\"Validation accuracy with original data\")\n",
        "plt.plot(epochs, val_acc_noise, \"r-\",\n",
        "         label=\"Validation accuracy with noise channels\")\n",
        "plt.plot(epochs, val_acc_zeros, \"b--\",\n",
        "         label=\"Validation accuracy with zeros channels\")\n",
        "plt.title(\"Effect of noise channels on validation accuracy\")\n",
        "plt.xlabel(\"Epochs\")\n",
        "plt.ylabel(\"Validation Accuracy\")\n",
        "plt.legend()"
      ]
    },
    {
      "cell_type": "markdown",
      "metadata": {
        "id": "YTVJPen1B680"
      },
      "source": [
        "### The nature of generalization in deep learning"
      ]
    },
    {
      "cell_type": "markdown",
      "metadata": {
        "id": "NG_RAnezB680"
      },
      "source": [
        "**Fitting a MNIST model with randomly shuffled labels**"
      ]
    },
    {
      "cell_type": "code",
      "execution_count": null,
      "metadata": {
        "id": "4UotPGM8B680",
        "outputId": "21815683-de51-45c0-9c57-bf9a207ca170",
        "colab": {
          "base_uri": "https://localhost:8080/"
        }
      },
      "outputs": [
        {
          "output_type": "stream",
          "name": "stdout",
          "text": [
            "Epoch 1/100\n",
            "375/375 [==============================] - 4s 10ms/step - loss: 2.3158 - accuracy: 0.1041 - val_loss: 2.3061 - val_accuracy: 0.1073\n",
            "Epoch 2/100\n",
            "375/375 [==============================] - 5s 12ms/step - loss: 2.2989 - accuracy: 0.1182 - val_loss: 2.3155 - val_accuracy: 0.1018\n",
            "Epoch 3/100\n",
            "375/375 [==============================] - 4s 10ms/step - loss: 2.2916 - accuracy: 0.1265 - val_loss: 2.3198 - val_accuracy: 0.1024\n",
            "Epoch 4/100\n",
            "375/375 [==============================] - 4s 11ms/step - loss: 2.2799 - accuracy: 0.1371 - val_loss: 2.3220 - val_accuracy: 0.1066\n",
            "Epoch 5/100\n",
            "375/375 [==============================] - 5s 13ms/step - loss: 2.2643 - accuracy: 0.1523 - val_loss: 2.3327 - val_accuracy: 0.1002\n",
            "Epoch 6/100\n",
            "375/375 [==============================] - 4s 10ms/step - loss: 2.2449 - accuracy: 0.1644 - val_loss: 2.3507 - val_accuracy: 0.0976\n",
            "Epoch 7/100\n",
            "375/375 [==============================] - 4s 10ms/step - loss: 2.2220 - accuracy: 0.1777 - val_loss: 2.3656 - val_accuracy: 0.1006\n",
            "Epoch 8/100\n",
            "375/375 [==============================] - 5s 12ms/step - loss: 2.1949 - accuracy: 0.1950 - val_loss: 2.3748 - val_accuracy: 0.1031\n",
            "Epoch 9/100\n",
            "375/375 [==============================] - 4s 10ms/step - loss: 2.1651 - accuracy: 0.2105 - val_loss: 2.3964 - val_accuracy: 0.1008\n",
            "Epoch 10/100\n",
            "375/375 [==============================] - 3s 8ms/step - loss: 2.1326 - accuracy: 0.2260 - val_loss: 2.4183 - val_accuracy: 0.0969\n",
            "Epoch 11/100\n",
            "375/375 [==============================] - 4s 11ms/step - loss: 2.0993 - accuracy: 0.2450 - val_loss: 2.4387 - val_accuracy: 0.1010\n",
            "Epoch 12/100\n",
            "375/375 [==============================] - 5s 12ms/step - loss: 2.0620 - accuracy: 0.2632 - val_loss: 2.4811 - val_accuracy: 0.1007\n",
            "Epoch 13/100\n",
            "375/375 [==============================] - 4s 11ms/step - loss: 2.0250 - accuracy: 0.2781 - val_loss: 2.4924 - val_accuracy: 0.0996\n",
            "Epoch 14/100\n",
            "375/375 [==============================] - 5s 13ms/step - loss: 1.9849 - accuracy: 0.2993 - val_loss: 2.5352 - val_accuracy: 0.1021\n",
            "Epoch 15/100\n",
            "375/375 [==============================] - 4s 11ms/step - loss: 1.9470 - accuracy: 0.3138 - val_loss: 2.5641 - val_accuracy: 0.1011\n",
            "Epoch 16/100\n",
            "375/375 [==============================] - 4s 10ms/step - loss: 1.9062 - accuracy: 0.3305 - val_loss: 2.6016 - val_accuracy: 0.0995\n",
            "Epoch 17/100\n",
            "375/375 [==============================] - 4s 10ms/step - loss: 1.8663 - accuracy: 0.3482 - val_loss: 2.6459 - val_accuracy: 0.1041\n",
            "Epoch 18/100\n",
            "375/375 [==============================] - 4s 12ms/step - loss: 1.8279 - accuracy: 0.3615 - val_loss: 2.6786 - val_accuracy: 0.1007\n",
            "Epoch 19/100\n",
            "375/375 [==============================] - 4s 9ms/step - loss: 1.7894 - accuracy: 0.3803 - val_loss: 2.6979 - val_accuracy: 0.1020\n",
            "Epoch 20/100\n",
            "375/375 [==============================] - 3s 9ms/step - loss: 1.7496 - accuracy: 0.3943 - val_loss: 2.7518 - val_accuracy: 0.1000\n",
            "Epoch 21/100\n",
            "375/375 [==============================] - 5s 13ms/step - loss: 1.7127 - accuracy: 0.4069 - val_loss: 2.7781 - val_accuracy: 0.1006\n",
            "Epoch 22/100\n",
            "375/375 [==============================] - 4s 10ms/step - loss: 1.6763 - accuracy: 0.4212 - val_loss: 2.8201 - val_accuracy: 0.1012\n",
            "Epoch 23/100\n",
            "375/375 [==============================] - 4s 10ms/step - loss: 1.6395 - accuracy: 0.4362 - val_loss: 2.8638 - val_accuracy: 0.1029\n",
            "Epoch 24/100\n",
            "375/375 [==============================] - 4s 12ms/step - loss: 1.6026 - accuracy: 0.4508 - val_loss: 2.9404 - val_accuracy: 0.0987\n",
            "Epoch 25/100\n",
            "375/375 [==============================] - 3s 9ms/step - loss: 1.5662 - accuracy: 0.4663 - val_loss: 2.9548 - val_accuracy: 0.1001\n",
            "Epoch 26/100\n",
            "375/375 [==============================] - 3s 9ms/step - loss: 1.5334 - accuracy: 0.4751 - val_loss: 3.0257 - val_accuracy: 0.1003\n",
            "Epoch 27/100\n",
            "375/375 [==============================] - 4s 11ms/step - loss: 1.4992 - accuracy: 0.4890 - val_loss: 3.0530 - val_accuracy: 0.1063\n",
            "Epoch 28/100\n",
            "375/375 [==============================] - 4s 11ms/step - loss: 1.4673 - accuracy: 0.5025 - val_loss: 3.0908 - val_accuracy: 0.1002\n",
            "Epoch 29/100\n",
            "375/375 [==============================] - 4s 10ms/step - loss: 1.4344 - accuracy: 0.5143 - val_loss: 3.1554 - val_accuracy: 0.1028\n",
            "Epoch 30/100\n",
            "375/375 [==============================] - 3s 9ms/step - loss: 1.4028 - accuracy: 0.5251 - val_loss: 3.2072 - val_accuracy: 0.1013\n",
            "Epoch 31/100\n",
            "375/375 [==============================] - 4s 12ms/step - loss: 1.3736 - accuracy: 0.5361 - val_loss: 3.2551 - val_accuracy: 0.1046\n",
            "Epoch 32/100\n",
            "375/375 [==============================] - 4s 10ms/step - loss: 1.3426 - accuracy: 0.5478 - val_loss: 3.3119 - val_accuracy: 0.1019\n",
            "Epoch 33/100\n",
            "375/375 [==============================] - 3s 9ms/step - loss: 1.3132 - accuracy: 0.5569 - val_loss: 3.4093 - val_accuracy: 0.0997\n",
            "Epoch 34/100\n",
            "375/375 [==============================] - 4s 11ms/step - loss: 1.2837 - accuracy: 0.5677 - val_loss: 3.4159 - val_accuracy: 0.0968\n",
            "Epoch 35/100\n",
            "375/375 [==============================] - 4s 9ms/step - loss: 1.2570 - accuracy: 0.5798 - val_loss: 3.4652 - val_accuracy: 0.1042\n",
            "Epoch 36/100\n",
            "375/375 [==============================] - 3s 9ms/step - loss: 1.2318 - accuracy: 0.5894 - val_loss: 3.5314 - val_accuracy: 0.0993\n",
            "Epoch 37/100\n",
            "375/375 [==============================] - 3s 9ms/step - loss: 1.2054 - accuracy: 0.5958 - val_loss: 3.5808 - val_accuracy: 0.1008\n",
            "Epoch 38/100\n",
            "375/375 [==============================] - 4s 11ms/step - loss: 1.1788 - accuracy: 0.6048 - val_loss: 3.6325 - val_accuracy: 0.1032\n",
            "Epoch 39/100\n",
            "375/375 [==============================] - 3s 9ms/step - loss: 1.1527 - accuracy: 0.6145 - val_loss: 3.7022 - val_accuracy: 0.1040\n",
            "Epoch 40/100\n",
            "375/375 [==============================] - 3s 8ms/step - loss: 1.1307 - accuracy: 0.6237 - val_loss: 3.7619 - val_accuracy: 0.1004\n",
            "Epoch 41/100\n",
            "375/375 [==============================] - 4s 10ms/step - loss: 1.1024 - accuracy: 0.6331 - val_loss: 3.8017 - val_accuracy: 0.1053\n",
            "Epoch 42/100\n",
            "375/375 [==============================] - 4s 10ms/step - loss: 1.0832 - accuracy: 0.6405 - val_loss: 3.8897 - val_accuracy: 0.1045\n",
            "Epoch 43/100\n",
            "375/375 [==============================] - 3s 8ms/step - loss: 1.0590 - accuracy: 0.6476 - val_loss: 3.9210 - val_accuracy: 0.1034\n",
            "Epoch 44/100\n",
            "375/375 [==============================] - 3s 8ms/step - loss: 1.0362 - accuracy: 0.6575 - val_loss: 3.9927 - val_accuracy: 0.1018\n",
            "Epoch 45/100\n",
            "375/375 [==============================] - 4s 11ms/step - loss: 1.0143 - accuracy: 0.6647 - val_loss: 4.0484 - val_accuracy: 0.1013\n",
            "Epoch 46/100\n",
            "375/375 [==============================] - 3s 9ms/step - loss: 0.9940 - accuracy: 0.6747 - val_loss: 4.0867 - val_accuracy: 0.1018\n",
            "Epoch 47/100\n",
            "375/375 [==============================] - 3s 8ms/step - loss: 0.9724 - accuracy: 0.6787 - val_loss: 4.1822 - val_accuracy: 0.1011\n",
            "Epoch 48/100\n",
            "375/375 [==============================] - 3s 9ms/step - loss: 0.9528 - accuracy: 0.6854 - val_loss: 4.2285 - val_accuracy: 0.1008\n",
            "Epoch 49/100\n",
            "375/375 [==============================] - 4s 12ms/step - loss: 0.9312 - accuracy: 0.6934 - val_loss: 4.3029 - val_accuracy: 0.0987\n",
            "Epoch 50/100\n",
            "375/375 [==============================] - 3s 8ms/step - loss: 0.9144 - accuracy: 0.6986 - val_loss: 4.3931 - val_accuracy: 0.1016\n",
            "Epoch 51/100\n",
            "375/375 [==============================] - 3s 8ms/step - loss: 0.8938 - accuracy: 0.7054 - val_loss: 4.4446 - val_accuracy: 0.1026\n",
            "Epoch 52/100\n",
            "375/375 [==============================] - 3s 9ms/step - loss: 0.8794 - accuracy: 0.7115 - val_loss: 4.4786 - val_accuracy: 0.0999\n",
            "Epoch 53/100\n",
            "375/375 [==============================] - 4s 11ms/step - loss: 0.8598 - accuracy: 0.7175 - val_loss: 4.5572 - val_accuracy: 0.0991\n",
            "Epoch 54/100\n",
            "375/375 [==============================] - 4s 9ms/step - loss: 0.8387 - accuracy: 0.7245 - val_loss: 4.6308 - val_accuracy: 0.0990\n",
            "Epoch 55/100\n",
            "375/375 [==============================] - 3s 9ms/step - loss: 0.8208 - accuracy: 0.7329 - val_loss: 4.7379 - val_accuracy: 0.1013\n",
            "Epoch 56/100\n",
            "375/375 [==============================] - 4s 12ms/step - loss: 0.8066 - accuracy: 0.7367 - val_loss: 4.7727 - val_accuracy: 0.1024\n",
            "Epoch 57/100\n",
            "375/375 [==============================] - 4s 10ms/step - loss: 0.7895 - accuracy: 0.7435 - val_loss: 4.8381 - val_accuracy: 0.0996\n",
            "Epoch 58/100\n",
            "375/375 [==============================] - 4s 10ms/step - loss: 0.7735 - accuracy: 0.7481 - val_loss: 4.8890 - val_accuracy: 0.0988\n",
            "Epoch 59/100\n",
            "375/375 [==============================] - 4s 11ms/step - loss: 0.7566 - accuracy: 0.7539 - val_loss: 4.9538 - val_accuracy: 0.1005\n",
            "Epoch 60/100\n",
            "375/375 [==============================] - 4s 12ms/step - loss: 0.7415 - accuracy: 0.7604 - val_loss: 5.0405 - val_accuracy: 0.1015\n",
            "Epoch 61/100\n",
            "375/375 [==============================] - 4s 10ms/step - loss: 0.7284 - accuracy: 0.7642 - val_loss: 5.1138 - val_accuracy: 0.0999\n",
            "Epoch 62/100\n",
            "375/375 [==============================] - 4s 10ms/step - loss: 0.7130 - accuracy: 0.7678 - val_loss: 5.2108 - val_accuracy: 0.0992\n",
            "Epoch 63/100\n",
            "375/375 [==============================] - 4s 12ms/step - loss: 0.6991 - accuracy: 0.7742 - val_loss: 5.2534 - val_accuracy: 0.0973\n",
            "Epoch 64/100\n",
            "375/375 [==============================] - 4s 10ms/step - loss: 0.6824 - accuracy: 0.7804 - val_loss: 5.3408 - val_accuracy: 0.1001\n",
            "Epoch 65/100\n",
            "375/375 [==============================] - 4s 10ms/step - loss: 0.6718 - accuracy: 0.7853 - val_loss: 5.3826 - val_accuracy: 0.1020\n",
            "Epoch 66/100\n",
            "375/375 [==============================] - 5s 12ms/step - loss: 0.6571 - accuracy: 0.7876 - val_loss: 5.4947 - val_accuracy: 0.1008\n",
            "Epoch 67/100\n",
            "375/375 [==============================] - 4s 9ms/step - loss: 0.6444 - accuracy: 0.7913 - val_loss: 5.5981 - val_accuracy: 0.0970\n",
            "Epoch 68/100\n",
            "375/375 [==============================] - 4s 10ms/step - loss: 0.6308 - accuracy: 0.7957 - val_loss: 5.5727 - val_accuracy: 0.0969\n",
            "Epoch 69/100\n",
            "375/375 [==============================] - 5s 13ms/step - loss: 0.6167 - accuracy: 0.8035 - val_loss: 5.6668 - val_accuracy: 0.1005\n",
            "Epoch 70/100\n",
            "375/375 [==============================] - 4s 10ms/step - loss: 0.6046 - accuracy: 0.8076 - val_loss: 5.7955 - val_accuracy: 0.1018\n",
            "Epoch 71/100\n",
            "375/375 [==============================] - 4s 9ms/step - loss: 0.5945 - accuracy: 0.8090 - val_loss: 5.8246 - val_accuracy: 0.0980\n",
            "Epoch 72/100\n",
            "375/375 [==============================] - 4s 11ms/step - loss: 0.5827 - accuracy: 0.8162 - val_loss: 5.8613 - val_accuracy: 0.1006\n",
            "Epoch 73/100\n",
            "375/375 [==============================] - 5s 13ms/step - loss: 0.5702 - accuracy: 0.8181 - val_loss: 6.0144 - val_accuracy: 0.0999\n",
            "Epoch 74/100\n",
            "375/375 [==============================] - 5s 13ms/step - loss: 0.5586 - accuracy: 0.8233 - val_loss: 6.0528 - val_accuracy: 0.0984\n",
            "Epoch 75/100\n",
            "375/375 [==============================] - 5s 13ms/step - loss: 0.5477 - accuracy: 0.8257 - val_loss: 6.1378 - val_accuracy: 0.1013\n",
            "Epoch 76/100\n",
            "375/375 [==============================] - 4s 10ms/step - loss: 0.5374 - accuracy: 0.8290 - val_loss: 6.2468 - val_accuracy: 0.0996\n",
            "Epoch 77/100\n",
            "375/375 [==============================] - 4s 10ms/step - loss: 0.5256 - accuracy: 0.8334 - val_loss: 6.3181 - val_accuracy: 0.1049\n",
            "Epoch 78/100\n",
            "375/375 [==============================] - 4s 11ms/step - loss: 0.5175 - accuracy: 0.8362 - val_loss: 6.3106 - val_accuracy: 0.1014\n",
            "Epoch 79/100\n",
            "375/375 [==============================] - 4s 11ms/step - loss: 0.5076 - accuracy: 0.8382 - val_loss: 6.3935 - val_accuracy: 0.0978\n",
            "Epoch 80/100\n",
            "375/375 [==============================] - 4s 10ms/step - loss: 0.4983 - accuracy: 0.8429 - val_loss: 6.5398 - val_accuracy: 0.0968\n",
            "Epoch 81/100\n",
            "375/375 [==============================] - 4s 10ms/step - loss: 0.4885 - accuracy: 0.8462 - val_loss: 6.5733 - val_accuracy: 0.1013\n",
            "Epoch 82/100\n",
            "375/375 [==============================] - 5s 13ms/step - loss: 0.4754 - accuracy: 0.8514 - val_loss: 6.6415 - val_accuracy: 0.0984\n",
            "Epoch 83/100\n",
            "375/375 [==============================] - 4s 10ms/step - loss: 0.4700 - accuracy: 0.8513 - val_loss: 6.7564 - val_accuracy: 0.0977\n",
            "Epoch 84/100\n",
            "375/375 [==============================] - 6s 15ms/step - loss: 0.4588 - accuracy: 0.8553 - val_loss: 6.8206 - val_accuracy: 0.0987\n",
            "Epoch 85/100\n",
            "375/375 [==============================] - 7s 20ms/step - loss: 0.4537 - accuracy: 0.8583 - val_loss: 6.8313 - val_accuracy: 0.1022\n",
            "Epoch 86/100\n",
            "375/375 [==============================] - 4s 12ms/step - loss: 0.4419 - accuracy: 0.8608 - val_loss: 6.9347 - val_accuracy: 0.0999\n",
            "Epoch 87/100\n",
            "375/375 [==============================] - 5s 12ms/step - loss: 0.4353 - accuracy: 0.8634 - val_loss: 6.9887 - val_accuracy: 0.0983\n",
            "Epoch 88/100\n",
            "375/375 [==============================] - 4s 10ms/step - loss: 0.4233 - accuracy: 0.8677 - val_loss: 7.1123 - val_accuracy: 0.0997\n",
            "Epoch 89/100\n",
            "375/375 [==============================] - 4s 10ms/step - loss: 0.4197 - accuracy: 0.8689 - val_loss: 7.1358 - val_accuracy: 0.1000\n",
            "Epoch 90/100\n",
            "375/375 [==============================] - 5s 13ms/step - loss: 0.4093 - accuracy: 0.8747 - val_loss: 7.1697 - val_accuracy: 0.1010\n",
            "Epoch 91/100\n",
            "375/375 [==============================] - 4s 10ms/step - loss: 0.4047 - accuracy: 0.8735 - val_loss: 7.3049 - val_accuracy: 0.0980\n",
            "Epoch 92/100\n",
            "375/375 [==============================] - 4s 10ms/step - loss: 0.3937 - accuracy: 0.8792 - val_loss: 7.4302 - val_accuracy: 0.0990\n",
            "Epoch 93/100\n",
            "375/375 [==============================] - 4s 11ms/step - loss: 0.3889 - accuracy: 0.8786 - val_loss: 7.4872 - val_accuracy: 0.1026\n",
            "Epoch 94/100\n",
            "375/375 [==============================] - 4s 10ms/step - loss: 0.3809 - accuracy: 0.8829 - val_loss: 7.5302 - val_accuracy: 0.0998\n",
            "Epoch 95/100\n",
            "375/375 [==============================] - 4s 10ms/step - loss: 0.3736 - accuracy: 0.8835 - val_loss: 7.6156 - val_accuracy: 0.1016\n",
            "Epoch 96/100\n",
            "375/375 [==============================] - 4s 11ms/step - loss: 0.3691 - accuracy: 0.8866 - val_loss: 7.7007 - val_accuracy: 0.1003\n",
            "Epoch 97/100\n",
            "375/375 [==============================] - 4s 12ms/step - loss: 0.3623 - accuracy: 0.8883 - val_loss: 7.7706 - val_accuracy: 0.1020\n",
            "Epoch 98/100\n",
            "375/375 [==============================] - 4s 10ms/step - loss: 0.3549 - accuracy: 0.8906 - val_loss: 7.8390 - val_accuracy: 0.0971\n",
            "Epoch 99/100\n",
            "375/375 [==============================] - 4s 11ms/step - loss: 0.3494 - accuracy: 0.8926 - val_loss: 7.9576 - val_accuracy: 0.0997\n",
            "Epoch 100/100\n",
            "375/375 [==============================] - 5s 13ms/step - loss: 0.3416 - accuracy: 0.8949 - val_loss: 7.9925 - val_accuracy: 0.1003\n"
          ]
        },
        {
          "output_type": "execute_result",
          "data": {
            "text/plain": [
              "<keras.src.callbacks.History at 0x7dde34d78130>"
            ]
          },
          "metadata": {},
          "execution_count": 4
        }
      ],
      "source": [
        "(train_images, train_labels), _ = mnist.load_data()\n",
        "train_images = train_images.reshape((60000, 28 * 28))\n",
        "train_images = train_images.astype(\"float32\") / 255\n",
        "\n",
        "random_train_labels = train_labels[:]\n",
        "np.random.shuffle(random_train_labels)\n",
        "\n",
        "model = keras.Sequential([\n",
        "    layers.Dense(512, activation=\"relu\"),\n",
        "    layers.Dense(10, activation=\"softmax\")\n",
        "])\n",
        "model.compile(optimizer=\"rmsprop\",\n",
        "              loss=\"sparse_categorical_crossentropy\",\n",
        "              metrics=[\"accuracy\"])\n",
        "model.fit(train_images, random_train_labels,\n",
        "          epochs=100,\n",
        "          batch_size=128,\n",
        "          validation_split=0.2)"
      ]
    },
    {
      "cell_type": "markdown",
      "metadata": {
        "id": "xsVcI-pMB680"
      },
      "source": [
        "#### The manifold hypothesis"
      ]
    },
    {
      "cell_type": "markdown",
      "metadata": {
        "id": "LvX9p0EaB680"
      },
      "source": [
        "#### Interpolation as a source of generalization"
      ]
    },
    {
      "cell_type": "markdown",
      "metadata": {
        "id": "CYOYWe2gB680"
      },
      "source": [
        "#### Why deep learning works"
      ]
    },
    {
      "cell_type": "markdown",
      "metadata": {
        "id": "PAjZGcYWB680"
      },
      "source": [
        "#### Training data is paramount"
      ]
    },
    {
      "cell_type": "markdown",
      "metadata": {
        "id": "wzjat3PhB681"
      },
      "source": [
        "## Evaluating machine-learning models"
      ]
    },
    {
      "cell_type": "markdown",
      "metadata": {
        "id": "1rWr-fNDB681"
      },
      "source": [
        "### Training, validation, and test sets"
      ]
    },
    {
      "cell_type": "markdown",
      "metadata": {
        "id": "4mXC-UVcB681"
      },
      "source": [
        "#### Simple hold-out validation"
      ]
    },
    {
      "cell_type": "markdown",
      "metadata": {
        "id": "PXR2TsDoB681"
      },
      "source": [
        "#### K-fold validation"
      ]
    },
    {
      "cell_type": "markdown",
      "metadata": {
        "id": "5MFFf_3sB681"
      },
      "source": [
        "#### Iterated K-fold validation with shuffling"
      ]
    },
    {
      "cell_type": "markdown",
      "metadata": {
        "id": "FNK_VR2OB681"
      },
      "source": [
        "### Beating a common-sense baseline"
      ]
    },
    {
      "cell_type": "markdown",
      "metadata": {
        "id": "I5HUYLQ1B681"
      },
      "source": [
        "### Things to keep in mind about model evaluation"
      ]
    },
    {
      "cell_type": "markdown",
      "metadata": {
        "id": "P0A7tKL8B681"
      },
      "source": [
        "## Improving model fit"
      ]
    },
    {
      "cell_type": "markdown",
      "metadata": {
        "id": "JaR20Tx_B681"
      },
      "source": [
        "### Tuning key gradient descent parameters"
      ]
    },
    {
      "cell_type": "markdown",
      "metadata": {
        "id": "fP12X7UwB681"
      },
      "source": [
        "**Training a MNIST model with an incorrectly high learning rate**"
      ]
    },
    {
      "cell_type": "code",
      "execution_count": null,
      "metadata": {
        "id": "py4-MtooB681",
        "outputId": "dc57796a-904a-4e38-f332-27f24a0a0e7f",
        "colab": {
          "base_uri": "https://localhost:8080/",
          "height": 634
        }
      },
      "outputs": [
        {
          "output_type": "stream",
          "name": "stdout",
          "text": [
            "Epoch 1/10\n",
            "375/375 [==============================] - 4s 11ms/step - loss: 835.9810 - accuracy: 0.3475 - val_loss: 2.2945 - val_accuracy: 0.2079\n",
            "Epoch 2/10\n",
            "375/375 [==============================] - 5s 12ms/step - loss: 3.0459 - accuracy: 0.2556 - val_loss: 2.2320 - val_accuracy: 0.2328\n",
            "Epoch 3/10\n",
            "375/375 [==============================] - 4s 11ms/step - loss: 2.5273 - accuracy: 0.2121 - val_loss: 2.0460 - val_accuracy: 0.2364\n",
            "Epoch 4/10\n",
            "375/375 [==============================] - 6s 15ms/step - loss: 2.5239 - accuracy: 0.2221 - val_loss: 2.1914 - val_accuracy: 0.2223\n",
            "Epoch 5/10\n",
            "375/375 [==============================] - 5s 13ms/step - loss: 2.4665 - accuracy: 0.2391 - val_loss: 2.1617 - val_accuracy: 0.2418\n",
            "Epoch 6/10\n",
            "375/375 [==============================] - 5s 14ms/step - loss: 2.4545 - accuracy: 0.2139 - val_loss: 2.1467 - val_accuracy: 0.2110\n",
            "Epoch 7/10\n",
            "114/375 [========>.....................] - ETA: 4s - loss: 2.3286 - accuracy: 0.2034"
          ]
        },
        {
          "output_type": "error",
          "ename": "KeyboardInterrupt",
          "evalue": "ignored",
          "traceback": [
            "\u001b[0;31m---------------------------------------------------------------------------\u001b[0m",
            "\u001b[0;31mKeyboardInterrupt\u001b[0m                         Traceback (most recent call last)",
            "\u001b[0;32m<ipython-input-5-2a50e1c081e3>\u001b[0m in \u001b[0;36m<cell line: 12>\u001b[0;34m()\u001b[0m\n\u001b[1;32m     10\u001b[0m               \u001b[0mloss\u001b[0m\u001b[0;34m=\u001b[0m\u001b[0;34m\"sparse_categorical_crossentropy\"\u001b[0m\u001b[0;34m,\u001b[0m\u001b[0;34m\u001b[0m\u001b[0;34m\u001b[0m\u001b[0m\n\u001b[1;32m     11\u001b[0m               metrics=[\"accuracy\"])\n\u001b[0;32m---> 12\u001b[0;31m model.fit(train_images, train_labels,\n\u001b[0m\u001b[1;32m     13\u001b[0m           \u001b[0mepochs\u001b[0m\u001b[0;34m=\u001b[0m\u001b[0;36m10\u001b[0m\u001b[0;34m,\u001b[0m\u001b[0;34m\u001b[0m\u001b[0;34m\u001b[0m\u001b[0m\n\u001b[1;32m     14\u001b[0m           \u001b[0mbatch_size\u001b[0m\u001b[0;34m=\u001b[0m\u001b[0;36m128\u001b[0m\u001b[0;34m,\u001b[0m\u001b[0;34m\u001b[0m\u001b[0;34m\u001b[0m\u001b[0m\n",
            "\u001b[0;32m/usr/local/lib/python3.10/dist-packages/keras/src/utils/traceback_utils.py\u001b[0m in \u001b[0;36merror_handler\u001b[0;34m(*args, **kwargs)\u001b[0m\n\u001b[1;32m     63\u001b[0m         \u001b[0mfiltered_tb\u001b[0m \u001b[0;34m=\u001b[0m \u001b[0;32mNone\u001b[0m\u001b[0;34m\u001b[0m\u001b[0;34m\u001b[0m\u001b[0m\n\u001b[1;32m     64\u001b[0m         \u001b[0;32mtry\u001b[0m\u001b[0;34m:\u001b[0m\u001b[0;34m\u001b[0m\u001b[0;34m\u001b[0m\u001b[0m\n\u001b[0;32m---> 65\u001b[0;31m             \u001b[0;32mreturn\u001b[0m \u001b[0mfn\u001b[0m\u001b[0;34m(\u001b[0m\u001b[0;34m*\u001b[0m\u001b[0margs\u001b[0m\u001b[0;34m,\u001b[0m \u001b[0;34m**\u001b[0m\u001b[0mkwargs\u001b[0m\u001b[0;34m)\u001b[0m\u001b[0;34m\u001b[0m\u001b[0;34m\u001b[0m\u001b[0m\n\u001b[0m\u001b[1;32m     66\u001b[0m         \u001b[0;32mexcept\u001b[0m \u001b[0mException\u001b[0m \u001b[0;32mas\u001b[0m \u001b[0me\u001b[0m\u001b[0;34m:\u001b[0m\u001b[0;34m\u001b[0m\u001b[0;34m\u001b[0m\u001b[0m\n\u001b[1;32m     67\u001b[0m             \u001b[0mfiltered_tb\u001b[0m \u001b[0;34m=\u001b[0m \u001b[0m_process_traceback_frames\u001b[0m\u001b[0;34m(\u001b[0m\u001b[0me\u001b[0m\u001b[0;34m.\u001b[0m\u001b[0m__traceback__\u001b[0m\u001b[0;34m)\u001b[0m\u001b[0;34m\u001b[0m\u001b[0;34m\u001b[0m\u001b[0m\n",
            "\u001b[0;32m/usr/local/lib/python3.10/dist-packages/keras/src/engine/training.py\u001b[0m in \u001b[0;36mfit\u001b[0;34m(self, x, y, batch_size, epochs, verbose, callbacks, validation_split, validation_data, shuffle, class_weight, sample_weight, initial_epoch, steps_per_epoch, validation_steps, validation_batch_size, validation_freq, max_queue_size, workers, use_multiprocessing)\u001b[0m\n\u001b[1;32m   1740\u001b[0m                         ):\n\u001b[1;32m   1741\u001b[0m                             \u001b[0mcallbacks\u001b[0m\u001b[0;34m.\u001b[0m\u001b[0mon_train_batch_begin\u001b[0m\u001b[0;34m(\u001b[0m\u001b[0mstep\u001b[0m\u001b[0;34m)\u001b[0m\u001b[0;34m\u001b[0m\u001b[0;34m\u001b[0m\u001b[0m\n\u001b[0;32m-> 1742\u001b[0;31m                             \u001b[0mtmp_logs\u001b[0m \u001b[0;34m=\u001b[0m \u001b[0mself\u001b[0m\u001b[0;34m.\u001b[0m\u001b[0mtrain_function\u001b[0m\u001b[0;34m(\u001b[0m\u001b[0miterator\u001b[0m\u001b[0;34m)\u001b[0m\u001b[0;34m\u001b[0m\u001b[0;34m\u001b[0m\u001b[0m\n\u001b[0m\u001b[1;32m   1743\u001b[0m                             \u001b[0;32mif\u001b[0m \u001b[0mdata_handler\u001b[0m\u001b[0;34m.\u001b[0m\u001b[0mshould_sync\u001b[0m\u001b[0;34m:\u001b[0m\u001b[0;34m\u001b[0m\u001b[0;34m\u001b[0m\u001b[0m\n\u001b[1;32m   1744\u001b[0m                                 \u001b[0mcontext\u001b[0m\u001b[0;34m.\u001b[0m\u001b[0masync_wait\u001b[0m\u001b[0;34m(\u001b[0m\u001b[0;34m)\u001b[0m\u001b[0;34m\u001b[0m\u001b[0;34m\u001b[0m\u001b[0m\n",
            "\u001b[0;32m/usr/local/lib/python3.10/dist-packages/tensorflow/python/util/traceback_utils.py\u001b[0m in \u001b[0;36merror_handler\u001b[0;34m(*args, **kwargs)\u001b[0m\n\u001b[1;32m    148\u001b[0m     \u001b[0mfiltered_tb\u001b[0m \u001b[0;34m=\u001b[0m \u001b[0;32mNone\u001b[0m\u001b[0;34m\u001b[0m\u001b[0;34m\u001b[0m\u001b[0m\n\u001b[1;32m    149\u001b[0m     \u001b[0;32mtry\u001b[0m\u001b[0;34m:\u001b[0m\u001b[0;34m\u001b[0m\u001b[0;34m\u001b[0m\u001b[0m\n\u001b[0;32m--> 150\u001b[0;31m       \u001b[0;32mreturn\u001b[0m \u001b[0mfn\u001b[0m\u001b[0;34m(\u001b[0m\u001b[0;34m*\u001b[0m\u001b[0margs\u001b[0m\u001b[0;34m,\u001b[0m \u001b[0;34m**\u001b[0m\u001b[0mkwargs\u001b[0m\u001b[0;34m)\u001b[0m\u001b[0;34m\u001b[0m\u001b[0;34m\u001b[0m\u001b[0m\n\u001b[0m\u001b[1;32m    151\u001b[0m     \u001b[0;32mexcept\u001b[0m \u001b[0mException\u001b[0m \u001b[0;32mas\u001b[0m \u001b[0me\u001b[0m\u001b[0;34m:\u001b[0m\u001b[0;34m\u001b[0m\u001b[0;34m\u001b[0m\u001b[0m\n\u001b[1;32m    152\u001b[0m       \u001b[0mfiltered_tb\u001b[0m \u001b[0;34m=\u001b[0m \u001b[0m_process_traceback_frames\u001b[0m\u001b[0;34m(\u001b[0m\u001b[0me\u001b[0m\u001b[0;34m.\u001b[0m\u001b[0m__traceback__\u001b[0m\u001b[0;34m)\u001b[0m\u001b[0;34m\u001b[0m\u001b[0;34m\u001b[0m\u001b[0m\n",
            "\u001b[0;32m/usr/local/lib/python3.10/dist-packages/tensorflow/python/eager/polymorphic_function/polymorphic_function.py\u001b[0m in \u001b[0;36m__call__\u001b[0;34m(self, *args, **kwds)\u001b[0m\n\u001b[1;32m    823\u001b[0m \u001b[0;34m\u001b[0m\u001b[0m\n\u001b[1;32m    824\u001b[0m       \u001b[0;32mwith\u001b[0m \u001b[0mOptionalXlaContext\u001b[0m\u001b[0;34m(\u001b[0m\u001b[0mself\u001b[0m\u001b[0;34m.\u001b[0m\u001b[0m_jit_compile\u001b[0m\u001b[0;34m)\u001b[0m\u001b[0;34m:\u001b[0m\u001b[0;34m\u001b[0m\u001b[0;34m\u001b[0m\u001b[0m\n\u001b[0;32m--> 825\u001b[0;31m         \u001b[0mresult\u001b[0m \u001b[0;34m=\u001b[0m \u001b[0mself\u001b[0m\u001b[0;34m.\u001b[0m\u001b[0m_call\u001b[0m\u001b[0;34m(\u001b[0m\u001b[0;34m*\u001b[0m\u001b[0margs\u001b[0m\u001b[0;34m,\u001b[0m \u001b[0;34m**\u001b[0m\u001b[0mkwds\u001b[0m\u001b[0;34m)\u001b[0m\u001b[0;34m\u001b[0m\u001b[0;34m\u001b[0m\u001b[0m\n\u001b[0m\u001b[1;32m    826\u001b[0m \u001b[0;34m\u001b[0m\u001b[0m\n\u001b[1;32m    827\u001b[0m       \u001b[0mnew_tracing_count\u001b[0m \u001b[0;34m=\u001b[0m \u001b[0mself\u001b[0m\u001b[0;34m.\u001b[0m\u001b[0mexperimental_get_tracing_count\u001b[0m\u001b[0;34m(\u001b[0m\u001b[0;34m)\u001b[0m\u001b[0;34m\u001b[0m\u001b[0;34m\u001b[0m\u001b[0m\n",
            "\u001b[0;32m/usr/local/lib/python3.10/dist-packages/tensorflow/python/eager/polymorphic_function/polymorphic_function.py\u001b[0m in \u001b[0;36m_call\u001b[0;34m(self, *args, **kwds)\u001b[0m\n\u001b[1;32m    855\u001b[0m       \u001b[0;31m# In this case we have created variables on the first call, so we run the\u001b[0m\u001b[0;34m\u001b[0m\u001b[0;34m\u001b[0m\u001b[0m\n\u001b[1;32m    856\u001b[0m       \u001b[0;31m# defunned version which is guaranteed to never create variables.\u001b[0m\u001b[0;34m\u001b[0m\u001b[0;34m\u001b[0m\u001b[0m\n\u001b[0;32m--> 857\u001b[0;31m       \u001b[0;32mreturn\u001b[0m \u001b[0mself\u001b[0m\u001b[0;34m.\u001b[0m\u001b[0m_no_variable_creation_fn\u001b[0m\u001b[0;34m(\u001b[0m\u001b[0;34m*\u001b[0m\u001b[0margs\u001b[0m\u001b[0;34m,\u001b[0m \u001b[0;34m**\u001b[0m\u001b[0mkwds\u001b[0m\u001b[0;34m)\u001b[0m  \u001b[0;31m# pylint: disable=not-callable\u001b[0m\u001b[0;34m\u001b[0m\u001b[0;34m\u001b[0m\u001b[0m\n\u001b[0m\u001b[1;32m    858\u001b[0m     \u001b[0;32melif\u001b[0m \u001b[0mself\u001b[0m\u001b[0;34m.\u001b[0m\u001b[0m_variable_creation_fn\u001b[0m \u001b[0;32mis\u001b[0m \u001b[0;32mnot\u001b[0m \u001b[0;32mNone\u001b[0m\u001b[0;34m:\u001b[0m\u001b[0;34m\u001b[0m\u001b[0;34m\u001b[0m\u001b[0m\n\u001b[1;32m    859\u001b[0m       \u001b[0;31m# Release the lock early so that multiple threads can perform the call\u001b[0m\u001b[0;34m\u001b[0m\u001b[0;34m\u001b[0m\u001b[0m\n",
            "\u001b[0;32m/usr/local/lib/python3.10/dist-packages/tensorflow/python/eager/polymorphic_function/tracing_compiler.py\u001b[0m in \u001b[0;36m__call__\u001b[0;34m(self, *args, **kwargs)\u001b[0m\n\u001b[1;32m    146\u001b[0m       (concrete_function,\n\u001b[1;32m    147\u001b[0m        filtered_flat_args) = self._maybe_define_function(args, kwargs)\n\u001b[0;32m--> 148\u001b[0;31m     return concrete_function._call_flat(\n\u001b[0m\u001b[1;32m    149\u001b[0m         filtered_flat_args, captured_inputs=concrete_function.captured_inputs)  # pylint: disable=protected-access\n\u001b[1;32m    150\u001b[0m \u001b[0;34m\u001b[0m\u001b[0m\n",
            "\u001b[0;32m/usr/local/lib/python3.10/dist-packages/tensorflow/python/eager/polymorphic_function/monomorphic_function.py\u001b[0m in \u001b[0;36m_call_flat\u001b[0;34m(self, args, captured_inputs)\u001b[0m\n\u001b[1;32m   1347\u001b[0m         and executing_eagerly):\n\u001b[1;32m   1348\u001b[0m       \u001b[0;31m# No tape is watching; skip to running the function.\u001b[0m\u001b[0;34m\u001b[0m\u001b[0;34m\u001b[0m\u001b[0m\n\u001b[0;32m-> 1349\u001b[0;31m       \u001b[0;32mreturn\u001b[0m \u001b[0mself\u001b[0m\u001b[0;34m.\u001b[0m\u001b[0m_build_call_outputs\u001b[0m\u001b[0;34m(\u001b[0m\u001b[0mself\u001b[0m\u001b[0;34m.\u001b[0m\u001b[0m_inference_function\u001b[0m\u001b[0;34m(\u001b[0m\u001b[0;34m*\u001b[0m\u001b[0margs\u001b[0m\u001b[0;34m)\u001b[0m\u001b[0;34m)\u001b[0m\u001b[0;34m\u001b[0m\u001b[0;34m\u001b[0m\u001b[0m\n\u001b[0m\u001b[1;32m   1350\u001b[0m     forward_backward = self._select_forward_and_backward_functions(\n\u001b[1;32m   1351\u001b[0m         \u001b[0margs\u001b[0m\u001b[0;34m,\u001b[0m\u001b[0;34m\u001b[0m\u001b[0;34m\u001b[0m\u001b[0m\n",
            "\u001b[0;32m/usr/local/lib/python3.10/dist-packages/tensorflow/python/eager/polymorphic_function/atomic_function.py\u001b[0m in \u001b[0;36m__call__\u001b[0;34m(self, *args)\u001b[0m\n\u001b[1;32m    194\u001b[0m         \u001b[0;32mwith\u001b[0m \u001b[0mrecord\u001b[0m\u001b[0;34m.\u001b[0m\u001b[0mstop_recording\u001b[0m\u001b[0;34m(\u001b[0m\u001b[0;34m)\u001b[0m\u001b[0;34m:\u001b[0m\u001b[0;34m\u001b[0m\u001b[0;34m\u001b[0m\u001b[0m\n\u001b[1;32m    195\u001b[0m           \u001b[0;32mif\u001b[0m \u001b[0mself\u001b[0m\u001b[0;34m.\u001b[0m\u001b[0m_bound_context\u001b[0m\u001b[0;34m.\u001b[0m\u001b[0mexecuting_eagerly\u001b[0m\u001b[0;34m(\u001b[0m\u001b[0;34m)\u001b[0m\u001b[0;34m:\u001b[0m\u001b[0;34m\u001b[0m\u001b[0;34m\u001b[0m\u001b[0m\n\u001b[0;32m--> 196\u001b[0;31m             outputs = self._bound_context.call_function(\n\u001b[0m\u001b[1;32m    197\u001b[0m                 \u001b[0mself\u001b[0m\u001b[0;34m.\u001b[0m\u001b[0mname\u001b[0m\u001b[0;34m,\u001b[0m\u001b[0;34m\u001b[0m\u001b[0;34m\u001b[0m\u001b[0m\n\u001b[1;32m    198\u001b[0m                 \u001b[0mlist\u001b[0m\u001b[0;34m(\u001b[0m\u001b[0margs\u001b[0m\u001b[0;34m)\u001b[0m\u001b[0;34m,\u001b[0m\u001b[0;34m\u001b[0m\u001b[0;34m\u001b[0m\u001b[0m\n",
            "\u001b[0;32m/usr/local/lib/python3.10/dist-packages/tensorflow/python/eager/context.py\u001b[0m in \u001b[0;36mcall_function\u001b[0;34m(self, name, tensor_inputs, num_outputs)\u001b[0m\n\u001b[1;32m   1455\u001b[0m     \u001b[0mcancellation_context\u001b[0m \u001b[0;34m=\u001b[0m \u001b[0mcancellation\u001b[0m\u001b[0;34m.\u001b[0m\u001b[0mcontext\u001b[0m\u001b[0;34m(\u001b[0m\u001b[0;34m)\u001b[0m\u001b[0;34m\u001b[0m\u001b[0;34m\u001b[0m\u001b[0m\n\u001b[1;32m   1456\u001b[0m     \u001b[0;32mif\u001b[0m \u001b[0mcancellation_context\u001b[0m \u001b[0;32mis\u001b[0m \u001b[0;32mNone\u001b[0m\u001b[0;34m:\u001b[0m\u001b[0;34m\u001b[0m\u001b[0;34m\u001b[0m\u001b[0m\n\u001b[0;32m-> 1457\u001b[0;31m       outputs = execute.execute(\n\u001b[0m\u001b[1;32m   1458\u001b[0m           \u001b[0mname\u001b[0m\u001b[0;34m.\u001b[0m\u001b[0mdecode\u001b[0m\u001b[0;34m(\u001b[0m\u001b[0;34m\"utf-8\"\u001b[0m\u001b[0;34m)\u001b[0m\u001b[0;34m,\u001b[0m\u001b[0;34m\u001b[0m\u001b[0;34m\u001b[0m\u001b[0m\n\u001b[1;32m   1459\u001b[0m           \u001b[0mnum_outputs\u001b[0m\u001b[0;34m=\u001b[0m\u001b[0mnum_outputs\u001b[0m\u001b[0;34m,\u001b[0m\u001b[0;34m\u001b[0m\u001b[0;34m\u001b[0m\u001b[0m\n",
            "\u001b[0;32m/usr/local/lib/python3.10/dist-packages/tensorflow/python/eager/execute.py\u001b[0m in \u001b[0;36mquick_execute\u001b[0;34m(op_name, num_outputs, inputs, attrs, ctx, name)\u001b[0m\n\u001b[1;32m     51\u001b[0m   \u001b[0;32mtry\u001b[0m\u001b[0;34m:\u001b[0m\u001b[0;34m\u001b[0m\u001b[0;34m\u001b[0m\u001b[0m\n\u001b[1;32m     52\u001b[0m     \u001b[0mctx\u001b[0m\u001b[0;34m.\u001b[0m\u001b[0mensure_initialized\u001b[0m\u001b[0;34m(\u001b[0m\u001b[0;34m)\u001b[0m\u001b[0;34m\u001b[0m\u001b[0;34m\u001b[0m\u001b[0m\n\u001b[0;32m---> 53\u001b[0;31m     tensors = pywrap_tfe.TFE_Py_Execute(ctx._handle, device_name, op_name,\n\u001b[0m\u001b[1;32m     54\u001b[0m                                         inputs, attrs, num_outputs)\n\u001b[1;32m     55\u001b[0m   \u001b[0;32mexcept\u001b[0m \u001b[0mcore\u001b[0m\u001b[0;34m.\u001b[0m\u001b[0m_NotOkStatusException\u001b[0m \u001b[0;32mas\u001b[0m \u001b[0me\u001b[0m\u001b[0;34m:\u001b[0m\u001b[0;34m\u001b[0m\u001b[0;34m\u001b[0m\u001b[0m\n",
            "\u001b[0;31mKeyboardInterrupt\u001b[0m: "
          ]
        }
      ],
      "source": [
        "(train_images, train_labels), _ = mnist.load_data()\n",
        "train_images = train_images.reshape((60000, 28 * 28))\n",
        "train_images = train_images.astype(\"float32\") / 255\n",
        "\n",
        "model = keras.Sequential([\n",
        "    layers.Dense(512, activation=\"relu\"),\n",
        "    layers.Dense(10, activation=\"softmax\")\n",
        "])\n",
        "model.compile(optimizer=keras.optimizers.RMSprop(1.),\n",
        "              loss=\"sparse_categorical_crossentropy\",\n",
        "              metrics=[\"accuracy\"])\n",
        "model.fit(train_images, train_labels,\n",
        "          epochs=10,\n",
        "          batch_size=128,\n",
        "          validation_split=0.2)"
      ]
    },
    {
      "cell_type": "markdown",
      "metadata": {
        "id": "yzv49P48B682"
      },
      "source": [
        "**The same model with a more appropriate learning rate**"
      ]
    },
    {
      "cell_type": "code",
      "execution_count": null,
      "metadata": {
        "id": "CM6EnEHGB682"
      },
      "outputs": [],
      "source": [
        "model = keras.Sequential([\n",
        "    layers.Dense(512, activation=\"relu\"),\n",
        "    layers.Dense(10, activation=\"softmax\")\n",
        "])\n",
        "model.compile(optimizer=keras.optimizers.RMSprop(1e-2),\n",
        "              loss=\"sparse_categorical_crossentropy\",\n",
        "              metrics=[\"accuracy\"])\n",
        "model.fit(train_images, train_labels,\n",
        "          epochs=10,\n",
        "          batch_size=128,\n",
        "          validation_split=0.2)"
      ]
    },
    {
      "cell_type": "markdown",
      "metadata": {
        "id": "Or4h9okiB682"
      },
      "source": [
        "### Leveraging better architecture priors"
      ]
    },
    {
      "cell_type": "markdown",
      "metadata": {
        "id": "F8WQIKGhB682"
      },
      "source": [
        "### Increasing model capacity"
      ]
    },
    {
      "cell_type": "markdown",
      "metadata": {
        "id": "0s2S1w8VB682"
      },
      "source": [
        "**A simple logistic regression on MNIST**"
      ]
    },
    {
      "cell_type": "code",
      "execution_count": null,
      "metadata": {
        "id": "of-lF1D-B682"
      },
      "outputs": [],
      "source": [
        "model = keras.Sequential([layers.Dense(10, activation=\"softmax\")])\n",
        "model.compile(optimizer=\"rmsprop\",\n",
        "              loss=\"sparse_categorical_crossentropy\",\n",
        "              metrics=[\"accuracy\"])\n",
        "history_small_model = model.fit(\n",
        "    train_images, train_labels,\n",
        "    epochs=20,\n",
        "    batch_size=128,\n",
        "    validation_split=0.2)"
      ]
    },
    {
      "cell_type": "code",
      "execution_count": null,
      "metadata": {
        "id": "X-ia63h-B682"
      },
      "outputs": [],
      "source": [
        "import matplotlib.pyplot as plt\n",
        "val_loss = history_small_model.history[\"val_loss\"]\n",
        "epochs = range(1, 21)\n",
        "plt.plot(epochs, val_loss, \"b--\",\n",
        "         label=\"Validation loss\")\n",
        "plt.title(\"Effect of insufficient model capacity on validation loss\")\n",
        "plt.xlabel(\"Epochs\")\n",
        "plt.ylabel(\"Loss\")\n",
        "plt.legend()"
      ]
    },
    {
      "cell_type": "code",
      "execution_count": null,
      "metadata": {
        "id": "hrE0xNYPB682"
      },
      "outputs": [],
      "source": [
        "model = keras.Sequential([\n",
        "    layers.Dense(96, activation=\"relu\"),\n",
        "    layers.Dense(96, activation=\"relu\"),\n",
        "    layers.Dense(10, activation=\"softmax\"),\n",
        "])\n",
        "model.compile(optimizer=\"rmsprop\",\n",
        "              loss=\"sparse_categorical_crossentropy\",\n",
        "              metrics=[\"accuracy\"])\n",
        "history_large_model = model.fit(\n",
        "    train_images, train_labels,\n",
        "    epochs=20,\n",
        "    batch_size=128,\n",
        "    validation_split=0.2)"
      ]
    },
    {
      "cell_type": "markdown",
      "metadata": {
        "id": "N2hSFV8tB683"
      },
      "source": [
        "## Improving generalization"
      ]
    },
    {
      "cell_type": "markdown",
      "metadata": {
        "id": "9Jr7oXo3B683"
      },
      "source": [
        "### Dataset curation"
      ]
    },
    {
      "cell_type": "markdown",
      "metadata": {
        "id": "DG35QIGuB683"
      },
      "source": [
        "### Feature engineering"
      ]
    },
    {
      "cell_type": "markdown",
      "metadata": {
        "id": "A47oM41hB683"
      },
      "source": [
        "### Using early stopping"
      ]
    },
    {
      "cell_type": "markdown",
      "metadata": {
        "id": "7txNEUJKB683"
      },
      "source": [
        "### Regularizing your model"
      ]
    },
    {
      "cell_type": "markdown",
      "metadata": {
        "id": "CHw5Sz4ZB683"
      },
      "source": [
        "#### Reducing the network's size"
      ]
    },
    {
      "cell_type": "markdown",
      "metadata": {
        "id": "vXTcq9Q7B683"
      },
      "source": [
        "**Original model**"
      ]
    },
    {
      "cell_type": "code",
      "execution_count": null,
      "metadata": {
        "id": "N0AgUyMxB684"
      },
      "outputs": [],
      "source": [
        "from tensorflow.keras.datasets import imdb\n",
        "(train_data, train_labels), _ = imdb.load_data(num_words=10000)\n",
        "\n",
        "def vectorize_sequences(sequences, dimension=10000):\n",
        "    results = np.zeros((len(sequences), dimension))\n",
        "    for i, sequence in enumerate(sequences):\n",
        "        results[i, sequence] = 1.\n",
        "    return results\n",
        "train_data = vectorize_sequences(train_data)\n",
        "\n",
        "model = keras.Sequential([\n",
        "    layers.Dense(16, activation=\"relu\"),\n",
        "    layers.Dense(16, activation=\"relu\"),\n",
        "    layers.Dense(1, activation=\"sigmoid\")\n",
        "])\n",
        "model.compile(optimizer=\"rmsprop\",\n",
        "              loss=\"binary_crossentropy\",\n",
        "              metrics=[\"accuracy\"])\n",
        "history_original = model.fit(train_data, train_labels,\n",
        "                             epochs=20, batch_size=512, validation_split=0.4)"
      ]
    },
    {
      "cell_type": "markdown",
      "metadata": {
        "id": "h6Bt6ZgQB684"
      },
      "source": [
        "**Version of the model with lower capacity**"
      ]
    },
    {
      "cell_type": "code",
      "execution_count": null,
      "metadata": {
        "id": "MM_BFjG2B684"
      },
      "outputs": [],
      "source": [
        "model = keras.Sequential([\n",
        "    layers.Dense(4, activation=\"relu\"),\n",
        "    layers.Dense(4, activation=\"relu\"),\n",
        "    layers.Dense(1, activation=\"sigmoid\")\n",
        "])\n",
        "model.compile(optimizer=\"rmsprop\",\n",
        "              loss=\"binary_crossentropy\",\n",
        "              metrics=[\"accuracy\"])\n",
        "history_smaller_model = model.fit(\n",
        "    train_data, train_labels,\n",
        "    epochs=20, batch_size=512, validation_split=0.4)"
      ]
    },
    {
      "cell_type": "markdown",
      "metadata": {
        "id": "EvxspSWXB684"
      },
      "source": [
        "**Version of the model with higher capacity**"
      ]
    },
    {
      "cell_type": "code",
      "execution_count": null,
      "metadata": {
        "id": "WzevAAvcB684"
      },
      "outputs": [],
      "source": [
        "model = keras.Sequential([\n",
        "    layers.Dense(512, activation=\"relu\"),\n",
        "    layers.Dense(512, activation=\"relu\"),\n",
        "    layers.Dense(1, activation=\"sigmoid\")\n",
        "])\n",
        "model.compile(optimizer=\"rmsprop\",\n",
        "              loss=\"binary_crossentropy\",\n",
        "              metrics=[\"accuracy\"])\n",
        "history_larger_model = model.fit(\n",
        "    train_data, train_labels,\n",
        "    epochs=20, batch_size=512, validation_split=0.4)"
      ]
    },
    {
      "cell_type": "markdown",
      "metadata": {
        "id": "9BTfmMVdB684"
      },
      "source": [
        "#### Adding weight regularization"
      ]
    },
    {
      "cell_type": "markdown",
      "metadata": {
        "id": "Ko6BTieAB684"
      },
      "source": [
        "**Adding L2 weight regularization to the model**"
      ]
    },
    {
      "cell_type": "code",
      "execution_count": null,
      "metadata": {
        "id": "gsiFue2eB684"
      },
      "outputs": [],
      "source": [
        "from tensorflow.keras import regularizers\n",
        "model = keras.Sequential([\n",
        "    layers.Dense(16,\n",
        "                 kernel_regularizer=regularizers.l2(0.002),\n",
        "                 activation=\"relu\"),\n",
        "    layers.Dense(16,\n",
        "                 kernel_regularizer=regularizers.l2(0.002),\n",
        "                 activation=\"relu\"),\n",
        "    layers.Dense(1, activation=\"sigmoid\")\n",
        "])\n",
        "model.compile(optimizer=\"rmsprop\",\n",
        "              loss=\"binary_crossentropy\",\n",
        "              metrics=[\"accuracy\"])\n",
        "history_l2_reg = model.fit(\n",
        "    train_data, train_labels,\n",
        "    epochs=20, batch_size=512, validation_split=0.4)"
      ]
    },
    {
      "cell_type": "markdown",
      "metadata": {
        "id": "g20GvZ57B685"
      },
      "source": [
        "**Different weight regularizers available in Keras**"
      ]
    },
    {
      "cell_type": "code",
      "execution_count": null,
      "metadata": {
        "id": "BI6pnRvjB685"
      },
      "outputs": [],
      "source": [
        "from tensorflow.keras import regularizers\n",
        "regularizers.l1(0.001)\n",
        "regularizers.l1_l2(l1=0.001, l2=0.001)"
      ]
    },
    {
      "cell_type": "markdown",
      "metadata": {
        "id": "FdmnNHBqB685"
      },
      "source": [
        "#### Adding dropout"
      ]
    },
    {
      "cell_type": "markdown",
      "metadata": {
        "id": "U4u1gZayB685"
      },
      "source": [
        "**Adding dropout to the IMDB model**"
      ]
    },
    {
      "cell_type": "code",
      "execution_count": null,
      "metadata": {
        "id": "eLG67IXsB685"
      },
      "outputs": [],
      "source": [
        "model = keras.Sequential([\n",
        "    layers.Dense(16, activation=\"relu\"),\n",
        "    layers.Dropout(0.5),\n",
        "    layers.Dense(16, activation=\"relu\"),\n",
        "    layers.Dropout(0.5),\n",
        "    layers.Dense(1, activation=\"sigmoid\")\n",
        "])\n",
        "model.compile(optimizer=\"rmsprop\",\n",
        "              loss=\"binary_crossentropy\",\n",
        "              metrics=[\"accuracy\"])\n",
        "history_dropout = model.fit(\n",
        "    train_data, train_labels,\n",
        "    epochs=20, batch_size=512, validation_split=0.4)"
      ]
    },
    {
      "cell_type": "markdown",
      "metadata": {
        "id": "NBjEIRMxB685"
      },
      "source": [
        "## Summary"
      ]
    }
  ],
  "metadata": {
    "colab": {
      "name": "chapter05_fundamentals-of-ml.i",
      "provenance": [],
      "toc_visible": true
    },
    "kernelspec": {
      "display_name": "Python 3",
      "name": "python3"
    },
    "language_info": {
      "codemirror_mode": {
        "name": "ipython",
        "version": 3
      },
      "file_extension": ".py",
      "mimetype": "text/x-python",
      "name": "python",
      "nbconvert_exporter": "python",
      "pygments_lexer": "ipython3",
      "version": "3.7.0"
    },
    "accelerator": "TPU"
  },
  "nbformat": 4,
  "nbformat_minor": 0
}