{
  "cells": [
    {
      "cell_type": "markdown",
      "metadata": {
        "id": "ctzi6UAVB68u"
      },
      "source": [
        "This is a companion notebook for the book [Deep Learning with Python, Second Edition](https://www.manning.com/books/deep-learning-with-python-second-edition?a_aid=keras&a_bid=76564dff). For readability, it only contains runnable code blocks and section titles, and omits everything else in the book: text paragraphs, figures, and pseudocode.\n",
        "\n",
        "**If you want to be able to follow what's going on, I recommend reading the notebook side by side with your copy of the book.**\n",
        "\n",
        "This notebook was generated for TensorFlow 2.6."
      ]
    },
    {
      "cell_type": "markdown",
      "metadata": {
        "id": "9h8i9YJxB68w"
      },
      "source": [
        "# Fundamentals of machine learning"
      ]
    },
    {
      "cell_type": "markdown",
      "metadata": {
        "id": "FtExaOXUB68w"
      },
      "source": [
        "## Generalization: The goal of machine learning"
      ]
    },
    {
      "cell_type": "markdown",
      "metadata": {
        "id": "yGOaFHsXB68x"
      },
      "source": [
        "### Underfitting and overfitting"
      ]
    },
    {
      "cell_type": "markdown",
      "metadata": {
        "id": "WPSPSRFiB68x"
      },
      "source": [
        "#### Noisy training data"
      ]
    },
    {
      "cell_type": "markdown",
      "metadata": {
        "id": "waHtHMpaB68x"
      },
      "source": [
        "#### Ambiguous features"
      ]
    },
    {
      "cell_type": "markdown",
      "metadata": {
        "id": "PLxcyqdoB68x"
      },
      "source": [
        "#### Rare features and spurious correlations"
      ]
    },
    {
      "cell_type": "markdown",
      "metadata": {
        "id": "vrhlUmdtB68x"
      },
      "source": [
        "# Let's see how \"Quality\" of Data Matters\n",
        "\n",
        "**Adding white-noise channels or all-zeros channels to MNIST**"
      ]
    },
    {
      "cell_type": "code",
      "execution_count": 2,
      "metadata": {
        "id": "DGdoenm-B68x",
        "outputId": "92809f21-413e-4f14-d9e8-73035d2e0ce0",
        "colab": {
          "base_uri": "https://localhost:8080/"
        }
      },
      "outputs": [
        {
          "output_type": "stream",
          "name": "stdout",
          "text": [
            "CPU times: user 3.45 s, sys: 1.05 s, total: 4.51 s\n",
            "Wall time: 7.34 s\n"
          ]
        }
      ],
      "source": [
        "%%time\n",
        "from tensorflow.keras.datasets import mnist\n",
        "import numpy as np\n",
        "\n",
        "(train_images, train_labels), _ = mnist.load_data()\n",
        "train_images = train_images.reshape((60000, 28 * 28))\n",
        "train_images = train_images.astype(\"float32\") / 255\n",
        "\n",
        "\n",
        "train_images_with_noise_channels = np.concatenate(\n",
        "    [train_images, np.random.random((len(train_images), 784))], axis=1)\n",
        "\n",
        "train_images_with_zeros_channels = np.concatenate(\n",
        "    [train_images, np.zeros((len(train_images), 784))], axis=1)"
      ]
    },
    {
      "cell_type": "code",
      "source": [
        "train_images.shape"
      ],
      "metadata": {
        "id": "SlJLKld7Xb9M",
        "outputId": "c42def38-4ecf-4007-e146-070528160c57",
        "colab": {
          "base_uri": "https://localhost:8080/"
        }
      },
      "execution_count": 3,
      "outputs": [
        {
          "output_type": "execute_result",
          "data": {
            "text/plain": [
              "(60000, 784)"
            ]
          },
          "metadata": {},
          "execution_count": 3
        }
      ]
    },
    {
      "cell_type": "code",
      "source": [
        "train_images_with_noise_channels.shape"
      ],
      "metadata": {
        "id": "0W_i8ce2XCI-",
        "outputId": "a4d906a4-7bf7-4cb0-e9ac-80d69821759e",
        "colab": {
          "base_uri": "https://localhost:8080/"
        }
      },
      "execution_count": 4,
      "outputs": [
        {
          "output_type": "execute_result",
          "data": {
            "text/plain": [
              "(60000, 1568)"
            ]
          },
          "metadata": {},
          "execution_count": 4
        }
      ]
    },
    {
      "cell_type": "code",
      "source": [
        "train_images_with_noise_channels[0]"
      ],
      "metadata": {
        "id": "kQXxJ5VFXS9H",
        "outputId": "4ebcca7a-6c15-4c1a-be88-435b344bc12f",
        "colab": {
          "base_uri": "https://localhost:8080/"
        }
      },
      "execution_count": 5,
      "outputs": [
        {
          "output_type": "execute_result",
          "data": {
            "text/plain": [
              "array([0.        , 0.        , 0.        , ..., 0.93069565, 0.96084172,\n",
              "       0.22218552])"
            ]
          },
          "metadata": {},
          "execution_count": 5
        }
      ]
    },
    {
      "cell_type": "code",
      "source": [
        "train_images_with_zeros_channels.shape"
      ],
      "metadata": {
        "id": "yC8THboiXTNB",
        "outputId": "84651b44-3a7a-45d1-f364-fdb23297e442",
        "colab": {
          "base_uri": "https://localhost:8080/"
        }
      },
      "execution_count": 6,
      "outputs": [
        {
          "output_type": "execute_result",
          "data": {
            "text/plain": [
              "(60000, 1568)"
            ]
          },
          "metadata": {},
          "execution_count": 6
        }
      ]
    },
    {
      "cell_type": "code",
      "source": [
        "train_images_with_zeros_channels[0]"
      ],
      "metadata": {
        "id": "fe9dc4T9Xn71",
        "outputId": "5eef91fb-2be0-464b-9916-5d8e70376661",
        "colab": {
          "base_uri": "https://localhost:8080/"
        }
      },
      "execution_count": 7,
      "outputs": [
        {
          "output_type": "execute_result",
          "data": {
            "text/plain": [
              "array([0., 0., 0., ..., 0., 0., 0.])"
            ]
          },
          "metadata": {},
          "execution_count": 7
        }
      ]
    },
    {
      "cell_type": "markdown",
      "metadata": {
        "id": "rbms7438B68z"
      },
      "source": [
        "**Training the same model on MNIST data with noise channels or all-zero channels**"
      ]
    },
    {
      "cell_type": "code",
      "execution_count": 8,
      "metadata": {
        "id": "guLeiIzgB68z",
        "outputId": "ba56f9e7-0c8e-45e5-8000-42151a763938",
        "colab": {
          "base_uri": "https://localhost:8080/"
        }
      },
      "outputs": [
        {
          "output_type": "stream",
          "name": "stdout",
          "text": [
            "Epoch 1/5\n",
            "375/375 [==============================] - 7s 4ms/step - loss: 0.2955 - accuracy: 0.9138 - val_loss: 0.1611 - val_accuracy: 0.9552\n",
            "Epoch 2/5\n",
            "375/375 [==============================] - 1s 4ms/step - loss: 0.1223 - accuracy: 0.9643 - val_loss: 0.1048 - val_accuracy: 0.9689\n",
            "Epoch 3/5\n",
            "375/375 [==============================] - 1s 4ms/step - loss: 0.0801 - accuracy: 0.9772 - val_loss: 0.0848 - val_accuracy: 0.9733\n",
            "Epoch 4/5\n",
            "375/375 [==============================] - 1s 4ms/step - loss: 0.0573 - accuracy: 0.9833 - val_loss: 0.0904 - val_accuracy: 0.9713\n",
            "Epoch 5/5\n",
            "375/375 [==============================] - 2s 5ms/step - loss: 0.0423 - accuracy: 0.9877 - val_loss: 0.0771 - val_accuracy: 0.9758\n",
            "Epoch 1/5\n",
            "375/375 [==============================] - 2s 4ms/step - loss: 0.6137 - accuracy: 0.8130 - val_loss: 0.3184 - val_accuracy: 0.9010\n",
            "Epoch 2/5\n",
            "375/375 [==============================] - 1s 3ms/step - loss: 0.2582 - accuracy: 0.9203 - val_loss: 0.1916 - val_accuracy: 0.9430\n",
            "Epoch 3/5\n",
            "375/375 [==============================] - 1s 4ms/step - loss: 0.1654 - accuracy: 0.9486 - val_loss: 0.1988 - val_accuracy: 0.9402\n",
            "Epoch 4/5\n",
            "375/375 [==============================] - 1s 4ms/step - loss: 0.1188 - accuracy: 0.9633 - val_loss: 0.1668 - val_accuracy: 0.9503\n",
            "Epoch 5/5\n",
            "375/375 [==============================] - 1s 4ms/step - loss: 0.0869 - accuracy: 0.9729 - val_loss: 0.1225 - val_accuracy: 0.9650\n",
            "Epoch 1/5\n",
            "375/375 [==============================] - 2s 5ms/step - loss: 0.3001 - accuracy: 0.9132 - val_loss: 0.1669 - val_accuracy: 0.9536\n",
            "Epoch 2/5\n",
            "375/375 [==============================] - 1s 4ms/step - loss: 0.1246 - accuracy: 0.9636 - val_loss: 0.1158 - val_accuracy: 0.9656\n",
            "Epoch 3/5\n",
            "375/375 [==============================] - 1s 4ms/step - loss: 0.0816 - accuracy: 0.9759 - val_loss: 0.0963 - val_accuracy: 0.9723\n",
            "Epoch 4/5\n",
            "375/375 [==============================] - 1s 4ms/step - loss: 0.0596 - accuracy: 0.9830 - val_loss: 0.0794 - val_accuracy: 0.9753\n",
            "Epoch 5/5\n",
            "375/375 [==============================] - 1s 4ms/step - loss: 0.0439 - accuracy: 0.9872 - val_loss: 0.0828 - val_accuracy: 0.9761\n",
            "CPU times: user 26.3 s, sys: 4.04 s, total: 30.4 s\n",
            "Wall time: 39.7 s\n"
          ]
        }
      ],
      "source": [
        "%%time\n",
        "\n",
        "NEPOCHS = 5\n",
        "from tensorflow import keras\n",
        "from tensorflow.keras import layers\n",
        "\n",
        "def get_model():\n",
        "    model = keras.Sequential([\n",
        "        layers.Dense(512, activation=\"relu\"),\n",
        "        layers.Dense(10, activation=\"softmax\")\n",
        "    ])\n",
        "    model.compile(optimizer=\"rmsprop\",\n",
        "                  loss=\"sparse_categorical_crossentropy\",\n",
        "                  metrics=[\"accuracy\"])\n",
        "    return model\n",
        "\n",
        "model = get_model()\n",
        "history = model.fit(\n",
        "    train_images, train_labels,\n",
        "    epochs=NEPOCHS,\n",
        "    batch_size=128,\n",
        "    validation_split=0.2)\n",
        "\n",
        "model = get_model()\n",
        "history_noise = model.fit(\n",
        "    train_images_with_noise_channels, train_labels,\n",
        "    epochs=NEPOCHS,\n",
        "    batch_size=128,\n",
        "    validation_split=0.2)\n",
        "\n",
        "model = get_model()\n",
        "history_zeros = model.fit(\n",
        "    train_images_with_zeros_channels, train_labels,\n",
        "    epochs=NEPOCHS,\n",
        "    batch_size=128,\n",
        "    validation_split=0.2)"
      ]
    },
    {
      "cell_type": "markdown",
      "metadata": {
        "id": "ahc3sajoB68z"
      },
      "source": [
        "**Plotting a validation accuracy comparison**"
      ]
    },
    {
      "cell_type": "code",
      "execution_count": 9,
      "metadata": {
        "id": "bg9qskcQB68z",
        "outputId": "01c8a309-8019-443b-871a-28a9fd5b7c2e",
        "colab": {
          "base_uri": "https://localhost:8080/",
          "height": 524
        }
      },
      "outputs": [
        {
          "output_type": "stream",
          "name": "stdout",
          "text": [
            "CPU times: user 33.9 ms, sys: 400 µs, total: 34.3 ms\n",
            "Wall time: 38.5 ms\n"
          ]
        },
        {
          "output_type": "execute_result",
          "data": {
            "text/plain": [
              "<matplotlib.legend.Legend at 0x7f0de74a8d30>"
            ]
          },
          "metadata": {},
          "execution_count": 9
        },
        {
          "output_type": "display_data",
          "data": {
            "text/plain": [
              "<Figure size 640x480 with 1 Axes>"
            ],
            "image/png": "[encoded data removed]"
          },
          "metadata": {}
        }
      ],
      "source": [
        "%%time\n",
        "import matplotlib.pyplot as plt\n",
        "val_acc_orig = history.history[\"val_accuracy\"]\n",
        "val_acc_noise = history_noise.history[\"val_accuracy\"]\n",
        "val_acc_zeros = history_zeros.history[\"val_accuracy\"]\n",
        "epochs = range(1, (NEPOCHS+1))\n",
        "\n",
        "plt.plot(epochs, val_acc_orig, \"g-.\",\n",
        "         label=\"Validation accuracy with original data\")\n",
        "plt.plot(epochs, val_acc_zeros, \"b--\",\n",
        "         label=\"Validation accuracy with zeros channels\")\n",
        "plt.plot(epochs, val_acc_noise, \"r-\",\n",
        "         label=\"Validation accuracy with noise channels\")\n",
        "plt.title(\"Effect of noise channels on validation accuracy\")\n",
        "plt.xlabel(\"Epochs\")\n",
        "plt.ylabel(\"Validation Accuracy\")\n",
        "plt.legend()"
      ]
    },
    {
      "cell_type": "markdown",
      "metadata": {
        "id": "YTVJPen1B680"
      },
      "source": [
        "### The nature of generalization in deep learning"
      ]
    },
    {
      "cell_type": "markdown",
      "metadata": {
        "id": "NG_RAnezB680"
      },
      "source": [
        "**Fitting a MNIST model with randomly shuffled labels**"
      ]
    },
    {
      "cell_type": "code",
      "execution_count": 10,
      "metadata": {
        "id": "4UotPGM8B680",
        "outputId": "e4f09dee-4162-4feb-89f4-73f76ab5bb61",
        "colab": {
          "base_uri": "https://localhost:8080/"
        }
      },
      "outputs": [
        {
          "output_type": "stream",
          "name": "stdout",
          "text": [
            "Epoch 1/25\n",
            "94/94 [==============================] - 2s 8ms/step - loss: 2.3179 - accuracy: 0.1025 - val_loss: 2.3077 - val_accuracy: 0.1025\n",
            "Epoch 2/25\n",
            "94/94 [==============================] - 0s 5ms/step - loss: 2.2961 - accuracy: 0.1204 - val_loss: 2.3148 - val_accuracy: 0.0975\n",
            "Epoch 3/25\n",
            "94/94 [==============================] - 0s 5ms/step - loss: 2.2858 - accuracy: 0.1299 - val_loss: 2.3132 - val_accuracy: 0.1037\n",
            "Epoch 4/25\n",
            "94/94 [==============================] - 1s 6ms/step - loss: 2.2733 - accuracy: 0.1444 - val_loss: 2.3200 - val_accuracy: 0.1018\n",
            "Epoch 5/25\n",
            "94/94 [==============================] - 0s 5ms/step - loss: 2.2612 - accuracy: 0.1565 - val_loss: 2.3275 - val_accuracy: 0.1024\n",
            "Epoch 6/25\n",
            "94/94 [==============================] - 1s 6ms/step - loss: 2.2474 - accuracy: 0.1667 - val_loss: 2.3346 - val_accuracy: 0.1066\n",
            "Epoch 7/25\n",
            "94/94 [==============================] - 0s 5ms/step - loss: 2.2317 - accuracy: 0.1770 - val_loss: 2.3364 - val_accuracy: 0.1037\n",
            "Epoch 8/25\n",
            "94/94 [==============================] - 1s 5ms/step - loss: 2.2156 - accuracy: 0.1881 - val_loss: 2.3481 - val_accuracy: 0.1053\n",
            "Epoch 9/25\n",
            "94/94 [==============================] - 0s 5ms/step - loss: 2.1964 - accuracy: 0.1998 - val_loss: 2.3573 - val_accuracy: 0.1071\n",
            "Epoch 10/25\n",
            "94/94 [==============================] - 0s 5ms/step - loss: 2.1784 - accuracy: 0.2136 - val_loss: 2.3668 - val_accuracy: 0.1061\n",
            "Epoch 11/25\n",
            "94/94 [==============================] - 1s 6ms/step - loss: 2.1579 - accuracy: 0.2215 - val_loss: 2.3732 - val_accuracy: 0.1032\n",
            "Epoch 12/25\n",
            "94/94 [==============================] - 1s 6ms/step - loss: 2.1364 - accuracy: 0.2334 - val_loss: 2.3799 - val_accuracy: 0.1025\n",
            "Epoch 13/25\n",
            "94/94 [==============================] - 1s 6ms/step - loss: 2.1144 - accuracy: 0.2486 - val_loss: 2.3978 - val_accuracy: 0.1049\n",
            "Epoch 14/25\n",
            "94/94 [==============================] - 0s 4ms/step - loss: 2.0911 - accuracy: 0.2585 - val_loss: 2.4164 - val_accuracy: 0.1025\n",
            "Epoch 15/25\n",
            "94/94 [==============================] - 0s 4ms/step - loss: 2.0670 - accuracy: 0.2707 - val_loss: 2.4310 - val_accuracy: 0.1072\n",
            "Epoch 16/25\n",
            "94/94 [==============================] - 0s 4ms/step - loss: 2.0445 - accuracy: 0.2835 - val_loss: 2.4452 - val_accuracy: 0.1046\n",
            "Epoch 17/25\n",
            "94/94 [==============================] - 1s 5ms/step - loss: 2.0197 - accuracy: 0.2947 - val_loss: 2.4600 - val_accuracy: 0.1067\n",
            "Epoch 18/25\n",
            "94/94 [==============================] - 1s 7ms/step - loss: 1.9947 - accuracy: 0.3038 - val_loss: 2.4795 - val_accuracy: 0.1024\n",
            "Epoch 19/25\n",
            "94/94 [==============================] - 1s 7ms/step - loss: 1.9697 - accuracy: 0.3147 - val_loss: 2.4856 - val_accuracy: 0.0997\n",
            "Epoch 20/25\n",
            "94/94 [==============================] - 1s 7ms/step - loss: 1.9480 - accuracy: 0.3247 - val_loss: 2.5058 - val_accuracy: 0.1048\n",
            "Epoch 21/25\n",
            "94/94 [==============================] - 1s 7ms/step - loss: 1.9216 - accuracy: 0.3341 - val_loss: 2.5186 - val_accuracy: 0.1027\n",
            "Epoch 22/25\n",
            "94/94 [==============================] - 0s 4ms/step - loss: 1.8964 - accuracy: 0.3452 - val_loss: 2.5669 - val_accuracy: 0.1055\n",
            "Epoch 23/25\n",
            "94/94 [==============================] - 0s 5ms/step - loss: 1.8726 - accuracy: 0.3556 - val_loss: 2.5577 - val_accuracy: 0.1002\n",
            "Epoch 24/25\n",
            "94/94 [==============================] - 0s 5ms/step - loss: 1.8478 - accuracy: 0.3677 - val_loss: 2.5793 - val_accuracy: 0.1006\n",
            "Epoch 25/25\n",
            "94/94 [==============================] - 0s 5ms/step - loss: 1.8225 - accuracy: 0.3755 - val_loss: 2.6081 - val_accuracy: 0.1010\n",
            "CPU times: user 14.6 s, sys: 1.25 s, total: 15.9 s\n",
            "Wall time: 22 s\n"
          ]
        }
      ],
      "source": [
        "%%time\n",
        "\n",
        "NEPS = 25\n",
        "BATCH_SZ = 512\n",
        "\n",
        "(train_images, train_labels), _ = mnist.load_data()\n",
        "train_images = train_images.reshape((60000, 28 * 28))\n",
        "train_images = train_images.astype(\"float32\") / 255\n",
        "\n",
        "random_train_labels = train_labels[:]\n",
        "np.random.shuffle(random_train_labels)\n",
        "\n",
        "model = keras.Sequential([\n",
        "    layers.Dense(512, activation=\"relu\"),\n",
        "    layers.Dense(10, activation=\"softmax\")\n",
        "])\n",
        "model.compile(optimizer=\"rmsprop\",\n",
        "              loss=\"sparse_categorical_crossentropy\",\n",
        "              metrics=[\"accuracy\"])\n",
        "history = model.fit(train_images, random_train_labels,\n",
        "          epochs=NEPS,\n",
        "          batch_size=BATCH_SZ,\n",
        "          validation_split=0.2)"
      ]
    },
    {
      "cell_type": "code",
      "source": [
        "%%time\n",
        "val_acc = history.history[\"val_accuracy\"]\n",
        "print(len(val_acc))\n",
        "\n",
        "\n",
        "val_loss = history.history[\"val_loss\"]\n",
        "print(len(val_loss))\n",
        "\n",
        "val_loss\n",
        "# history.history"
      ],
      "metadata": {
        "id": "7laRr7N54_Hp",
        "outputId": "553c4c65-79b3-42cb-8d6c-7c584283be6d",
        "colab": {
          "base_uri": "https://localhost:8080/"
        }
      },
      "execution_count": 11,
      "outputs": [
        {
          "output_type": "stream",
          "name": "stdout",
          "text": [
            "25\n",
            "25\n",
            "CPU times: user 134 µs, sys: 20 µs, total: 154 µs\n",
            "Wall time: 138 µs\n"
          ]
        },
        {
          "output_type": "execute_result",
          "data": {
            "text/plain": [
              "[2.307742118835449,\n",
              " 2.314800262451172,\n",
              " 2.313228130340576,\n",
              " 2.319981813430786,\n",
              " 2.3275327682495117,\n",
              " 2.3346049785614014,\n",
              " 2.3364346027374268,\n",
              " 2.3480770587921143,\n",
              " 2.3572804927825928,\n",
              " 2.366821527481079,\n",
              " 2.3731563091278076,\n",
              " 2.379866600036621,\n",
              " 2.3978283405303955,\n",
              " 2.4164154529571533,\n",
              " 2.43099045753479,\n",
              " 2.4451804161071777,\n",
              " 2.4600257873535156,\n",
              " 2.479468822479248,\n",
              " 2.4856154918670654,\n",
              " 2.5058093070983887,\n",
              " 2.5185744762420654,\n",
              " 2.566925525665283,\n",
              " 2.5576980113983154,\n",
              " 2.579326868057251,\n",
              " 2.6081459522247314]"
            ]
          },
          "metadata": {},
          "execution_count": 11
        }
      ]
    },
    {
      "cell_type": "code",
      "source": [
        "%%time\n",
        "import matplotlib.pyplot as plt\n",
        "val_acc = history.history[\"val_accuracy\"]\n",
        "val_loss = history.history[\"val_loss\"]\n",
        "epochs = range(1, (NEPS+1))\n",
        "\n",
        "plt.plot(epochs, val_acc, \"g-.\",\n",
        "         label=\"Validation accuracy with SHUFFLED labels\")\n",
        "plt.plot(epochs, val_loss, \"r--\",\n",
        "         label=\"Validation LOSS with SHUFFLED labels\")\n",
        "plt.title(\"Effect of SHUFFLING on validation accuracy\")\n",
        "plt.xlabel(\"Epochs\")\n",
        "plt.ylabel(\"Validation Accuracy/LOSS\")\n",
        "plt.legend()"
      ],
      "metadata": {
        "id": "dWgsUILK4dXT",
        "outputId": "b125735a-17d7-4eec-fd2f-eb5f7c386671",
        "colab": {
          "base_uri": "https://localhost:8080/",
          "height": 524
        }
      },
      "execution_count": 12,
      "outputs": [
        {
          "output_type": "stream",
          "name": "stdout",
          "text": [
            "CPU times: user 24.7 ms, sys: 0 ns, total: 24.7 ms\n",
            "Wall time: 28.6 ms\n"
          ]
        },
        {
          "output_type": "execute_result",
          "data": {
            "text/plain": [
              "<matplotlib.legend.Legend at 0x7f0e0bcf9ff0>"
            ]
          },
          "metadata": {},
          "execution_count": 12
        },
        {
          "output_type": "display_data",
          "data": {
            "text/plain": [
              "<Figure size 640x480 with 1 Axes>"
            ],
            "image/png": "[encoded data removed]"
          },
          "metadata": {}
        }
      ]
    },
    {
      "cell_type": "markdown",
      "metadata": {
        "id": "xsVcI-pMB680"
      },
      "source": [
        "#### The manifold hypothesis"
      ]
    },
    {
      "cell_type": "markdown",
      "metadata": {
        "id": "LvX9p0EaB680"
      },
      "source": [
        "#### Interpolation as a source of generalization"
      ]
    },
    {
      "cell_type": "markdown",
      "metadata": {
        "id": "CYOYWe2gB680"
      },
      "source": [
        "#### Why deep learning works"
      ]
    },
    {
      "cell_type": "markdown",
      "metadata": {
        "id": "PAjZGcYWB680"
      },
      "source": [
        "#### Training data is paramount"
      ]
    },
    {
      "cell_type": "markdown",
      "metadata": {
        "id": "wzjat3PhB681"
      },
      "source": [
        "## Evaluating machine-learning models"
      ]
    },
    {
      "cell_type": "markdown",
      "metadata": {
        "id": "1rWr-fNDB681"
      },
      "source": [
        "### Training, validation, and test sets"
      ]
    },
    {
      "cell_type": "markdown",
      "metadata": {
        "id": "4mXC-UVcB681"
      },
      "source": [
        "#### Simple hold-out validation"
      ]
    },
    {
      "cell_type": "markdown",
      "metadata": {
        "id": "PXR2TsDoB681"
      },
      "source": [
        "#### K-fold validation"
      ]
    },
    {
      "cell_type": "markdown",
      "metadata": {
        "id": "5MFFf_3sB681"
      },
      "source": [
        "#### Iterated K-fold validation with shuffling"
      ]
    },
    {
      "cell_type": "markdown",
      "metadata": {
        "id": "FNK_VR2OB681"
      },
      "source": [
        "### Beating a common-sense baseline"
      ]
    },
    {
      "cell_type": "markdown",
      "metadata": {
        "id": "I5HUYLQ1B681"
      },
      "source": [
        "### Things to keep in mind about model evaluation"
      ]
    },
    {
      "cell_type": "markdown",
      "metadata": {
        "id": "P0A7tKL8B681"
      },
      "source": [
        "## 5.3 Improving model fit\n",
        "\n",
        "Keep an eye out for the following when you’re choosing an evaluation protocol:\n",
        "\n",
        "Data representativeness—You want both your training set and test set to be representative of the data at hand. For instance, if you’re trying to classify images of digits, and you’re starting from an array of samples where the samples are ordered by their class, taking the first 80% of the array as your training set and the remaining 20% as your test set will result in your training set containing only classes 0–7, whereas your test set will contain only classes 8–9. This seems like a ridiculous mistake, but it’s surprisingly common. For this reason, you usually should randomly shuffle your data before splitting it into training and test sets.\n",
        "\n",
        "The arrow of time—If you’re trying to predict the future given the past (for example, tomorrow’s weather, stock movements, and so on), you should not randomly shuffle your data before splitting it, because doing so will create a temporal leak: your model will effectively be trained on data from the future. In such situations, you should always make sure all data in your test set is posterior to the data in the training set.\n",
        "\n",
        "Redundancy in your data—If some data points in your data appear twice (fairly common with real-world data), then shuffling the data and splitting it into a training set and a validation set will result in redundancy between the training and validation sets. In effect, you’ll be testing on part of your training data, which is the worst thing you can do! Make sure your training set and validation set are disjoint.\n",
        "\n",
        "Having a reliable way to evaluate the performance of your model is how you’ll be able to monitor the tension at the heart of machine learning—between optimization and generalization, underfitting and overfitting."
      ]
    },
    {
      "cell_type": "markdown",
      "source": [
        "### Possible issues:\n",
        "\n",
        "* Training doesn’t get started: your training loss doesn’t go down over time.\n",
        "* Training gets started just fine, but your model doesn’t meaningfully generalize: you can’t beat the common-sense baseline you set.\n",
        "* Training and validation loss both go down over time, and you can beat your baseline, but you don’t seem to be able to overfit, which indicates you’re still underfitting.\n"
      ],
      "metadata": {
        "id": "Xcgv4UwlX691"
      }
    },
    {
      "cell_type": "code",
      "source": [],
      "metadata": {
        "id": "rUZJt0o3X53_"
      },
      "execution_count": 12,
      "outputs": []
    },
    {
      "cell_type": "markdown",
      "metadata": {
        "id": "JaR20Tx_B681"
      },
      "source": [
        "### 5.3.1 Tuning key gradient descent parameters"
      ]
    },
    {
      "cell_type": "markdown",
      "metadata": {
        "id": "fP12X7UwB681"
      },
      "source": [
        "Training a MNIST model with an\n",
        "* incorrectly high learning rate = 1.0 and\n",
        "* LR=0.01"
      ]
    },
    {
      "cell_type": "code",
      "execution_count": 22,
      "metadata": {
        "id": "py4-MtooB681",
        "outputId": "98c34bef-9e38-4797-8688-2025dc5cd7e4",
        "colab": {
          "base_uri": "https://localhost:8080/",
          "height": 871
        }
      },
      "outputs": [
        {
          "output_type": "stream",
          "name": "stdout",
          "text": [
            "Epoch 1/10\n",
            "375/375 [==============================] - 2s 4ms/step - loss: 615.4916 - accuracy: 0.3277 - val_loss: 2.3137 - val_accuracy: 0.2079\n",
            "Epoch 2/10\n",
            "375/375 [==============================] - 1s 3ms/step - loss: 4.0432 - accuracy: 0.2313 - val_loss: 2.4129 - val_accuracy: 0.1334\n",
            "Epoch 3/10\n",
            "375/375 [==============================] - 1s 4ms/step - loss: 2.5440 - accuracy: 0.1815 - val_loss: 2.2310 - val_accuracy: 0.1734\n",
            "Epoch 4/10\n",
            "375/375 [==============================] - 2s 5ms/step - loss: 2.4400 - accuracy: 0.1888 - val_loss: 2.2734 - val_accuracy: 0.1963\n",
            "Epoch 5/10\n",
            "375/375 [==============================] - 1s 3ms/step - loss: 2.4942 - accuracy: 0.1831 - val_loss: 2.5039 - val_accuracy: 0.1221\n",
            "Epoch 6/10\n",
            "375/375 [==============================] - 1s 3ms/step - loss: 2.5002 - accuracy: 0.1639 - val_loss: 2.3336 - val_accuracy: 0.1462\n",
            "Epoch 7/10\n",
            "375/375 [==============================] - 1s 4ms/step - loss: 2.3196 - accuracy: 0.1643 - val_loss: 2.1849 - val_accuracy: 0.2023\n",
            "Epoch 8/10\n",
            "375/375 [==============================] - 1s 3ms/step - loss: 2.4177 - accuracy: 0.1769 - val_loss: 2.3242 - val_accuracy: 0.1786\n",
            "Epoch 9/10\n",
            "375/375 [==============================] - 1s 4ms/step - loss: 2.3065 - accuracy: 0.1887 - val_loss: 2.8962 - val_accuracy: 0.1578\n",
            "Epoch 10/10\n",
            "375/375 [==============================] - 1s 3ms/step - loss: 2.3728 - accuracy: 0.1764 - val_loss: 2.2126 - val_accuracy: 0.1657\n",
            "CPU times: user 15.3 s, sys: 1.29 s, total: 16.6 s\n",
            "Wall time: 22 s\n"
          ]
        },
        {
          "output_type": "execute_result",
          "data": {
            "text/plain": [
              "<matplotlib.legend.Legend at 0x7f0e06cbaf80>"
            ]
          },
          "metadata": {},
          "execution_count": 22
        },
        {
          "output_type": "display_data",
          "data": {
            "text/plain": [
              "<Figure size 640x480 with 1 Axes>"
            ],
            "image/png": "[encoded data removed]"
          },
          "metadata": {}
        }
      ],
      "source": [
        "%%time\n",
        "NEPS=10\n",
        "LR=1.0\n",
        "(train_images, train_labels), _ = mnist.load_data()\n",
        "train_images = train_images.reshape((60000, 28 * 28))\n",
        "train_images = train_images.astype(\"float32\") / 255\n",
        "\n",
        "model = keras.Sequential([\n",
        "    layers.Dense(512, activation=\"relu\"),\n",
        "    layers.Dense(10, activation=\"softmax\")\n",
        "])\n",
        "model.compile(optimizer=keras.optimizers.RMSprop(LR),\n",
        "              loss=\"sparse_categorical_crossentropy\",\n",
        "              metrics=[\"accuracy\"])\n",
        "history = model.fit(train_images, train_labels,\n",
        "          epochs=NEPS,\n",
        "          batch_size=128,\n",
        "          validation_split=0.2)\n",
        "\n",
        "\n",
        "# %%time\n",
        "import matplotlib.pyplot as plt\n",
        "val_acc = history.history[\"val_accuracy\"]\n",
        "val_loss = history.history[\"val_loss\"]\n",
        "train_loss = history.history[\"loss\"]\n",
        "\n",
        "epochs = range(1, (NEPS+1))\n",
        "\n",
        "plt.plot(epochs, val_acc, \"g-.\", label=f\"Validation accuracy LR={LR}\")\n",
        "plt.plot(epochs, val_loss, \"r--\", label=f\"Validation LOSS LR={LR}\")\n",
        "plt.plot(epochs, train_loss, \"g-*\", label=f\"TRAIN LOSS LR={LR}\")\n",
        "plt.title(\"Effect of LR on  ACCURACY and LOSS\")\n",
        "plt.xlabel(\"Epochs\")\n",
        "plt.ylabel(\" Accuracy/LOSS\")\n",
        "plt.legend()"
      ]
    },
    {
      "cell_type": "code",
      "source": [
        "%%time\n",
        "NEPS=10\n",
        "LR=0.001\n",
        "(train_images, train_labels), _ = mnist.load_data()\n",
        "train_images = train_images.reshape((60000, 28 * 28))\n",
        "train_images = train_images.astype(\"float32\") / 255\n",
        "\n",
        "model = keras.Sequential([\n",
        "    layers.Dense(512, activation=\"relu\"),\n",
        "    layers.Dense(10, activation=\"softmax\")\n",
        "])\n",
        "model.compile(optimizer=keras.optimizers.RMSprop(LR),\n",
        "              loss=\"sparse_categorical_crossentropy\",\n",
        "              metrics=[\"accuracy\"])\n",
        "history = model.fit(train_images, train_labels,\n",
        "          epochs=NEPS,\n",
        "          batch_size=128,\n",
        "          validation_split=0.2)\n",
        "\n",
        "\n",
        "# %%time\n",
        "import matplotlib.pyplot as plt\n",
        "val_acc = history.history[\"val_accuracy\"]\n",
        "val_loss = history.history[\"val_loss\"]\n",
        "train_loss = history.history[\"loss\"]\n",
        "\n",
        "epochs = range(1, (NEPS+1))\n",
        "\n",
        "plt.plot(epochs, val_acc, \"g-.\", label=f\"Validation accuracy LR={LR}\")\n",
        "plt.plot(epochs, val_loss, \"r--\", label=f\"Validation LOSS LR={LR}\")\n",
        "plt.plot(epochs, train_loss, \"g-*\", label=f\"TRAIN LOSS LR={LR}\")\n",
        "plt.title(\"Effect of LR on  ACCURACY and LOSS\")\n",
        "plt.xlabel(\"Epochs\")\n",
        "plt.ylabel(\" Accuracy/LOSS\")\n",
        "plt.legend()"
      ],
      "metadata": {
        "colab": {
          "base_uri": "https://localhost:8080/",
          "height": 871
        },
        "id": "JfcF4uJqjy32",
        "outputId": "b811bb77-75de-4a1e-9a54-e2d7596dffdb"
      },
      "execution_count": 23,
      "outputs": [
        {
          "output_type": "stream",
          "name": "stdout",
          "text": [
            "Epoch 1/10\n",
            "375/375 [==============================] - 5s 9ms/step - loss: 0.2910 - accuracy: 0.9167 - val_loss: 0.1480 - val_accuracy: 0.9597\n",
            "Epoch 2/10\n",
            "375/375 [==============================] - 1s 4ms/step - loss: 0.1204 - accuracy: 0.9649 - val_loss: 0.1037 - val_accuracy: 0.9692\n",
            "Epoch 3/10\n",
            "375/375 [==============================] - 1s 3ms/step - loss: 0.0787 - accuracy: 0.9765 - val_loss: 0.0900 - val_accuracy: 0.9722\n",
            "Epoch 4/10\n",
            "375/375 [==============================] - 1s 3ms/step - loss: 0.0574 - accuracy: 0.9836 - val_loss: 0.0847 - val_accuracy: 0.9745\n",
            "Epoch 5/10\n",
            "375/375 [==============================] - 2s 5ms/step - loss: 0.0430 - accuracy: 0.9878 - val_loss: 0.0758 - val_accuracy: 0.9772\n",
            "Epoch 6/10\n",
            "375/375 [==============================] - 1s 4ms/step - loss: 0.0318 - accuracy: 0.9906 - val_loss: 0.0773 - val_accuracy: 0.9775\n",
            "Epoch 7/10\n",
            "375/375 [==============================] - 1s 3ms/step - loss: 0.0253 - accuracy: 0.9931 - val_loss: 0.0733 - val_accuracy: 0.9786\n",
            "Epoch 8/10\n",
            "375/375 [==============================] - 1s 3ms/step - loss: 0.0192 - accuracy: 0.9949 - val_loss: 0.0722 - val_accuracy: 0.9791\n",
            "Epoch 9/10\n",
            "375/375 [==============================] - 1s 4ms/step - loss: 0.0134 - accuracy: 0.9965 - val_loss: 0.0737 - val_accuracy: 0.9814\n",
            "Epoch 10/10\n",
            "375/375 [==============================] - 1s 4ms/step - loss: 0.0103 - accuracy: 0.9974 - val_loss: 0.0783 - val_accuracy: 0.9797\n",
            "CPU times: user 16.1 s, sys: 1.3 s, total: 17.4 s\n",
            "Wall time: 18.2 s\n"
          ]
        },
        {
          "output_type": "execute_result",
          "data": {
            "text/plain": [
              "<matplotlib.legend.Legend at 0x7f0e076e5540>"
            ]
          },
          "metadata": {},
          "execution_count": 23
        },
        {
          "output_type": "display_data",
          "data": {
            "text/plain": [
              "<Figure size 640x480 with 1 Axes>"
            ],
            "image/png": "[encoded data removed]"
          },
          "metadata": {}
        }
      ]
    },
    {
      "cell_type": "code",
      "source": [
        "%%time\n",
        "NEPS=10\n",
        "LR=0.001\n",
        "(train_images, train_labels), _ = mnist.load_data()\n",
        "train_images = train_images.reshape((60000, 28 * 28))\n",
        "train_images = train_images.astype(\"float32\") / 255\n",
        "\n",
        "model = keras.Sequential([\n",
        "    layers.Dense(512, activation=\"relu\"),\n",
        "    layers.Dense(10, activation=\"softmax\")\n",
        "])\n",
        "model.compile(optimizer=keras.optimizers.RMSprop(LR),\n",
        "              loss=\"sparse_categorical_crossentropy\",\n",
        "              metrics=[\"accuracy\"])\n",
        "history = model.fit(train_images, train_labels,\n",
        "          epochs=NEPS,\n",
        "          batch_size=128,\n",
        "          validation_split=0.2)\n",
        "\n",
        "\n",
        "# %%time\n",
        "import matplotlib.pyplot as plt\n",
        "val_acc = history.history[\"val_accuracy\"]\n",
        "val_loss = history.history[\"val_loss\"]\n",
        "epochs = range(1, (NEPS+1))\n",
        "\n",
        "plt.plot(epochs, val_acc, \"g-.\", label=f\"Validation accuracy LR={LR}\")\n",
        "plt.plot(epochs, val_loss, \"r--\", label=f\"Validation LOSS LR={LR}\")\n",
        "plt.title(\"Effect of LR on validation ACCURACY and LOSS\")\n",
        "plt.xlabel(\"Epochs\")\n",
        "plt.ylabel(\"Validation Accuracy/LOSS\")\n",
        "plt.legend()"
      ],
      "metadata": {
        "colab": {
          "base_uri": "https://localhost:8080/",
          "height": 871
        },
        "id": "FNykUpTSgp9x",
        "outputId": "a293f308-f8c4-4867-8a38-122141cea49c"
      },
      "execution_count": 21,
      "outputs": [
        {
          "output_type": "stream",
          "name": "stdout",
          "text": [
            "Epoch 1/10\n",
            "375/375 [==============================] - 2s 4ms/step - loss: 0.2916 - accuracy: 0.9152 - val_loss: 0.1452 - val_accuracy: 0.9581\n",
            "Epoch 2/10\n",
            "375/375 [==============================] - 2s 5ms/step - loss: 0.1219 - accuracy: 0.9639 - val_loss: 0.1040 - val_accuracy: 0.9687\n",
            "Epoch 3/10\n",
            "375/375 [==============================] - 2s 4ms/step - loss: 0.0794 - accuracy: 0.9762 - val_loss: 0.0852 - val_accuracy: 0.9755\n",
            "Epoch 4/10\n",
            "375/375 [==============================] - 1s 3ms/step - loss: 0.0574 - accuracy: 0.9835 - val_loss: 0.0810 - val_accuracy: 0.9755\n",
            "Epoch 5/10\n",
            "375/375 [==============================] - 1s 4ms/step - loss: 0.0427 - accuracy: 0.9874 - val_loss: 0.0762 - val_accuracy: 0.9773\n",
            "Epoch 6/10\n",
            "375/375 [==============================] - 1s 4ms/step - loss: 0.0323 - accuracy: 0.9910 - val_loss: 0.0719 - val_accuracy: 0.9785\n",
            "Epoch 7/10\n",
            "375/375 [==============================] - 2s 4ms/step - loss: 0.0250 - accuracy: 0.9928 - val_loss: 0.0723 - val_accuracy: 0.9788\n",
            "Epoch 8/10\n",
            "375/375 [==============================] - 1s 4ms/step - loss: 0.0183 - accuracy: 0.9948 - val_loss: 0.0742 - val_accuracy: 0.9787\n",
            "Epoch 9/10\n",
            "375/375 [==============================] - 1s 4ms/step - loss: 0.0135 - accuracy: 0.9968 - val_loss: 0.0741 - val_accuracy: 0.9794\n",
            "Epoch 10/10\n",
            "375/375 [==============================] - 2s 4ms/step - loss: 0.0102 - accuracy: 0.9977 - val_loss: 0.0746 - val_accuracy: 0.9814\n",
            "CPU times: user 15.8 s, sys: 1.31 s, total: 17.1 s\n",
            "Wall time: 16.3 s\n"
          ]
        },
        {
          "output_type": "execute_result",
          "data": {
            "text/plain": [
              "<matplotlib.legend.Legend at 0x7f0e06d3a2c0>"
            ]
          },
          "metadata": {},
          "execution_count": 21
        },
        {
          "output_type": "display_data",
          "data": {
            "text/plain": [
              "<Figure size 640x480 with 1 Axes>"
            ],
            "image/png": "[encoded data removed]"
          },
          "metadata": {}
        }
      ]
    },
    {
      "cell_type": "markdown",
      "metadata": {
        "id": "yzv49P48B682"
      },
      "source": [
        "**The same model with a more appropriate learning rate**"
      ]
    },
    {
      "cell_type": "code",
      "execution_count": null,
      "metadata": {
        "id": "CM6EnEHGB682"
      },
      "outputs": [],
      "source": [
        "model = keras.Sequential([\n",
        "    layers.Dense(512, activation=\"relu\"),\n",
        "    layers.Dense(10, activation=\"softmax\")\n",
        "])\n",
        "model.compile(optimizer=keras.optimizers.RMSprop(1e-2),\n",
        "              loss=\"sparse_categorical_crossentropy\",\n",
        "              metrics=[\"accuracy\"])\n",
        "model.fit(train_images, train_labels,\n",
        "          epochs=10,\n",
        "          batch_size=128,\n",
        "          validation_split=0.2)"
      ]
    },
    {
      "cell_type": "markdown",
      "metadata": {
        "id": "Or4h9okiB682"
      },
      "source": [
        "### Leveraging better architecture priors"
      ]
    },
    {
      "cell_type": "markdown",
      "metadata": {
        "id": "F8WQIKGhB682"
      },
      "source": [
        "### Increasing model capacity"
      ]
    },
    {
      "cell_type": "markdown",
      "metadata": {
        "id": "0s2S1w8VB682"
      },
      "source": [
        "**A simple logistic regression on MNIST**"
      ]
    },
    {
      "cell_type": "code",
      "execution_count": null,
      "metadata": {
        "id": "of-lF1D-B682"
      },
      "outputs": [],
      "source": [
        "%%time\n",
        "model = keras.Sequential([layers.Dense(10, activation=\"softmax\")])\n",
        "model.compile(optimizer=\"rmsprop\",\n",
        "              loss=\"sparse_categorical_crossentropy\",\n",
        "              metrics=[\"accuracy\"])\n",
        "history_small_model = model.fit(\n",
        "    train_images, train_labels,\n",
        "    epochs=20,\n",
        "    batch_size=128,\n",
        "    validation_split=0.2)"
      ]
    },
    {
      "cell_type": "code",
      "source": [
        "model.summary()"
      ],
      "metadata": {
        "id": "IdHFl7_PK76w"
      },
      "execution_count": null,
      "outputs": []
    },
    {
      "cell_type": "code",
      "source": [
        "model.weights"
      ],
      "metadata": {
        "id": "O1-308-CLH2n"
      },
      "execution_count": null,
      "outputs": []
    },
    {
      "cell_type": "code",
      "execution_count": null,
      "metadata": {
        "id": "X-ia63h-B682"
      },
      "outputs": [],
      "source": [
        "import matplotlib.pyplot as plt\n",
        "val_loss = history_small_model.history[\"val_loss\"]\n",
        "epochs = range(1, 21)\n",
        "plt.plot(epochs, val_loss, \"b--\",\n",
        "         label=\"Validation loss\")\n",
        "plt.title(\"Effect of insufficient model capacity (7850 pars) on validation loss\")\n",
        "plt.xlabel(\"Epochs\")\n",
        "plt.ylabel(\"Loss\")\n",
        "plt.legend()"
      ]
    },
    {
      "cell_type": "code",
      "execution_count": null,
      "metadata": {
        "id": "hrE0xNYPB682"
      },
      "outputs": [],
      "source": [
        "%%time\n",
        "model = keras.Sequential([\n",
        "    layers.Dense(96, activation=\"relu\"),\n",
        "    layers.Dense(96, activation=\"relu\"),\n",
        "    layers.Dense(10, activation=\"softmax\"),\n",
        "])\n",
        "model.compile(optimizer=\"rmsprop\",\n",
        "              loss=\"sparse_categorical_crossentropy\",\n",
        "              metrics=[\"accuracy\"])\n",
        "history_large_model = model.fit(\n",
        "    train_images, train_labels,\n",
        "    epochs=20,\n",
        "    batch_size=128,\n",
        "    validation_split=0.2)"
      ]
    },
    {
      "cell_type": "code",
      "source": [
        "model.summary()"
      ],
      "metadata": {
        "id": "XfsGtBYTLuFv"
      },
      "execution_count": null,
      "outputs": []
    },
    {
      "cell_type": "code",
      "source": [
        "import matplotlib.pyplot as plt\n",
        "val_loss_small = history_small_model.history[\"val_loss\"]\n",
        "val_loss_big = history_large_model.history[\"val_loss\"]\n",
        "\n",
        "epochs = range(1, 21)\n",
        "plt.plot(epochs, val_loss_small, \"b--\", label=\"Validation loss for SMALL Capacity (7850 pars) model\")\n",
        "plt.plot(epochs, val_loss_big, \"r--\", label=\"Validation loss LARGE Cap (85642 pars) model\")\n",
        "plt.title(\"Effect of capacity  on validation loss\")\n",
        "plt.xlabel(\"Epochs\")\n",
        "plt.ylabel(\"Loss\")\n",
        "plt.legend()"
      ],
      "metadata": {
        "id": "3Uq9k-y0L4eh"
      },
      "execution_count": null,
      "outputs": []
    },
    {
      "cell_type": "markdown",
      "metadata": {
        "id": "N2hSFV8tB683"
      },
      "source": [
        "## Improving generalization"
      ]
    },
    {
      "cell_type": "markdown",
      "metadata": {
        "id": "9Jr7oXo3B683"
      },
      "source": [
        "### Dataset curation"
      ]
    },
    {
      "cell_type": "markdown",
      "metadata": {
        "id": "DG35QIGuB683"
      },
      "source": [
        "### Feature engineering"
      ]
    },
    {
      "cell_type": "markdown",
      "metadata": {
        "id": "A47oM41hB683"
      },
      "source": [
        "### Using early stopping"
      ]
    },
    {
      "cell_type": "markdown",
      "metadata": {
        "id": "7txNEUJKB683"
      },
      "source": [
        "### Regularizing your model"
      ]
    },
    {
      "cell_type": "markdown",
      "metadata": {
        "id": "CHw5Sz4ZB683"
      },
      "source": [
        "#### Reducing the network's size"
      ]
    },
    {
      "cell_type": "markdown",
      "metadata": {
        "id": "vXTcq9Q7B683"
      },
      "source": [
        "**Original model**"
      ]
    },
    {
      "cell_type": "code",
      "execution_count": null,
      "metadata": {
        "id": "N0AgUyMxB684"
      },
      "outputs": [],
      "source": [
        "%%time\n",
        "from tensorflow.keras.datasets import imdb\n",
        "(train_data, train_labels), _ = imdb.load_data(num_words=10000)\n",
        "\n",
        "def vectorize_sequences(sequences, dimension=10000):\n",
        "    results = np.zeros((len(sequences), dimension))\n",
        "    for i, sequence in enumerate(sequences):\n",
        "        results[i, sequence] = 1.\n",
        "    return results\n",
        "train_data = vectorize_sequences(train_data)\n",
        "\n",
        "model = keras.Sequential([\n",
        "    layers.Dense(16, activation=\"relu\"),\n",
        "    layers.Dense(16, activation=\"relu\"),\n",
        "    layers.Dense(1, activation=\"sigmoid\")\n",
        "])\n",
        "model.compile(optimizer=\"rmsprop\",\n",
        "              loss=\"binary_crossentropy\",\n",
        "              metrics=[\"accuracy\"])\n",
        "history_original = model.fit(train_data, train_labels,\n",
        "                             epochs=20, batch_size=512, validation_split=0.4)"
      ]
    },
    {
      "cell_type": "markdown",
      "metadata": {
        "id": "h6Bt6ZgQB684"
      },
      "source": [
        "**Version of the model with lower capacity**"
      ]
    },
    {
      "cell_type": "code",
      "execution_count": null,
      "metadata": {
        "id": "MM_BFjG2B684"
      },
      "outputs": [],
      "source": [
        "%%time\n",
        "model = keras.Sequential([\n",
        "    layers.Dense(4, activation=\"relu\"),\n",
        "    layers.Dense(4, activation=\"relu\"),\n",
        "    layers.Dense(1, activation=\"sigmoid\")\n",
        "])\n",
        "model.compile(optimizer=\"rmsprop\",\n",
        "              loss=\"binary_crossentropy\",\n",
        "              metrics=[\"accuracy\"])\n",
        "history_smaller_model = model.fit(\n",
        "    train_data, train_labels,\n",
        "    epochs=20, batch_size=512, validation_split=0.4)"
      ]
    },
    {
      "cell_type": "markdown",
      "metadata": {
        "id": "EvxspSWXB684"
      },
      "source": [
        "**Version of the model with higher capacity**"
      ]
    },
    {
      "cell_type": "code",
      "execution_count": null,
      "metadata": {
        "id": "WzevAAvcB684"
      },
      "outputs": [],
      "source": [
        "%%time\n",
        "model = keras.Sequential([\n",
        "    layers.Dense(512, activation=\"relu\"),\n",
        "    layers.Dense(512, activation=\"relu\"),\n",
        "    layers.Dense(1, activation=\"sigmoid\")\n",
        "])\n",
        "model.compile(optimizer=\"rmsprop\",\n",
        "              loss=\"binary_crossentropy\",\n",
        "              metrics=[\"accuracy\"])\n",
        "history_larger_model = model.fit(\n",
        "    train_data, train_labels,\n",
        "    epochs=20, batch_size=512, validation_split=0.4)"
      ]
    },
    {
      "cell_type": "markdown",
      "metadata": {
        "id": "9BTfmMVdB684"
      },
      "source": [
        "#### Adding weight regularization"
      ]
    },
    {
      "cell_type": "markdown",
      "metadata": {
        "id": "Ko6BTieAB684"
      },
      "source": [
        "**Adding L2 weight regularization to the model**"
      ]
    },
    {
      "cell_type": "code",
      "execution_count": null,
      "metadata": {
        "id": "gsiFue2eB684"
      },
      "outputs": [],
      "source": [
        "%%time\n",
        "from tensorflow.keras import regularizers\n",
        "model = keras.Sequential([\n",
        "    layers.Dense(16,\n",
        "                 kernel_regularizer=regularizers.l2(0.002),\n",
        "                 activation=\"relu\"),\n",
        "    layers.Dense(16,\n",
        "                 kernel_regularizer=regularizers.l2(0.002),\n",
        "                 activation=\"relu\"),\n",
        "    layers.Dense(1, activation=\"sigmoid\")\n",
        "])\n",
        "model.compile(optimizer=\"rmsprop\",\n",
        "              loss=\"binary_crossentropy\",\n",
        "              metrics=[\"accuracy\"])\n",
        "history_l2_reg = model.fit(\n",
        "    train_data, train_labels,\n",
        "    epochs=20, batch_size=512, validation_split=0.4)"
      ]
    },
    {
      "cell_type": "markdown",
      "metadata": {
        "id": "g20GvZ57B685"
      },
      "source": [
        "**Different weight regularizers available in Keras**"
      ]
    },
    {
      "cell_type": "code",
      "execution_count": null,
      "metadata": {
        "id": "BI6pnRvjB685"
      },
      "outputs": [],
      "source": [
        "%%time\n",
        "from tensorflow.keras import regularizers\n",
        "regularizers.l1(0.001)\n",
        "regularizers.l1_l2(l1=0.001, l2=0.001)"
      ]
    },
    {
      "cell_type": "markdown",
      "metadata": {
        "id": "FdmnNHBqB685"
      },
      "source": [
        "#### Adding dropout"
      ]
    },
    {
      "cell_type": "markdown",
      "metadata": {
        "id": "U4u1gZayB685"
      },
      "source": [
        "**Adding dropout to the IMDB model**"
      ]
    },
    {
      "cell_type": "code",
      "execution_count": null,
      "metadata": {
        "id": "eLG67IXsB685"
      },
      "outputs": [],
      "source": [
        "%%time\n",
        "model = keras.Sequential([\n",
        "    layers.Dense(16, activation=\"relu\"),\n",
        "    layers.Dropout(0.5),\n",
        "    layers.Dense(16, activation=\"relu\"),\n",
        "    layers.Dropout(0.5),\n",
        "    layers.Dense(1, activation=\"sigmoid\")\n",
        "])\n",
        "model.compile(optimizer=\"rmsprop\",\n",
        "              loss=\"binary_crossentropy\",\n",
        "              metrics=[\"accuracy\"])\n",
        "history_dropout = model.fit(\n",
        "    train_data, train_labels,\n",
        "    epochs=20, batch_size=512, validation_split=0.4)"
      ]
    },
    {
      "cell_type": "markdown",
      "metadata": {
        "id": "NBjEIRMxB685"
      },
      "source": [
        "## Summary"
      ]
    },
    {
      "cell_type": "code",
      "source": [],
      "metadata": {
        "id": "Aq6KA-aShKlQ"
      },
      "execution_count": null,
      "outputs": []
    },
    {
      "cell_type": "code",
      "source": [],
      "metadata": {
        "id": "fnaGQqyThKgE"
      },
      "execution_count": null,
      "outputs": []
    },
    {
      "cell_type": "code",
      "source": [],
      "metadata": {
        "id": "O_M8yhCshKaW"
      },
      "execution_count": null,
      "outputs": []
    },
    {
      "cell_type": "markdown",
      "source": [
        "# CALL BACK FNC"
      ],
      "metadata": {
        "id": "raeCpCuIkOBK"
      }
    },
    {
      "cell_type": "code",
      "source": [
        "# https://saturncloud.io/blog/how-to-show-tensorflow-model-output-every-x-epochs/\n",
        "\n",
        "from tensorflow.keras.callbacks import Callback\n",
        "\n",
        "class ShowOutputCallback(Callback):\n",
        "    def __init__(self, interval=10):\n",
        "        super().__init__()\n",
        "        self.interval = interval\n",
        "\n",
        "    def on_epoch_end(self, epoch, logs=None):\n",
        "        if epoch % self.interval == 0:\n",
        "            print(f\"Epoch {epoch + 1}:\")\n",
        "            for key, value in logs.items():\n",
        "                print(f\"{key}: {value:.4f}\")\n",
        "            print()"
      ],
      "metadata": {
        "id": "QLqpE_FRkLGk"
      },
      "execution_count": 26,
      "outputs": []
    },
    {
      "cell_type": "code",
      "source": [
        "%%time\n",
        "NEPS=100\n",
        "LR=0.001\n",
        "LR=1.0\n",
        "(train_images, train_labels), _ = mnist.load_data()\n",
        "train_images = train_images.reshape((60000, 28 * 28))\n",
        "train_images = train_images.astype(\"float32\") / 255\n",
        "\n",
        "model = keras.Sequential([\n",
        "    layers.Dense(512, activation=\"relu\"),\n",
        "    layers.Dense(10, activation=\"softmax\")\n",
        "])\n",
        "model.compile(optimizer=keras.optimizers.RMSprop(LR),\n",
        "              loss=\"sparse_categorical_crossentropy\",\n",
        "              metrics=[\"accuracy\"])\n",
        "\n",
        "# callbacks=[ShowOutputCallback(interval=10)]\n",
        "# model.fit(x_train, y_train, epochs=100, callbacks=[ShowOutputCallback(interval=10)])\n",
        "\n",
        "history = model.fit(train_images, train_labels,\n",
        "          epochs=NEPS,\n",
        "          batch_size=128,\n",
        "          validation_split=0.2,\n",
        "          verbose=0,\n",
        "          callbacks=[ShowOutputCallback(interval=20)])\n"
      ],
      "metadata": {
        "colab": {
          "base_uri": "https://localhost:8080/"
        },
        "id": "ZaAglw4ChKRw",
        "outputId": "0cb5f1db-348b-4bf4-8db0-2050fe030ac5"
      },
      "execution_count": 33,
      "outputs": [
        {
          "output_type": "stream",
          "name": "stdout",
          "text": [
            "Epoch 1:\n",
            "loss: 659.2978\n",
            "accuracy: 0.2778\n",
            "val_loss: 2.1222\n",
            "val_accuracy: 0.2305\n",
            "\n",
            "Epoch 21:\n",
            "loss: 2.2458\n",
            "accuracy: 0.1947\n",
            "val_loss: 2.1641\n",
            "val_accuracy: 0.1959\n",
            "\n",
            "Epoch 41:\n",
            "loss: 2.1958\n",
            "accuracy: 0.1962\n",
            "val_loss: 2.2839\n",
            "val_accuracy: 0.1941\n",
            "\n",
            "Epoch 61:\n",
            "loss: 2.1468\n",
            "accuracy: 0.2017\n",
            "val_loss: 2.1899\n",
            "val_accuracy: 0.1873\n",
            "\n",
            "Epoch 81:\n",
            "loss: 2.1318\n",
            "accuracy: 0.2029\n",
            "val_loss: 2.2654\n",
            "val_accuracy: 0.1948\n",
            "\n",
            "CPU times: user 2min, sys: 8.21 s, total: 2min 9s\n",
            "Wall time: 1min 55s\n"
          ]
        }
      ]
    },
    {
      "cell_type": "code",
      "source": [
        "# %%time\n",
        "import matplotlib.pyplot as plt\n",
        "val_acc = history.history[\"val_accuracy\"]\n",
        "val_loss = history.history[\"val_loss\"]\n",
        "train_loss = history.history[\"loss\"]\n",
        "epochs = range(1, (NEPS+1))\n",
        "\n",
        "plt.plot(epochs, train_loss, \"b-.\", label=f\"Train LOSS LR={LR}\")\n",
        "# plt.plot(epochs[45:], train_loss[45:], \"b-.\", label=f\"Train LOSS LR={LR}\")\n",
        "# plt.plot(epochs, val_acc, \"g-.\", label=f\"Validation accuracy LR={LR}\")\n",
        "# plt.plot(epochs, val_loss, \"r--\", label=f\"Validation LOSS LR={LR}\")\n",
        "plt.title(\"Effect of LR on validation ACCURACY and LOSS\")\n",
        "plt.xlabel(\"Epochs\")\n",
        "plt.ylabel(\"Validation Accuracy/LOSS\")\n",
        "plt.legend()"
      ],
      "metadata": {
        "colab": {
          "base_uri": "https://localhost:8080/",
          "height": 489
        },
        "id": "EvI_wtcIhKGy",
        "outputId": "ae67c41f-5272-4c9a-9730-367f61f6efe1"
      },
      "execution_count": 42,
      "outputs": [
        {
          "output_type": "execute_result",
          "data": {
            "text/plain": [
              "<matplotlib.legend.Legend at 0x7f0df4748a90>"
            ]
          },
          "metadata": {},
          "execution_count": 42
        },
        {
          "output_type": "display_data",
          "data": {
            "text/plain": [
              "<Figure size 640x480 with 1 Axes>"
            ],
            "image/png": "[encoded data removed]"
          },
          "metadata": {}
        }
      ]
    },
    {
      "cell_type": "code",
      "source": [],
      "metadata": {
        "id": "D9HwXnnFhQwJ"
      },
      "execution_count": null,
      "outputs": []
    }
  ],
  "metadata": {
    "colab": {
      "name": "chapter05_fundamentals-of-ml.i",
      "provenance": [],
      "toc_visible": true,
      "gpuType": "V100"
    },
    "kernelspec": {
      "display_name": "Python 3",
      "name": "python3"
    },
    "language_info": {
      "codemirror_mode": {
        "name": "ipython",
        "version": 3
      },
      "file_extension": ".py",
      "mimetype": "text/x-python",
      "name": "python",
      "nbconvert_exporter": "python",
      "pygments_lexer": "ipython3",
      "version": "3.7.0"
    },
    "accelerator": "GPU"
  },
  "nbformat": 4,
  "nbformat_minor": 0
}