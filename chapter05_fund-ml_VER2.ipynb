{
  "cells": [
    {
      "cell_type": "markdown",
      "metadata": {
        "id": "ctzi6UAVB68u"
      },
      "source": [
        "This is a companion notebook for the book [Deep Learning with Python, Second Edition](https://www.manning.com/books/deep-learning-with-python-second-edition?a_aid=keras&a_bid=76564dff). For readability, it only contains runnable code blocks and section titles, and omits everything else in the book: text paragraphs, figures, and pseudocode.\n",
        "\n",
        "**If you want to be able to follow what's going on, I recommend reading the notebook side by side with your copy of the book.**\n",
        "\n",
        "This notebook was generated for TensorFlow 2.6."
      ]
    },
    {
      "cell_type": "markdown",
      "metadata": {
        "id": "9h8i9YJxB68w"
      },
      "source": [
        "# Fundamentals of machine learning"
      ]
    },
    {
      "cell_type": "markdown",
      "metadata": {
        "id": "FtExaOXUB68w"
      },
      "source": [
        "## Generalization: The goal of machine learning"
      ]
    },
    {
      "cell_type": "markdown",
      "metadata": {
        "id": "yGOaFHsXB68x"
      },
      "source": [
        "### Underfitting and overfitting"
      ]
    },
    {
      "cell_type": "markdown",
      "metadata": {
        "id": "WPSPSRFiB68x"
      },
      "source": [
        "#### Noisy training data"
      ]
    },
    {
      "cell_type": "markdown",
      "metadata": {
        "id": "waHtHMpaB68x"
      },
      "source": [
        "#### Ambiguous features"
      ]
    },
    {
      "cell_type": "markdown",
      "metadata": {
        "id": "PLxcyqdoB68x"
      },
      "source": [
        "#### Rare features and spurious correlations"
      ]
    },
    {
      "cell_type": "markdown",
      "metadata": {
        "id": "vrhlUmdtB68x"
      },
      "source": [
        "# Let's see how \"Quality\" of Data Matters\n",
        "\n",
        "**Adding white-noise channels or all-zeros channels to MNIST**"
      ]
    },
    {
      "cell_type": "code",
      "execution_count": 1,
      "metadata": {
        "id": "DGdoenm-B68x",
        "outputId": "9979510b-0317-43a8-904c-010ec28a9cbe",
        "colab": {
          "base_uri": "https://localhost:8080/"
        }
      },
      "outputs": [
        {
          "output_type": "stream",
          "name": "stdout",
          "text": [
            "Downloading data from https://storage.googleapis.com/tensorflow/tf-keras-datasets/mnist.npz\n",
            "11490434/11490434 [==============================] - 0s 0us/step\n",
            "CPU times: user 5.06 s, sys: 957 ms, total: 6.01 s\n",
            "Wall time: 8.37 s\n"
          ]
        }
      ],
      "source": [
        "%%time\n",
        "from tensorflow.keras.datasets import mnist\n",
        "import numpy as np\n",
        "\n",
        "(train_images, train_labels), _ = mnist.load_data()\n",
        "train_images = train_images.reshape((60000, 28 * 28))\n",
        "train_images = train_images.astype(\"float32\") / 255\n",
        "\n",
        "\n",
        "train_images_with_noise_channels = np.concatenate(\n",
        "    [train_images, np.random.random((len(train_images), 784))], axis=1)\n",
        "\n",
        "train_images_with_zeros_channels = np.concatenate(\n",
        "    [train_images, np.zeros((len(train_images), 784))], axis=1)"
      ]
    },
    {
      "cell_type": "code",
      "source": [
        "train_images.shape"
      ],
      "metadata": {
        "id": "SlJLKld7Xb9M",
        "outputId": "26f989a6-573e-4bd7-f62b-5ffab6155525",
        "colab": {
          "base_uri": "https://localhost:8080/"
        }
      },
      "execution_count": 2,
      "outputs": [
        {
          "output_type": "execute_result",
          "data": {
            "text/plain": [
              "(60000, 784)"
            ]
          },
          "metadata": {},
          "execution_count": 2
        }
      ]
    },
    {
      "cell_type": "code",
      "source": [
        "train_images_with_noise_channels.shape"
      ],
      "metadata": {
        "id": "0W_i8ce2XCI-",
        "outputId": "9b5d0a09-90e4-4390-a4c6-dd0715ebd026",
        "colab": {
          "base_uri": "https://localhost:8080/"
        }
      },
      "execution_count": 3,
      "outputs": [
        {
          "output_type": "execute_result",
          "data": {
            "text/plain": [
              "(60000, 1568)"
            ]
          },
          "metadata": {},
          "execution_count": 3
        }
      ]
    },
    {
      "cell_type": "code",
      "source": [
        "train_images_with_noise_channels[0]"
      ],
      "metadata": {
        "id": "kQXxJ5VFXS9H",
        "outputId": "55fcbd8a-41e8-43ee-d9dc-6f4f4d794d73",
        "colab": {
          "base_uri": "https://localhost:8080/"
        }
      },
      "execution_count": 4,
      "outputs": [
        {
          "output_type": "execute_result",
          "data": {
            "text/plain": [
              "array([0.        , 0.        , 0.        , ..., 0.32235994, 0.13572248,\n",
              "       0.42230579])"
            ]
          },
          "metadata": {},
          "execution_count": 4
        }
      ]
    },
    {
      "cell_type": "code",
      "source": [
        "train_images_with_zeros_channels.shape"
      ],
      "metadata": {
        "id": "yC8THboiXTNB",
        "outputId": "2ee90320-f95b-4141-bb0b-f6d7d879b9e6",
        "colab": {
          "base_uri": "https://localhost:8080/"
        }
      },
      "execution_count": 5,
      "outputs": [
        {
          "output_type": "execute_result",
          "data": {
            "text/plain": [
              "(60000, 1568)"
            ]
          },
          "metadata": {},
          "execution_count": 5
        }
      ]
    },
    {
      "cell_type": "code",
      "source": [
        "train_images_with_zeros_channels[0]"
      ],
      "metadata": {
        "id": "fe9dc4T9Xn71",
        "outputId": "2b1d0b43-965f-401d-9c6a-5bacd2efee1d",
        "colab": {
          "base_uri": "https://localhost:8080/"
        }
      },
      "execution_count": 6,
      "outputs": [
        {
          "output_type": "execute_result",
          "data": {
            "text/plain": [
              "array([0., 0., 0., ..., 0., 0., 0.])"
            ]
          },
          "metadata": {},
          "execution_count": 6
        }
      ]
    },
    {
      "cell_type": "markdown",
      "metadata": {
        "id": "rbms7438B68z"
      },
      "source": [
        "**Training the same model on MNIST data with noise channels or all-zero channels**"
      ]
    },
    {
      "cell_type": "code",
      "execution_count": 8,
      "metadata": {
        "id": "guLeiIzgB68z",
        "outputId": "ff98b4ac-4297-4c57-8e90-4131e4a133e1",
        "colab": {
          "base_uri": "https://localhost:8080/"
        }
      },
      "outputs": [
        {
          "output_type": "stream",
          "name": "stdout",
          "text": [
            "Epoch 1/5\n",
            "375/375 [==============================] - 2s 4ms/step - loss: 0.2970 - accuracy: 0.9144 - val_loss: 0.1534 - val_accuracy: 0.9560\n",
            "Epoch 2/5\n",
            "375/375 [==============================] - 1s 3ms/step - loss: 0.1248 - accuracy: 0.9629 - val_loss: 0.1158 - val_accuracy: 0.9678\n",
            "Epoch 3/5\n",
            "375/375 [==============================] - 1s 4ms/step - loss: 0.0807 - accuracy: 0.9766 - val_loss: 0.1067 - val_accuracy: 0.9691\n",
            "Epoch 4/5\n",
            "375/375 [==============================] - 1s 3ms/step - loss: 0.0582 - accuracy: 0.9829 - val_loss: 0.0831 - val_accuracy: 0.9758\n",
            "Epoch 5/5\n",
            "375/375 [==============================] - 1s 4ms/step - loss: 0.0439 - accuracy: 0.9870 - val_loss: 0.0757 - val_accuracy: 0.9790\n",
            "Epoch 1/5\n",
            "375/375 [==============================] - 3s 5ms/step - loss: 0.6138 - accuracy: 0.8130 - val_loss: 0.2653 - val_accuracy: 0.9225\n",
            "Epoch 2/5\n",
            "375/375 [==============================] - 2s 4ms/step - loss: 0.2574 - accuracy: 0.9202 - val_loss: 0.1894 - val_accuracy: 0.9457\n",
            "Epoch 3/5\n",
            "375/375 [==============================] - 1s 4ms/step - loss: 0.1658 - accuracy: 0.9490 - val_loss: 0.1628 - val_accuracy: 0.9539\n",
            "Epoch 4/5\n",
            "375/375 [==============================] - 1s 4ms/step - loss: 0.1173 - accuracy: 0.9639 - val_loss: 0.1701 - val_accuracy: 0.9493\n",
            "Epoch 5/5\n",
            "375/375 [==============================] - 1s 4ms/step - loss: 0.0856 - accuracy: 0.9733 - val_loss: 0.1633 - val_accuracy: 0.9503\n",
            "Epoch 1/5\n",
            "375/375 [==============================] - 3s 6ms/step - loss: 0.2934 - accuracy: 0.9150 - val_loss: 0.1630 - val_accuracy: 0.9522\n",
            "Epoch 2/5\n",
            "375/375 [==============================] - 1s 3ms/step - loss: 0.1218 - accuracy: 0.9647 - val_loss: 0.1199 - val_accuracy: 0.9639\n",
            "Epoch 3/5\n",
            "375/375 [==============================] - 1s 4ms/step - loss: 0.0803 - accuracy: 0.9762 - val_loss: 0.1025 - val_accuracy: 0.9681\n",
            "Epoch 4/5\n",
            "375/375 [==============================] - 1s 4ms/step - loss: 0.0578 - accuracy: 0.9829 - val_loss: 0.0966 - val_accuracy: 0.9689\n",
            "Epoch 5/5\n",
            "375/375 [==============================] - 1s 4ms/step - loss: 0.0428 - accuracy: 0.9881 - val_loss: 0.0791 - val_accuracy: 0.9772\n",
            "CPU times: user 24.7 s, sys: 2.93 s, total: 27.6 s\n",
            "Wall time: 30.7 s\n"
          ]
        }
      ],
      "source": [
        "%%time\n",
        "\n",
        "NEPOCHS = 5\n",
        "from tensorflow import keras\n",
        "from tensorflow.keras import layers\n",
        "\n",
        "def get_model():\n",
        "    model = keras.Sequential([\n",
        "        layers.Dense(512, activation=\"relu\"),\n",
        "        layers.Dense(10, activation=\"softmax\")\n",
        "    ])\n",
        "    model.compile(optimizer=\"rmsprop\",\n",
        "                  loss=\"sparse_categorical_crossentropy\",\n",
        "                  metrics=[\"accuracy\"])\n",
        "    return model\n",
        "\n",
        "model = get_model()\n",
        "history = model.fit(\n",
        "    train_images, train_labels,\n",
        "    epochs=NEPOCHS,\n",
        "    batch_size=128,\n",
        "    validation_split=0.2)\n",
        "\n",
        "model = get_model()\n",
        "history_noise = model.fit(\n",
        "    train_images_with_noise_channels, train_labels,\n",
        "    epochs=NEPOCHS,\n",
        "    batch_size=128,\n",
        "    validation_split=0.2)\n",
        "\n",
        "model = get_model()\n",
        "history_zeros = model.fit(\n",
        "    train_images_with_zeros_channels, train_labels,\n",
        "    epochs=NEPOCHS,\n",
        "    batch_size=128,\n",
        "    validation_split=0.2)"
      ]
    },
    {
      "cell_type": "markdown",
      "metadata": {
        "id": "ahc3sajoB68z"
      },
      "source": [
        "**Plotting a validation accuracy comparison**"
      ]
    },
    {
      "cell_type": "code",
      "execution_count": 12,
      "metadata": {
        "id": "bg9qskcQB68z",
        "outputId": "b32ed1bb-6cee-4007-8b5a-4162d7776f40",
        "colab": {
          "base_uri": "https://localhost:8080/",
          "height": 524
        }
      },
      "outputs": [
        {
          "output_type": "stream",
          "name": "stdout",
          "text": [
            "CPU times: user 33.2 ms, sys: 0 ns, total: 33.2 ms\n",
            "Wall time: 33.1 ms\n"
          ]
        },
        {
          "output_type": "execute_result",
          "data": {
            "text/plain": [
              "<matplotlib.legend.Legend at 0x7fa5500f0ca0>"
            ]
          },
          "metadata": {},
          "execution_count": 12
        },
        {
          "output_type": "display_data",
          "data": {
            "text/plain": [
              "<Figure size 640x480 with 1 Axes>"
            ],
            "image/png": "[encoded data removed]"
          },
          "metadata": {}
        }
      ],
      "source": [
        "%%time\n",
        "import matplotlib.pyplot as plt\n",
        "val_acc_orig = history.history[\"val_accuracy\"]\n",
        "val_acc_noise = history_noise.history[\"val_accuracy\"]\n",
        "val_acc_zeros = history_zeros.history[\"val_accuracy\"]\n",
        "epochs = range(1, (NEPOCHS+1))\n",
        "\n",
        "plt.plot(epochs, val_acc_orig, \"g-.\",\n",
        "         label=\"Validation accuracy with original data\")\n",
        "plt.plot(epochs, val_acc_zeros, \"b--\",\n",
        "         label=\"Validation accuracy with zeros channels\")\n",
        "plt.plot(epochs, val_acc_noise, \"r-\",\n",
        "         label=\"Validation accuracy with noise channels\")\n",
        "plt.title(\"Effect of noise channels on validation accuracy\")\n",
        "plt.xlabel(\"Epochs\")\n",
        "plt.ylabel(\"Validation Accuracy\")\n",
        "plt.legend()"
      ]
    },
    {
      "cell_type": "markdown",
      "metadata": {
        "id": "YTVJPen1B680"
      },
      "source": [
        "### The nature of generalization in deep learning"
      ]
    },
    {
      "cell_type": "markdown",
      "metadata": {
        "id": "NG_RAnezB680"
      },
      "source": [
        "**Fitting a MNIST model with randomly shuffled labels**"
      ]
    },
    {
      "cell_type": "code",
      "execution_count": 14,
      "metadata": {
        "id": "4UotPGM8B680",
        "outputId": "dae1a0b5-9914-4ec8-e8a6-1836f1064dad",
        "colab": {
          "base_uri": "https://localhost:8080/"
        }
      },
      "outputs": [
        {
          "output_type": "stream",
          "name": "stdout",
          "text": [
            "Epoch 1/25\n",
            "94/94 [==============================] - 1s 7ms/step - loss: 2.3202 - accuracy: 0.1031 - val_loss: 2.3082 - val_accuracy: 0.1084\n",
            "Epoch 2/25\n",
            "94/94 [==============================] - 0s 4ms/step - loss: 2.2969 - accuracy: 0.1184 - val_loss: 2.3105 - val_accuracy: 0.0988\n",
            "Epoch 3/25\n",
            "94/94 [==============================] - 0s 5ms/step - loss: 2.2863 - accuracy: 0.1312 - val_loss: 2.3172 - val_accuracy: 0.1022\n",
            "Epoch 4/25\n",
            "94/94 [==============================] - 0s 4ms/step - loss: 2.2753 - accuracy: 0.1446 - val_loss: 2.3162 - val_accuracy: 0.1035\n",
            "Epoch 5/25\n",
            "94/94 [==============================] - 0s 4ms/step - loss: 2.2630 - accuracy: 0.1521 - val_loss: 2.3228 - val_accuracy: 0.0982\n",
            "Epoch 6/25\n",
            "94/94 [==============================] - 0s 4ms/step - loss: 2.2494 - accuracy: 0.1640 - val_loss: 2.3271 - val_accuracy: 0.1050\n",
            "Epoch 7/25\n",
            "94/94 [==============================] - 0s 4ms/step - loss: 2.2342 - accuracy: 0.1753 - val_loss: 2.3485 - val_accuracy: 0.1004\n",
            "Epoch 8/25\n",
            "94/94 [==============================] - 0s 5ms/step - loss: 2.2177 - accuracy: 0.1877 - val_loss: 2.3468 - val_accuracy: 0.1032\n",
            "Epoch 9/25\n",
            "94/94 [==============================] - 0s 5ms/step - loss: 2.2001 - accuracy: 0.2008 - val_loss: 2.3567 - val_accuracy: 0.0943\n",
            "Epoch 10/25\n",
            "94/94 [==============================] - 0s 5ms/step - loss: 2.1798 - accuracy: 0.2099 - val_loss: 2.3703 - val_accuracy: 0.1048\n",
            "Epoch 11/25\n",
            "94/94 [==============================] - 0s 5ms/step - loss: 2.1603 - accuracy: 0.2222 - val_loss: 2.3769 - val_accuracy: 0.1027\n",
            "Epoch 12/25\n",
            "94/94 [==============================] - 1s 5ms/step - loss: 2.1393 - accuracy: 0.2330 - val_loss: 2.3848 - val_accuracy: 0.1042\n",
            "Epoch 13/25\n",
            "94/94 [==============================] - 0s 5ms/step - loss: 2.1160 - accuracy: 0.2467 - val_loss: 2.4012 - val_accuracy: 0.1024\n",
            "Epoch 14/25\n",
            "94/94 [==============================] - 1s 5ms/step - loss: 2.0943 - accuracy: 0.2557 - val_loss: 2.4105 - val_accuracy: 0.1050\n",
            "Epoch 15/25\n",
            "94/94 [==============================] - 0s 4ms/step - loss: 2.0705 - accuracy: 0.2703 - val_loss: 2.4236 - val_accuracy: 0.1063\n",
            "Epoch 16/25\n",
            "94/94 [==============================] - 0s 5ms/step - loss: 2.0469 - accuracy: 0.2776 - val_loss: 2.4360 - val_accuracy: 0.1038\n",
            "Epoch 17/25\n",
            "94/94 [==============================] - 0s 5ms/step - loss: 2.0249 - accuracy: 0.2889 - val_loss: 2.4457 - val_accuracy: 0.1048\n",
            "Epoch 18/25\n",
            "94/94 [==============================] - 0s 4ms/step - loss: 1.9985 - accuracy: 0.3033 - val_loss: 2.4728 - val_accuracy: 0.1067\n",
            "Epoch 19/25\n",
            "94/94 [==============================] - 1s 5ms/step - loss: 1.9740 - accuracy: 0.3136 - val_loss: 2.4858 - val_accuracy: 0.1019\n",
            "Epoch 20/25\n",
            "94/94 [==============================] - 1s 7ms/step - loss: 1.9485 - accuracy: 0.3243 - val_loss: 2.5091 - val_accuracy: 0.1012\n",
            "Epoch 21/25\n",
            "94/94 [==============================] - 1s 7ms/step - loss: 1.9251 - accuracy: 0.3347 - val_loss: 2.5280 - val_accuracy: 0.1050\n",
            "Epoch 22/25\n",
            "94/94 [==============================] - 1s 7ms/step - loss: 1.8997 - accuracy: 0.3452 - val_loss: 2.5545 - val_accuracy: 0.1015\n",
            "Epoch 23/25\n",
            "94/94 [==============================] - 0s 5ms/step - loss: 1.8769 - accuracy: 0.3566 - val_loss: 2.5468 - val_accuracy: 0.1069\n",
            "Epoch 24/25\n",
            "94/94 [==============================] - 0s 5ms/step - loss: 1.8505 - accuracy: 0.3657 - val_loss: 2.5768 - val_accuracy: 0.1021\n",
            "Epoch 25/25\n",
            "94/94 [==============================] - 0s 5ms/step - loss: 1.8267 - accuracy: 0.3759 - val_loss: 2.6160 - val_accuracy: 0.1053\n",
            "CPU times: user 13.6 s, sys: 1.25 s, total: 14.8 s\n",
            "Wall time: 22.2 s\n"
          ]
        }
      ],
      "source": [
        "%%time\n",
        "\n",
        "NEPS = 25\n",
        "BATCH_SZ = 512\n",
        "\n",
        "(train_images, train_labels), _ = mnist.load_data()\n",
        "train_images = train_images.reshape((60000, 28 * 28))\n",
        "train_images = train_images.astype(\"float32\") / 255\n",
        "\n",
        "random_train_labels = train_labels[:]\n",
        "np.random.shuffle(random_train_labels)\n",
        "\n",
        "model = keras.Sequential([\n",
        "    layers.Dense(512, activation=\"relu\"),\n",
        "    layers.Dense(10, activation=\"softmax\")\n",
        "])\n",
        "model.compile(optimizer=\"rmsprop\",\n",
        "              loss=\"sparse_categorical_crossentropy\",\n",
        "              metrics=[\"accuracy\"])\n",
        "history = model.fit(train_images, random_train_labels,\n",
        "          epochs=NEPS,\n",
        "          batch_size=BATCH_SZ,\n",
        "          validation_split=0.2)"
      ]
    },
    {
      "cell_type": "code",
      "source": [
        "%%time\n",
        "val_acc = history.history[\"val_accuracy\"]\n",
        "print(len(val_acc))\n",
        "\n",
        "\n",
        "val_loss = history.history[\"val_loss\"]\n",
        "print(len(val_loss))\n",
        "\n",
        "val_loss\n",
        "# history.history"
      ],
      "metadata": {
        "id": "7laRr7N54_Hp",
        "outputId": "17deb8a8-c84a-4943-a534-9c135e8fb0b3",
        "colab": {
          "base_uri": "https://localhost:8080/"
        }
      },
      "execution_count": 29,
      "outputs": [
        {
          "output_type": "stream",
          "name": "stdout",
          "text": [
            "25\n",
            "25\n",
            "CPU times: user 1.81 ms, sys: 0 ns, total: 1.81 ms\n",
            "Wall time: 1.74 ms\n"
          ]
        },
        {
          "output_type": "execute_result",
          "data": {
            "text/plain": [
              "[2.308241605758667,\n",
              " 2.3105368614196777,\n",
              " 2.3171586990356445,\n",
              " 2.31620717048645,\n",
              " 2.322821617126465,\n",
              " 2.3271164894104004,\n",
              " 2.348517417907715,\n",
              " 2.3468453884124756,\n",
              " 2.3567304611206055,\n",
              " 2.370302438735962,\n",
              " 2.3769338130950928,\n",
              " 2.384763240814209,\n",
              " 2.4011833667755127,\n",
              " 2.410507917404175,\n",
              " 2.4235875606536865,\n",
              " 2.4359850883483887,\n",
              " 2.4457197189331055,\n",
              " 2.4728097915649414,\n",
              " 2.4858341217041016,\n",
              " 2.5091257095336914,\n",
              " 2.5280001163482666,\n",
              " 2.5545291900634766,\n",
              " 2.5468432903289795,\n",
              " 2.5767641067504883,\n",
              " 2.616004467010498]"
            ]
          },
          "metadata": {},
          "execution_count": 29
        }
      ]
    },
    {
      "cell_type": "code",
      "source": [
        "%%time\n",
        "import matplotlib.pyplot as plt\n",
        "val_acc = history.history[\"val_accuracy\"]\n",
        "val_loss = history.history[\"val_loss\"]\n",
        "epochs = range(1, (NEPS+1))\n",
        "\n",
        "plt.plot(epochs, val_acc, \"g-.\",\n",
        "         label=\"Validation accuracy with SHUFFLED labels\")\n",
        "plt.plot(epochs, val_loss, \"r--\",\n",
        "         label=\"Validation LOSS with SHUFFLED labels\")\n",
        "plt.title(\"Effect of SHUFFLING on validation accuracy\")\n",
        "plt.xlabel(\"Epochs\")\n",
        "plt.ylabel(\"Validation Accuracy/LOSS\")\n",
        "plt.legend()"
      ],
      "metadata": {
        "id": "dWgsUILK4dXT",
        "outputId": "e6d1d253-c6e1-4c67-93a1-f598659ae501",
        "colab": {
          "base_uri": "https://localhost:8080/",
          "height": 524
        }
      },
      "execution_count": 32,
      "outputs": [
        {
          "output_type": "stream",
          "name": "stdout",
          "text": [
            "CPU times: user 31.4 ms, sys: 1.83 ms, total: 33.3 ms\n",
            "Wall time: 36.3 ms\n"
          ]
        },
        {
          "output_type": "execute_result",
          "data": {
            "text/plain": [
              "<matplotlib.legend.Legend at 0x7fa5ce9146a0>"
            ]
          },
          "metadata": {},
          "execution_count": 32
        },
        {
          "output_type": "display_data",
          "data": {
            "text/plain": [
              "<Figure size 640x480 with 1 Axes>"
            ],
            "image/png": "[encoded data removed]"
          },
          "metadata": {}
        }
      ]
    },
    {
      "cell_type": "markdown",
      "metadata": {
        "id": "xsVcI-pMB680"
      },
      "source": [
        "#### The manifold hypothesis"
      ]
    },
    {
      "cell_type": "markdown",
      "metadata": {
        "id": "LvX9p0EaB680"
      },
      "source": [
        "#### Interpolation as a source of generalization"
      ]
    },
    {
      "cell_type": "markdown",
      "metadata": {
        "id": "CYOYWe2gB680"
      },
      "source": [
        "#### Why deep learning works"
      ]
    },
    {
      "cell_type": "markdown",
      "metadata": {
        "id": "PAjZGcYWB680"
      },
      "source": [
        "#### Training data is paramount"
      ]
    },
    {
      "cell_type": "markdown",
      "metadata": {
        "id": "wzjat3PhB681"
      },
      "source": [
        "## Evaluating machine-learning models"
      ]
    },
    {
      "cell_type": "markdown",
      "metadata": {
        "id": "1rWr-fNDB681"
      },
      "source": [
        "### Training, validation, and test sets"
      ]
    },
    {
      "cell_type": "markdown",
      "metadata": {
        "id": "4mXC-UVcB681"
      },
      "source": [
        "#### Simple hold-out validation"
      ]
    },
    {
      "cell_type": "markdown",
      "metadata": {
        "id": "PXR2TsDoB681"
      },
      "source": [
        "#### K-fold validation"
      ]
    },
    {
      "cell_type": "markdown",
      "metadata": {
        "id": "5MFFf_3sB681"
      },
      "source": [
        "#### Iterated K-fold validation with shuffling"
      ]
    },
    {
      "cell_type": "markdown",
      "metadata": {
        "id": "FNK_VR2OB681"
      },
      "source": [
        "### Beating a common-sense baseline"
      ]
    },
    {
      "cell_type": "markdown",
      "metadata": {
        "id": "I5HUYLQ1B681"
      },
      "source": [
        "### Things to keep in mind about model evaluation"
      ]
    },
    {
      "cell_type": "markdown",
      "metadata": {
        "id": "P0A7tKL8B681"
      },
      "source": [
        "## Improving model fit"
      ]
    },
    {
      "cell_type": "markdown",
      "metadata": {
        "id": "JaR20Tx_B681"
      },
      "source": [
        "### Tuning key gradient descent parameters"
      ]
    },
    {
      "cell_type": "markdown",
      "metadata": {
        "id": "fP12X7UwB681"
      },
      "source": [
        "**Training a MNIST model with an incorrectly high learning rate**"
      ]
    },
    {
      "cell_type": "code",
      "execution_count": 33,
      "metadata": {
        "id": "py4-MtooB681",
        "outputId": "6d477649-5100-4db1-b9e9-a01c03efe4c8",
        "colab": {
          "base_uri": "https://localhost:8080/"
        }
      },
      "outputs": [
        {
          "output_type": "stream",
          "name": "stdout",
          "text": [
            "Epoch 1/10\n",
            "375/375 [==============================] - 5s 10ms/step - loss: 796.2311 - accuracy: 0.3389 - val_loss: 2.4674 - val_accuracy: 0.2598\n",
            "Epoch 2/10\n",
            "375/375 [==============================] - 3s 8ms/step - loss: 2.6893 - accuracy: 0.2097 - val_loss: 2.4403 - val_accuracy: 0.2554\n",
            "Epoch 3/10\n",
            "375/375 [==============================] - 1s 4ms/step - loss: 2.4990 - accuracy: 0.2172 - val_loss: 2.1141 - val_accuracy: 0.2278\n",
            "Epoch 4/10\n",
            "375/375 [==============================] - 1s 4ms/step - loss: 2.4435 - accuracy: 0.2012 - val_loss: 2.2805 - val_accuracy: 0.1898\n",
            "Epoch 5/10\n",
            "375/375 [==============================] - 1s 4ms/step - loss: 2.3005 - accuracy: 0.2059 - val_loss: 2.1069 - val_accuracy: 0.2541\n",
            "Epoch 6/10\n",
            "375/375 [==============================] - 1s 3ms/step - loss: 2.2521 - accuracy: 0.2156 - val_loss: 2.1579 - val_accuracy: 0.2076\n",
            "Epoch 7/10\n",
            "375/375 [==============================] - 1s 3ms/step - loss: 2.3200 - accuracy: 0.2111 - val_loss: 2.2627 - val_accuracy: 0.1949\n",
            "Epoch 8/10\n",
            "375/375 [==============================] - 1s 4ms/step - loss: 2.3781 - accuracy: 0.2200 - val_loss: 2.0857 - val_accuracy: 0.2116\n",
            "Epoch 9/10\n",
            "375/375 [==============================] - 2s 4ms/step - loss: 2.2534 - accuracy: 0.2177 - val_loss: 2.3014 - val_accuracy: 0.2157\n",
            "Epoch 10/10\n",
            "375/375 [==============================] - 2s 4ms/step - loss: 2.3308 - accuracy: 0.2065 - val_loss: 2.3128 - val_accuracy: 0.2404\n"
          ]
        },
        {
          "output_type": "execute_result",
          "data": {
            "text/plain": [
              "<keras.src.callbacks.History at 0x7fa5ce8f50f0>"
            ]
          },
          "metadata": {},
          "execution_count": 33
        }
      ],
      "source": [
        "(train_images, train_labels), _ = mnist.load_data()\n",
        "train_images = train_images.reshape((60000, 28 * 28))\n",
        "train_images = train_images.astype(\"float32\") / 255\n",
        "\n",
        "model = keras.Sequential([\n",
        "    layers.Dense(512, activation=\"relu\"),\n",
        "    layers.Dense(10, activation=\"softmax\")\n",
        "])\n",
        "model.compile(optimizer=keras.optimizers.RMSprop(1.),\n",
        "              loss=\"sparse_categorical_crossentropy\",\n",
        "              metrics=[\"accuracy\"])\n",
        "model.fit(train_images, train_labels,\n",
        "          epochs=10,\n",
        "          batch_size=128,\n",
        "          validation_split=0.2)"
      ]
    },
    {
      "cell_type": "markdown",
      "metadata": {
        "id": "yzv49P48B682"
      },
      "source": [
        "**The same model with a more appropriate learning rate**"
      ]
    },
    {
      "cell_type": "code",
      "execution_count": 34,
      "metadata": {
        "id": "CM6EnEHGB682",
        "outputId": "fc34271d-14cf-4e67-cafa-df16ffe7357f",
        "colab": {
          "base_uri": "https://localhost:8080/"
        }
      },
      "outputs": [
        {
          "output_type": "stream",
          "name": "stdout",
          "text": [
            "Epoch 1/10\n",
            "375/375 [==============================] - 2s 4ms/step - loss: 0.3402 - accuracy: 0.9127 - val_loss: 0.1516 - val_accuracy: 0.9585\n",
            "Epoch 2/10\n",
            "375/375 [==============================] - 2s 5ms/step - loss: 0.1276 - accuracy: 0.9646 - val_loss: 0.1302 - val_accuracy: 0.9669\n",
            "Epoch 3/10\n",
            "375/375 [==============================] - 1s 4ms/step - loss: 0.1001 - accuracy: 0.9738 - val_loss: 0.1690 - val_accuracy: 0.9647\n",
            "Epoch 4/10\n",
            "375/375 [==============================] - 1s 4ms/step - loss: 0.0862 - accuracy: 0.9782 - val_loss: 0.1841 - val_accuracy: 0.9660\n",
            "Epoch 5/10\n",
            "375/375 [==============================] - 1s 4ms/step - loss: 0.0715 - accuracy: 0.9823 - val_loss: 0.2071 - val_accuracy: 0.9631\n",
            "Epoch 6/10\n",
            "375/375 [==============================] - 1s 3ms/step - loss: 0.0630 - accuracy: 0.9856 - val_loss: 0.1602 - val_accuracy: 0.9735\n",
            "Epoch 7/10\n",
            "375/375 [==============================] - 1s 3ms/step - loss: 0.0571 - accuracy: 0.9875 - val_loss: 0.1899 - val_accuracy: 0.9734\n",
            "Epoch 8/10\n",
            "375/375 [==============================] - 1s 3ms/step - loss: 0.0491 - accuracy: 0.9886 - val_loss: 0.2585 - val_accuracy: 0.9672\n",
            "Epoch 9/10\n",
            "375/375 [==============================] - 1s 3ms/step - loss: 0.0391 - accuracy: 0.9909 - val_loss: 0.2171 - val_accuracy: 0.9740\n",
            "Epoch 10/10\n",
            "375/375 [==============================] - 1s 4ms/step - loss: 0.0418 - accuracy: 0.9908 - val_loss: 0.2197 - val_accuracy: 0.9746\n"
          ]
        },
        {
          "output_type": "execute_result",
          "data": {
            "text/plain": [
              "<keras.src.callbacks.History at 0x7fa5ce5ea050>"
            ]
          },
          "metadata": {},
          "execution_count": 34
        }
      ],
      "source": [
        "model = keras.Sequential([\n",
        "    layers.Dense(512, activation=\"relu\"),\n",
        "    layers.Dense(10, activation=\"softmax\")\n",
        "])\n",
        "model.compile(optimizer=keras.optimizers.RMSprop(1e-2),\n",
        "              loss=\"sparse_categorical_crossentropy\",\n",
        "              metrics=[\"accuracy\"])\n",
        "model.fit(train_images, train_labels,\n",
        "          epochs=10,\n",
        "          batch_size=128,\n",
        "          validation_split=0.2)"
      ]
    },
    {
      "cell_type": "markdown",
      "metadata": {
        "id": "Or4h9okiB682"
      },
      "source": [
        "### Leveraging better architecture priors"
      ]
    },
    {
      "cell_type": "markdown",
      "metadata": {
        "id": "F8WQIKGhB682"
      },
      "source": [
        "### Increasing model capacity"
      ]
    },
    {
      "cell_type": "markdown",
      "metadata": {
        "id": "0s2S1w8VB682"
      },
      "source": [
        "**A simple logistic regression on MNIST**"
      ]
    },
    {
      "cell_type": "code",
      "execution_count": 38,
      "metadata": {
        "id": "of-lF1D-B682",
        "outputId": "8952204e-e2f2-4c00-e70c-0fc9c0d01679",
        "colab": {
          "base_uri": "https://localhost:8080/"
        }
      },
      "outputs": [
        {
          "output_type": "stream",
          "name": "stdout",
          "text": [
            "Epoch 1/20\n",
            "375/375 [==============================] - 2s 4ms/step - loss: 0.6682 - accuracy: 0.8377 - val_loss: 0.3584 - val_accuracy: 0.9029\n",
            "Epoch 2/20\n",
            "375/375 [==============================] - 1s 3ms/step - loss: 0.3528 - accuracy: 0.9028 - val_loss: 0.3076 - val_accuracy: 0.9151\n",
            "Epoch 3/20\n",
            "375/375 [==============================] - 1s 3ms/step - loss: 0.3178 - accuracy: 0.9111 - val_loss: 0.2919 - val_accuracy: 0.9173\n",
            "Epoch 4/20\n",
            "375/375 [==============================] - 1s 3ms/step - loss: 0.3020 - accuracy: 0.9159 - val_loss: 0.2829 - val_accuracy: 0.9226\n",
            "Epoch 5/20\n",
            "375/375 [==============================] - 1s 3ms/step - loss: 0.2923 - accuracy: 0.9186 - val_loss: 0.2785 - val_accuracy: 0.9222\n",
            "Epoch 6/20\n",
            "375/375 [==============================] - 1s 3ms/step - loss: 0.2858 - accuracy: 0.9206 - val_loss: 0.2734 - val_accuracy: 0.9262\n",
            "Epoch 7/20\n",
            "375/375 [==============================] - 2s 4ms/step - loss: 0.2808 - accuracy: 0.9218 - val_loss: 0.2721 - val_accuracy: 0.9256\n",
            "Epoch 8/20\n",
            "375/375 [==============================] - 1s 4ms/step - loss: 0.2767 - accuracy: 0.9226 - val_loss: 0.2695 - val_accuracy: 0.9272\n",
            "Epoch 9/20\n",
            "375/375 [==============================] - 1s 3ms/step - loss: 0.2732 - accuracy: 0.9242 - val_loss: 0.2686 - val_accuracy: 0.9276\n",
            "Epoch 10/20\n",
            "375/375 [==============================] - 1s 3ms/step - loss: 0.2709 - accuracy: 0.9250 - val_loss: 0.2666 - val_accuracy: 0.9279\n",
            "Epoch 11/20\n",
            "375/375 [==============================] - 1s 3ms/step - loss: 0.2686 - accuracy: 0.9260 - val_loss: 0.2656 - val_accuracy: 0.9277\n",
            "Epoch 12/20\n",
            "375/375 [==============================] - 1s 4ms/step - loss: 0.2665 - accuracy: 0.9261 - val_loss: 0.2638 - val_accuracy: 0.9289\n",
            "Epoch 13/20\n",
            "375/375 [==============================] - 2s 6ms/step - loss: 0.2646 - accuracy: 0.9277 - val_loss: 0.2641 - val_accuracy: 0.9282\n",
            "Epoch 14/20\n",
            "375/375 [==============================] - 2s 5ms/step - loss: 0.2634 - accuracy: 0.9279 - val_loss: 0.2636 - val_accuracy: 0.9286\n",
            "Epoch 15/20\n",
            "375/375 [==============================] - 4s 9ms/step - loss: 0.2616 - accuracy: 0.9276 - val_loss: 0.2642 - val_accuracy: 0.9286\n",
            "Epoch 16/20\n",
            "375/375 [==============================] - 2s 5ms/step - loss: 0.2606 - accuracy: 0.9277 - val_loss: 0.2627 - val_accuracy: 0.9302\n",
            "Epoch 17/20\n",
            "375/375 [==============================] - 1s 3ms/step - loss: 0.2591 - accuracy: 0.9290 - val_loss: 0.2654 - val_accuracy: 0.9278\n",
            "Epoch 18/20\n",
            "375/375 [==============================] - 1s 3ms/step - loss: 0.2581 - accuracy: 0.9292 - val_loss: 0.2620 - val_accuracy: 0.9298\n",
            "Epoch 19/20\n",
            "375/375 [==============================] - 1s 3ms/step - loss: 0.2570 - accuracy: 0.9294 - val_loss: 0.2649 - val_accuracy: 0.9293\n",
            "Epoch 20/20\n",
            "375/375 [==============================] - 1s 3ms/step - loss: 0.2562 - accuracy: 0.9302 - val_loss: 0.2640 - val_accuracy: 0.9298\n",
            "CPU times: user 27.4 s, sys: 2.23 s, total: 29.6 s\n",
            "Wall time: 31 s\n"
          ]
        }
      ],
      "source": [
        "%%time\n",
        "model = keras.Sequential([layers.Dense(10, activation=\"softmax\")])\n",
        "model.compile(optimizer=\"rmsprop\",\n",
        "              loss=\"sparse_categorical_crossentropy\",\n",
        "              metrics=[\"accuracy\"])\n",
        "history_small_model = model.fit(\n",
        "    train_images, train_labels,\n",
        "    epochs=20,\n",
        "    batch_size=128,\n",
        "    validation_split=0.2)"
      ]
    },
    {
      "cell_type": "code",
      "source": [
        "model.summary()"
      ],
      "metadata": {
        "id": "IdHFl7_PK76w",
        "outputId": "62147c2b-4249-4680-e5c4-92f408f6c5ba",
        "colab": {
          "base_uri": "https://localhost:8080/"
        }
      },
      "execution_count": 39,
      "outputs": [
        {
          "output_type": "stream",
          "name": "stdout",
          "text": [
            "Model: \"sequential_11\"\n",
            "_________________________________________________________________\n",
            " Layer (type)                Output Shape              Param #   \n",
            "=================================================================\n",
            " dense_22 (Dense)            (None, 10)                7850      \n",
            "                                                                 \n",
            "=================================================================\n",
            "Total params: 7850 (30.66 KB)\n",
            "Trainable params: 7850 (30.66 KB)\n",
            "Non-trainable params: 0 (0.00 Byte)\n",
            "_________________________________________________________________\n"
          ]
        }
      ]
    },
    {
      "cell_type": "code",
      "source": [
        "model.weights"
      ],
      "metadata": {
        "id": "O1-308-CLH2n",
        "outputId": "327cc0e1-6dc3-420a-d94a-9e50efd63e3c",
        "colab": {
          "base_uri": "https://localhost:8080/"
        }
      },
      "execution_count": 42,
      "outputs": [
        {
          "output_type": "execute_result",
          "data": {
            "text/plain": [
              "[<tf.Variable 'dense_22/kernel:0' shape=(784, 10) dtype=float32, numpy=\n",
              " array([[ 0.01231328,  0.08259266, -0.02686347, ..., -0.01477626,\n",
              "         -0.07045332,  0.07638737],\n",
              "        [ 0.00916862,  0.03543693, -0.01085143, ..., -0.0065509 ,\n",
              "          0.01088772,  0.06041843],\n",
              "        [ 0.00601732, -0.04936075, -0.04209194, ...,  0.07296393,\n",
              "         -0.02179854,  0.01381445],\n",
              "        ...,\n",
              "        [ 0.07911309, -0.00393789,  0.07077666, ..., -0.05339414,\n",
              "          0.00863599,  0.0017453 ],\n",
              "        [ 0.02944767, -0.01906118,  0.06281399, ...,  0.00299919,\n",
              "         -0.07470336,  0.0071958 ],\n",
              "        [-0.08457107, -0.03058334, -0.01448741, ..., -0.07066222,\n",
              "         -0.01402722, -0.0130737 ]], dtype=float32)>,\n",
              " <tf.Variable 'dense_22/bias:0' shape=(10,) dtype=float32, numpy=\n",
              " array([-0.5121241 ,  0.55743235,  0.10210676, -0.35601455,  0.0691886 ,\n",
              "         1.2011241 , -0.22897455,  0.65787256, -1.3093133 , -0.30257934],\n",
              "       dtype=float32)>]"
            ]
          },
          "metadata": {},
          "execution_count": 42
        }
      ]
    },
    {
      "cell_type": "code",
      "execution_count": 43,
      "metadata": {
        "id": "X-ia63h-B682",
        "outputId": "30db94cb-6ad2-4152-f920-0ea92c1e3c33",
        "colab": {
          "base_uri": "https://localhost:8080/",
          "height": 489
        }
      },
      "outputs": [
        {
          "output_type": "execute_result",
          "data": {
            "text/plain": [
              "<matplotlib.legend.Legend at 0x7fa5cdcbfd30>"
            ]
          },
          "metadata": {},
          "execution_count": 43
        },
        {
          "output_type": "display_data",
          "data": {
            "text/plain": [
              "<Figure size 640x480 with 1 Axes>"
            ],
            "image/png": "[encoded data removed]"
          },
          "metadata": {}
        }
      ],
      "source": [
        "import matplotlib.pyplot as plt\n",
        "val_loss = history_small_model.history[\"val_loss\"]\n",
        "epochs = range(1, 21)\n",
        "plt.plot(epochs, val_loss, \"b--\",\n",
        "         label=\"Validation loss\")\n",
        "plt.title(\"Effect of insufficient model capacity (7850 pars) on validation loss\")\n",
        "plt.xlabel(\"Epochs\")\n",
        "plt.ylabel(\"Loss\")\n",
        "plt.legend()"
      ]
    },
    {
      "cell_type": "code",
      "execution_count": 44,
      "metadata": {
        "id": "hrE0xNYPB682",
        "outputId": "8156e619-5e82-4515-97f2-bbe0a0d3b192",
        "colab": {
          "base_uri": "https://localhost:8080/"
        }
      },
      "outputs": [
        {
          "output_type": "stream",
          "name": "stdout",
          "text": [
            "Epoch 1/20\n",
            "375/375 [==============================] - 3s 4ms/step - loss: 0.3729 - accuracy: 0.8955 - val_loss: 0.1891 - val_accuracy: 0.9466\n",
            "Epoch 2/20\n",
            "375/375 [==============================] - 1s 4ms/step - loss: 0.1646 - accuracy: 0.9518 - val_loss: 0.1450 - val_accuracy: 0.9567\n",
            "Epoch 3/20\n",
            "375/375 [==============================] - 1s 4ms/step - loss: 0.1156 - accuracy: 0.9651 - val_loss: 0.1131 - val_accuracy: 0.9671\n",
            "Epoch 4/20\n",
            "375/375 [==============================] - 1s 4ms/step - loss: 0.0885 - accuracy: 0.9730 - val_loss: 0.1045 - val_accuracy: 0.9688\n",
            "Epoch 5/20\n",
            "375/375 [==============================] - 2s 6ms/step - loss: 0.0713 - accuracy: 0.9783 - val_loss: 0.0959 - val_accuracy: 0.9715\n",
            "Epoch 6/20\n",
            "375/375 [==============================] - 1s 4ms/step - loss: 0.0586 - accuracy: 0.9824 - val_loss: 0.1036 - val_accuracy: 0.9703\n",
            "Epoch 7/20\n",
            "375/375 [==============================] - 1s 4ms/step - loss: 0.0490 - accuracy: 0.9852 - val_loss: 0.0966 - val_accuracy: 0.9739\n",
            "Epoch 8/20\n",
            "375/375 [==============================] - 1s 4ms/step - loss: 0.0408 - accuracy: 0.9879 - val_loss: 0.0894 - val_accuracy: 0.9747\n",
            "Epoch 9/20\n",
            "375/375 [==============================] - 1s 4ms/step - loss: 0.0335 - accuracy: 0.9899 - val_loss: 0.0952 - val_accuracy: 0.9747\n",
            "Epoch 10/20\n",
            "375/375 [==============================] - 1s 4ms/step - loss: 0.0290 - accuracy: 0.9909 - val_loss: 0.0899 - val_accuracy: 0.9747\n",
            "Epoch 11/20\n",
            "375/375 [==============================] - 1s 4ms/step - loss: 0.0245 - accuracy: 0.9927 - val_loss: 0.0961 - val_accuracy: 0.9751\n",
            "Epoch 12/20\n",
            "375/375 [==============================] - 1s 4ms/step - loss: 0.0209 - accuracy: 0.9934 - val_loss: 0.0924 - val_accuracy: 0.9767\n",
            "Epoch 13/20\n",
            "375/375 [==============================] - 2s 5ms/step - loss: 0.0180 - accuracy: 0.9942 - val_loss: 0.1030 - val_accuracy: 0.9761\n",
            "Epoch 14/20\n",
            "375/375 [==============================] - 2s 5ms/step - loss: 0.0146 - accuracy: 0.9954 - val_loss: 0.1145 - val_accuracy: 0.9730\n",
            "Epoch 15/20\n",
            "375/375 [==============================] - 1s 4ms/step - loss: 0.0124 - accuracy: 0.9965 - val_loss: 0.1036 - val_accuracy: 0.9772\n",
            "Epoch 16/20\n",
            "375/375 [==============================] - 1s 4ms/step - loss: 0.0111 - accuracy: 0.9967 - val_loss: 0.1032 - val_accuracy: 0.9763\n",
            "Epoch 17/20\n",
            "375/375 [==============================] - 1s 4ms/step - loss: 0.0090 - accuracy: 0.9971 - val_loss: 0.1051 - val_accuracy: 0.9780\n",
            "Epoch 18/20\n",
            "375/375 [==============================] - 1s 4ms/step - loss: 0.0076 - accuracy: 0.9980 - val_loss: 0.1136 - val_accuracy: 0.9757\n",
            "Epoch 19/20\n",
            "375/375 [==============================] - 1s 4ms/step - loss: 0.0070 - accuracy: 0.9980 - val_loss: 0.1283 - val_accuracy: 0.9755\n",
            "Epoch 20/20\n",
            "375/375 [==============================] - 1s 4ms/step - loss: 0.0056 - accuracy: 0.9984 - val_loss: 0.1223 - val_accuracy: 0.9766\n",
            "CPU times: user 31.3 s, sys: 2.37 s, total: 33.6 s\n",
            "Wall time: 31.5 s\n"
          ]
        }
      ],
      "source": [
        "%%time\n",
        "model = keras.Sequential([\n",
        "    layers.Dense(96, activation=\"relu\"),\n",
        "    layers.Dense(96, activation=\"relu\"),\n",
        "    layers.Dense(10, activation=\"softmax\"),\n",
        "])\n",
        "model.compile(optimizer=\"rmsprop\",\n",
        "              loss=\"sparse_categorical_crossentropy\",\n",
        "              metrics=[\"accuracy\"])\n",
        "history_large_model = model.fit(\n",
        "    train_images, train_labels,\n",
        "    epochs=20,\n",
        "    batch_size=128,\n",
        "    validation_split=0.2)"
      ]
    },
    {
      "cell_type": "code",
      "source": [
        "model.summary()"
      ],
      "metadata": {
        "id": "XfsGtBYTLuFv",
        "outputId": "150c5cc9-a422-48b1-f4d0-6e51f7b0b220",
        "colab": {
          "base_uri": "https://localhost:8080/"
        }
      },
      "execution_count": 45,
      "outputs": [
        {
          "output_type": "stream",
          "name": "stdout",
          "text": [
            "Model: \"sequential_12\"\n",
            "_________________________________________________________________\n",
            " Layer (type)                Output Shape              Param #   \n",
            "=================================================================\n",
            " dense_23 (Dense)            (None, 96)                75360     \n",
            "                                                                 \n",
            " dense_24 (Dense)            (None, 96)                9312      \n",
            "                                                                 \n",
            " dense_25 (Dense)            (None, 10)                970       \n",
            "                                                                 \n",
            "=================================================================\n",
            "Total params: 85642 (334.54 KB)\n",
            "Trainable params: 85642 (334.54 KB)\n",
            "Non-trainable params: 0 (0.00 Byte)\n",
            "_________________________________________________________________\n"
          ]
        }
      ]
    },
    {
      "cell_type": "code",
      "source": [
        "import matplotlib.pyplot as plt\n",
        "val_loss_small = history_small_model.history[\"val_loss\"]\n",
        "val_loss_big = history_large_model.history[\"val_loss\"]\n",
        "\n",
        "epochs = range(1, 21)\n",
        "plt.plot(epochs, val_loss_small, \"b--\", label=\"Validation loss for SMALL Capacity (7850 pars) model\")\n",
        "plt.plot(epochs, val_loss_big, \"r--\", label=\"Validation loss LARGE Cap (85642 pars) model\")\n",
        "plt.title(\"Effect of capacity  on validation loss\")\n",
        "plt.xlabel(\"Epochs\")\n",
        "plt.ylabel(\"Loss\")\n",
        "plt.legend()"
      ],
      "metadata": {
        "id": "3Uq9k-y0L4eh",
        "outputId": "95d375f9-172d-4c2e-8ac7-9ebe44060307",
        "colab": {
          "base_uri": "https://localhost:8080/",
          "height": 489
        }
      },
      "execution_count": 51,
      "outputs": [
        {
          "output_type": "execute_result",
          "data": {
            "text/plain": [
              "<matplotlib.legend.Legend at 0x7fa5c6846680>"
            ]
          },
          "metadata": {},
          "execution_count": 51
        },
        {
          "output_type": "display_data",
          "data": {
            "text/plain": [
              "<Figure size 640x480 with 1 Axes>"
            ],
            "image/png": "[encoded data removed]"
          },
          "metadata": {}
        }
      ]
    },
    {
      "cell_type": "markdown",
      "metadata": {
        "id": "N2hSFV8tB683"
      },
      "source": [
        "## Improving generalization"
      ]
    },
    {
      "cell_type": "markdown",
      "metadata": {
        "id": "9Jr7oXo3B683"
      },
      "source": [
        "### Dataset curation"
      ]
    },
    {
      "cell_type": "markdown",
      "metadata": {
        "id": "DG35QIGuB683"
      },
      "source": [
        "### Feature engineering"
      ]
    },
    {
      "cell_type": "markdown",
      "metadata": {
        "id": "A47oM41hB683"
      },
      "source": [
        "### Using early stopping"
      ]
    },
    {
      "cell_type": "markdown",
      "metadata": {
        "id": "7txNEUJKB683"
      },
      "source": [
        "### Regularizing your model"
      ]
    },
    {
      "cell_type": "markdown",
      "metadata": {
        "id": "CHw5Sz4ZB683"
      },
      "source": [
        "#### Reducing the network's size"
      ]
    },
    {
      "cell_type": "markdown",
      "metadata": {
        "id": "vXTcq9Q7B683"
      },
      "source": [
        "**Original model**"
      ]
    },
    {
      "cell_type": "code",
      "execution_count": 54,
      "metadata": {
        "id": "N0AgUyMxB684",
        "outputId": "559c9271-e64c-486c-bf64-0ddabcb78147",
        "colab": {
          "base_uri": "https://localhost:8080/"
        }
      },
      "outputs": [
        {
          "output_type": "stream",
          "name": "stdout",
          "text": [
            "Epoch 1/20\n",
            "30/30 [==============================] - 3s 68ms/step - loss: 0.5205 - accuracy: 0.7898 - val_loss: 0.3948 - val_accuracy: 0.8676\n",
            "Epoch 2/20\n",
            "30/30 [==============================] - 1s 24ms/step - loss: 0.3262 - accuracy: 0.8935 - val_loss: 0.3147 - val_accuracy: 0.8867\n",
            "Epoch 3/20\n",
            "30/30 [==============================] - 1s 25ms/step - loss: 0.2463 - accuracy: 0.9188 - val_loss: 0.2865 - val_accuracy: 0.8901\n",
            "Epoch 4/20\n",
            "30/30 [==============================] - 1s 25ms/step - loss: 0.2005 - accuracy: 0.9321 - val_loss: 0.2760 - val_accuracy: 0.8920\n",
            "Epoch 5/20\n",
            "30/30 [==============================] - 1s 22ms/step - loss: 0.1668 - accuracy: 0.9455 - val_loss: 0.3118 - val_accuracy: 0.8757\n",
            "Epoch 6/20\n",
            "30/30 [==============================] - 1s 24ms/step - loss: 0.1413 - accuracy: 0.9563 - val_loss: 0.3232 - val_accuracy: 0.8735\n",
            "Epoch 7/20\n",
            "30/30 [==============================] - 1s 30ms/step - loss: 0.1197 - accuracy: 0.9629 - val_loss: 0.3278 - val_accuracy: 0.8761\n",
            "Epoch 8/20\n",
            "30/30 [==============================] - 1s 40ms/step - loss: 0.1070 - accuracy: 0.9673 - val_loss: 0.3192 - val_accuracy: 0.8818\n",
            "Epoch 9/20\n",
            "30/30 [==============================] - 1s 26ms/step - loss: 0.0893 - accuracy: 0.9761 - val_loss: 0.3821 - val_accuracy: 0.8651\n",
            "Epoch 10/20\n",
            "30/30 [==============================] - 1s 22ms/step - loss: 0.0812 - accuracy: 0.9773 - val_loss: 0.3587 - val_accuracy: 0.8780\n",
            "Epoch 11/20\n",
            "30/30 [==============================] - 1s 26ms/step - loss: 0.0670 - accuracy: 0.9834 - val_loss: 0.3565 - val_accuracy: 0.8806\n",
            "Epoch 12/20\n",
            "30/30 [==============================] - 1s 25ms/step - loss: 0.0589 - accuracy: 0.9853 - val_loss: 0.4233 - val_accuracy: 0.8665\n",
            "Epoch 13/20\n",
            "30/30 [==============================] - 1s 25ms/step - loss: 0.0482 - accuracy: 0.9896 - val_loss: 0.3951 - val_accuracy: 0.8788\n",
            "Epoch 14/20\n",
            "30/30 [==============================] - 1s 25ms/step - loss: 0.0423 - accuracy: 0.9913 - val_loss: 0.4181 - val_accuracy: 0.8769\n",
            "Epoch 15/20\n",
            "30/30 [==============================] - 1s 25ms/step - loss: 0.0368 - accuracy: 0.9936 - val_loss: 0.4444 - val_accuracy: 0.8751\n",
            "Epoch 16/20\n",
            "30/30 [==============================] - 1s 25ms/step - loss: 0.0308 - accuracy: 0.9940 - val_loss: 0.4645 - val_accuracy: 0.8739\n",
            "Epoch 17/20\n",
            "30/30 [==============================] - 1s 25ms/step - loss: 0.0241 - accuracy: 0.9964 - val_loss: 0.4887 - val_accuracy: 0.8731\n",
            "Epoch 18/20\n",
            "30/30 [==============================] - 1s 26ms/step - loss: 0.0213 - accuracy: 0.9967 - val_loss: 0.5666 - val_accuracy: 0.8651\n",
            "Epoch 19/20\n",
            "30/30 [==============================] - 1s 25ms/step - loss: 0.0171 - accuracy: 0.9983 - val_loss: 0.5357 - val_accuracy: 0.8701\n",
            "Epoch 20/20\n",
            "30/30 [==============================] - 1s 25ms/step - loss: 0.0155 - accuracy: 0.9981 - val_loss: 0.5554 - val_accuracy: 0.8717\n",
            "CPU times: user 24.2 s, sys: 6.39 s, total: 30.6 s\n",
            "Wall time: 29.6 s\n"
          ]
        }
      ],
      "source": [
        "%%time\n",
        "from tensorflow.keras.datasets import imdb\n",
        "(train_data, train_labels), _ = imdb.load_data(num_words=10000)\n",
        "\n",
        "def vectorize_sequences(sequences, dimension=10000):\n",
        "    results = np.zeros((len(sequences), dimension))\n",
        "    for i, sequence in enumerate(sequences):\n",
        "        results[i, sequence] = 1.\n",
        "    return results\n",
        "train_data = vectorize_sequences(train_data)\n",
        "\n",
        "model = keras.Sequential([\n",
        "    layers.Dense(16, activation=\"relu\"),\n",
        "    layers.Dense(16, activation=\"relu\"),\n",
        "    layers.Dense(1, activation=\"sigmoid\")\n",
        "])\n",
        "model.compile(optimizer=\"rmsprop\",\n",
        "              loss=\"binary_crossentropy\",\n",
        "              metrics=[\"accuracy\"])\n",
        "history_original = model.fit(train_data, train_labels,\n",
        "                             epochs=20, batch_size=512, validation_split=0.4)"
      ]
    },
    {
      "cell_type": "markdown",
      "metadata": {
        "id": "h6Bt6ZgQB684"
      },
      "source": [
        "**Version of the model with lower capacity**"
      ]
    },
    {
      "cell_type": "code",
      "execution_count": 1,
      "metadata": {
        "id": "MM_BFjG2B684",
        "outputId": "f70c705c-309a-4658-b3b0-902c34337a6f",
        "colab": {
          "base_uri": "https://localhost:8080/",
          "height": 159
        }
      },
      "outputs": [
        {
          "output_type": "error",
          "ename": "NameError",
          "evalue": "ignored",
          "traceback": [
            "\u001b[0;31m---------------------------------------------------------------------------\u001b[0m",
            "\u001b[0;31mNameError\u001b[0m                                 Traceback (most recent call last)",
            "\u001b[0;32m<timed exec>\u001b[0m in \u001b[0;36m<module>\u001b[0;34m\u001b[0m\n",
            "\u001b[0;31mNameError\u001b[0m: name 'keras' is not defined"
          ]
        }
      ],
      "source": [
        "%%time\n",
        "model = keras.Sequential([\n",
        "    layers.Dense(4, activation=\"relu\"),\n",
        "    layers.Dense(4, activation=\"relu\"),\n",
        "    layers.Dense(1, activation=\"sigmoid\")\n",
        "])\n",
        "model.compile(optimizer=\"rmsprop\",\n",
        "              loss=\"binary_crossentropy\",\n",
        "              metrics=[\"accuracy\"])\n",
        "history_smaller_model = model.fit(\n",
        "    train_data, train_labels,\n",
        "    epochs=20, batch_size=512, validation_split=0.4)"
      ]
    },
    {
      "cell_type": "markdown",
      "metadata": {
        "id": "EvxspSWXB684"
      },
      "source": [
        "**Version of the model with higher capacity**"
      ]
    },
    {
      "cell_type": "code",
      "execution_count": null,
      "metadata": {
        "id": "WzevAAvcB684"
      },
      "outputs": [],
      "source": [
        "model = keras.Sequential([\n",
        "    layers.Dense(512, activation=\"relu\"),\n",
        "    layers.Dense(512, activation=\"relu\"),\n",
        "    layers.Dense(1, activation=\"sigmoid\")\n",
        "])\n",
        "model.compile(optimizer=\"rmsprop\",\n",
        "              loss=\"binary_crossentropy\",\n",
        "              metrics=[\"accuracy\"])\n",
        "history_larger_model = model.fit(\n",
        "    train_data, train_labels,\n",
        "    epochs=20, batch_size=512, validation_split=0.4)"
      ]
    },
    {
      "cell_type": "markdown",
      "metadata": {
        "id": "9BTfmMVdB684"
      },
      "source": [
        "#### Adding weight regularization"
      ]
    },
    {
      "cell_type": "markdown",
      "metadata": {
        "id": "Ko6BTieAB684"
      },
      "source": [
        "**Adding L2 weight regularization to the model**"
      ]
    },
    {
      "cell_type": "code",
      "execution_count": null,
      "metadata": {
        "id": "gsiFue2eB684"
      },
      "outputs": [],
      "source": [
        "from tensorflow.keras import regularizers\n",
        "model = keras.Sequential([\n",
        "    layers.Dense(16,\n",
        "                 kernel_regularizer=regularizers.l2(0.002),\n",
        "                 activation=\"relu\"),\n",
        "    layers.Dense(16,\n",
        "                 kernel_regularizer=regularizers.l2(0.002),\n",
        "                 activation=\"relu\"),\n",
        "    layers.Dense(1, activation=\"sigmoid\")\n",
        "])\n",
        "model.compile(optimizer=\"rmsprop\",\n",
        "              loss=\"binary_crossentropy\",\n",
        "              metrics=[\"accuracy\"])\n",
        "history_l2_reg = model.fit(\n",
        "    train_data, train_labels,\n",
        "    epochs=20, batch_size=512, validation_split=0.4)"
      ]
    },
    {
      "cell_type": "markdown",
      "metadata": {
        "id": "g20GvZ57B685"
      },
      "source": [
        "**Different weight regularizers available in Keras**"
      ]
    },
    {
      "cell_type": "code",
      "execution_count": null,
      "metadata": {
        "id": "BI6pnRvjB685"
      },
      "outputs": [],
      "source": [
        "from tensorflow.keras import regularizers\n",
        "regularizers.l1(0.001)\n",
        "regularizers.l1_l2(l1=0.001, l2=0.001)"
      ]
    },
    {
      "cell_type": "markdown",
      "metadata": {
        "id": "FdmnNHBqB685"
      },
      "source": [
        "#### Adding dropout"
      ]
    },
    {
      "cell_type": "markdown",
      "metadata": {
        "id": "U4u1gZayB685"
      },
      "source": [
        "**Adding dropout to the IMDB model**"
      ]
    },
    {
      "cell_type": "code",
      "execution_count": null,
      "metadata": {
        "id": "eLG67IXsB685"
      },
      "outputs": [],
      "source": [
        "model = keras.Sequential([\n",
        "    layers.Dense(16, activation=\"relu\"),\n",
        "    layers.Dropout(0.5),\n",
        "    layers.Dense(16, activation=\"relu\"),\n",
        "    layers.Dropout(0.5),\n",
        "    layers.Dense(1, activation=\"sigmoid\")\n",
        "])\n",
        "model.compile(optimizer=\"rmsprop\",\n",
        "              loss=\"binary_crossentropy\",\n",
        "              metrics=[\"accuracy\"])\n",
        "history_dropout = model.fit(\n",
        "    train_data, train_labels,\n",
        "    epochs=20, batch_size=512, validation_split=0.4)"
      ]
    },
    {
      "cell_type": "markdown",
      "metadata": {
        "id": "NBjEIRMxB685"
      },
      "source": [
        "## Summary"
      ]
    }
  ],
  "metadata": {
    "colab": {
      "name": "chapter05_fundamentals-of-ml.i",
      "provenance": [],
      "toc_visible": true,
      "gpuType": "V100"
    },
    "kernelspec": {
      "display_name": "Python 3",
      "name": "python3"
    },
    "language_info": {
      "codemirror_mode": {
        "name": "ipython",
        "version": 3
      },
      "file_extension": ".py",
      "mimetype": "text/x-python",
      "name": "python",
      "nbconvert_exporter": "python",
      "pygments_lexer": "ipython3",
      "version": "3.7.0"
    },
    "accelerator": "GPU"
  },
  "nbformat": 4,
  "nbformat_minor": 0
}